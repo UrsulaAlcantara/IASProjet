{
 "cells": [
  {
   "cell_type": "code",
   "execution_count": 1,
   "metadata": {},
   "outputs": [],
   "source": [
    "import pandas as pd\n",
    "import numpy as np\n",
    "import matplotlib.pyplot as plt"
   ]
  },
  {
   "cell_type": "code",
   "execution_count": 3,
   "metadata": {},
   "outputs": [],
   "source": [
    "import preprocessing"
   ]
  },
  {
   "cell_type": "code",
   "execution_count": 4,
   "metadata": {},
   "outputs": [],
   "source": [
    "dataset = pd.read_csv(\"dataset.csv\", sep=\";\")"
   ]
  },
  {
   "cell_type": "code",
   "execution_count": 6,
   "metadata": {},
   "outputs": [
    {
     "name": "stdout",
     "output_type": "stream",
     "text": [
      "Cleaning...\n",
      "<class 'pandas.core.frame.DataFrame'>\n",
      "Int64Index: 104062 entries, 0 to 104061\n",
      "Data columns (total 23 columns):\n",
      " #   Column             Non-Null Count   Dtype  \n",
      "---  ------             --------------   -----  \n",
      " 0   index              104062 non-null  int64  \n",
      " 1   symbol             104062 non-null  object \n",
      " 2   longName           103730 non-null  object \n",
      " 3   state              78795 non-null   object \n",
      " 4   country            89324 non-null   object \n",
      " 5   industry           89072 non-null   object \n",
      " 6   sector             89072 non-null   object \n",
      " 7   fullTimeEmployees  73372 non-null   float64\n",
      " 8   Open0              104062 non-null  float64\n",
      " 9   High0              104062 non-null  float64\n",
      " 10  Low0               104062 non-null  float64\n",
      " 11  Close0             104062 non-null  float64\n",
      " 12  Adj Close0         104062 non-null  float64\n",
      " 13  Volume0            104062 non-null  float64\n",
      " 14  day                104062 non-null  int64  \n",
      " 15  month              104062 non-null  int64  \n",
      " 16  year               104062 non-null  int64  \n",
      " 17  Open1              104062 non-null  float64\n",
      " 18  High1              104062 non-null  float64\n",
      " 19  Low1               104062 non-null  float64\n",
      " 20  Close1             104062 non-null  float64\n",
      " 21  Adj Close1         104062 non-null  float64\n",
      " 22  Volume1            104062 non-null  float64\n",
      "dtypes: float64(13), int64(4), object(6)\n",
      "memory usage: 19.1+ MB\n",
      "None\n",
      "Refactoring...\n",
      "PCA...\n",
      "standardize...\n"
     ]
    }
   ],
   "source": [
    "index, X, Y = preprocessing.preprocessing(dataset)"
   ]
  },
  {
   "cell_type": "code",
   "execution_count": 7,
   "metadata": {},
   "outputs": [],
   "source": [
    "from sklearn.model_selection import train_test_split"
   ]
  },
  {
   "cell_type": "code",
   "execution_count": 8,
   "metadata": {},
   "outputs": [],
   "source": [
    "X_train, X_test, Y_train, Y_test = train_test_split(X, Y, test_size=0.3, random_state=0)"
   ]
  },
  {
   "cell_type": "code",
   "execution_count": 25,
   "metadata": {},
   "outputs": [],
   "source": [
    "import sklearn.model_selection\n",
    "import sklearn.svm\n",
    "import sklearn.linear_model\n",
    "import sklearn.ensemble"
   ]
  },
  {
   "cell_type": "code",
   "execution_count": 23,
   "metadata": {},
   "outputs": [],
   "source": [
    "def test_model(model, X, Y):\n",
    "    kf = sklearn.model_selection.KFold(n_splits=10, shuffle=True)\n",
    "    scores = sklearn.model_selection.cross_val_score(model, X, Y, cv=kf,  n_jobs=10, verbose=1)\n",
    "    print(f\"{type(model).__name__}:  Moyenne de score: {scores.mean()} et écart-type {scores.std()} \")\n"
   ]
  },
  {
   "cell_type": "code",
   "execution_count": 35,
   "metadata": {},
   "outputs": [
    {
     "name": "stderr",
     "output_type": "stream",
     "text": [
      "[Parallel(n_jobs=10)]: Using backend LokyBackend with 10 concurrent workers.\n",
      "[Parallel(n_jobs=10)]: Done   2 out of  10 | elapsed:    4.8s remaining:   19.3s\n",
      "[Parallel(n_jobs=10)]: Done  10 out of  10 | elapsed:    5.6s finished\n",
      "[Parallel(n_jobs=10)]: Using backend LokyBackend with 10 concurrent workers.\n"
     ]
    },
    {
     "name": "stdout",
     "output_type": "stream",
     "text": [
      "BayesianRidge:  Moyenne de score: 0.04976090433375049 et écart-type 0.05830726961211547 \n"
     ]
    },
    {
     "name": "stderr",
     "output_type": "stream",
     "text": [
      "[Parallel(n_jobs=10)]: Done   2 out of  10 | elapsed:    2.4s remaining:    9.7s\n",
      "[Parallel(n_jobs=10)]: Done  10 out of  10 | elapsed:    2.6s finished\n"
     ]
    },
    {
     "name": "stdout",
     "output_type": "stream",
     "text": [
      "LinearRegression:  Moyenne de score: 0.055362290592697636 et écart-type 0.045788567790507835 \n"
     ]
    },
    {
     "name": "stderr",
     "output_type": "stream",
     "text": [
      "[Parallel(n_jobs=10)]: Using backend LokyBackend with 10 concurrent workers.\n"
     ]
    },
    {
     "name": "stdout",
     "output_type": "stream",
     "text": [
      "Ridge:  Moyenne de score: 0.04610981925734553 et écart-type 0.044989988081148555 \n"
     ]
    },
    {
     "name": "stderr",
     "output_type": "stream",
     "text": [
      "[Parallel(n_jobs=10)]: Done   2 out of  10 | elapsed:    1.2s remaining:    4.6s\n",
      "[Parallel(n_jobs=10)]: Done  10 out of  10 | elapsed:    1.3s finished\n"
     ]
    }
   ],
   "source": [
    "models = [sklearn.linear_model.BayesianRidge(),\n",
    "          sklearn.linear_model.LinearRegression(),\n",
    "          sklearn.linear_model.Ridge()]\n",
    "\n",
    "for model in models:\n",
    "    test_model(model, X_train, Y_train)\n"
   ]
  },
  {
   "cell_type": "code",
   "execution_count": 32,
   "metadata": {},
   "outputs": [
    {
     "name": "stderr",
     "output_type": "stream",
     "text": [
      "[Parallel(n_jobs=10)]: Using backend LokyBackend with 10 concurrent workers.\n",
      "[Parallel(n_jobs=10)]: Done   2 out of  10 | elapsed:   11.0s remaining:   43.9s\n",
      "[Parallel(n_jobs=10)]: Done  10 out of  10 | elapsed:   11.7s finished\n",
      "[Parallel(n_jobs=10)]: Using backend LokyBackend with 10 concurrent workers.\n"
     ]
    },
    {
     "name": "stdout",
     "output_type": "stream",
     "text": [
      "RandomForestRegressor:  Moyenne de score: -0.20534789960502503 et écart-type 0.6271378035038564 \n"
     ]
    },
    {
     "name": "stderr",
     "output_type": "stream",
     "text": [
      "[Parallel(n_jobs=10)]: Done   2 out of  10 | elapsed:   22.0s remaining:  1.5min\n",
      "[Parallel(n_jobs=10)]: Done  10 out of  10 | elapsed:   22.9s finished\n",
      "[Parallel(n_jobs=10)]: Using backend LokyBackend with 10 concurrent workers.\n"
     ]
    },
    {
     "name": "stdout",
     "output_type": "stream",
     "text": [
      "RandomForestRegressor:  Moyenne de score: 0.04205117585073431 et écart-type 0.103173046517121 \n"
     ]
    },
    {
     "name": "stderr",
     "output_type": "stream",
     "text": [
      "[Parallel(n_jobs=10)]: Done   2 out of  10 | elapsed:   32.9s remaining:  2.2min\n",
      "[Parallel(n_jobs=10)]: Done  10 out of  10 | elapsed:   33.7s finished\n",
      "[Parallel(n_jobs=10)]: Using backend LokyBackend with 10 concurrent workers.\n"
     ]
    },
    {
     "name": "stdout",
     "output_type": "stream",
     "text": [
      "RandomForestRegressor:  Moyenne de score: 0.08124325499292853 et écart-type 0.10861757844252358 \n"
     ]
    },
    {
     "name": "stderr",
     "output_type": "stream",
     "text": [
      "[Parallel(n_jobs=10)]: Done   2 out of  10 | elapsed:   43.3s remaining:  2.9min\n"
     ]
    },
    {
     "name": "stdout",
     "output_type": "stream",
     "text": [
      "RandomForestRegressor:  Moyenne de score: 0.07079181809611793 et écart-type 0.15016276044438176 \n"
     ]
    },
    {
     "name": "stderr",
     "output_type": "stream",
     "text": [
      "[Parallel(n_jobs=10)]: Done  10 out of  10 | elapsed:   45.0s finished\n"
     ]
    }
   ],
   "source": [
    "for i in range(1, 5):\n",
    "    test_model(sklearn.ensemble.RandomForestRegressor(n_estimators=20, max_depth=i), X_train, Y_train)"
   ]
  },
  {
   "cell_type": "code",
   "execution_count": 39,
   "metadata": {},
   "outputs": [
    {
     "name": "stdout",
     "output_type": "stream",
     "text": [
      "Fitting 10 folds for each of 2 candidates, totalling 20 fits\n"
     ]
    },
    {
     "data": {
      "text/html": "<div>\n<style scoped>\n    .dataframe tbody tr th:only-of-type {\n        vertical-align: middle;\n    }\n\n    .dataframe tbody tr th {\n        vertical-align: top;\n    }\n\n    .dataframe thead th {\n        text-align: right;\n    }\n</style>\n<table border=\"1\" class=\"dataframe\">\n  <thead>\n    <tr style=\"text-align: right;\">\n      <th></th>\n      <th>mean_fit_time</th>\n      <th>std_fit_time</th>\n      <th>mean_score_time</th>\n      <th>std_score_time</th>\n      <th>param_fit_intercept</th>\n      <th>params</th>\n      <th>split0_test_score</th>\n      <th>split1_test_score</th>\n      <th>split2_test_score</th>\n      <th>split3_test_score</th>\n      <th>split4_test_score</th>\n      <th>split5_test_score</th>\n      <th>split6_test_score</th>\n      <th>split7_test_score</th>\n      <th>split8_test_score</th>\n      <th>split9_test_score</th>\n      <th>mean_test_score</th>\n      <th>std_test_score</th>\n      <th>rank_test_score</th>\n    </tr>\n  </thead>\n  <tbody>\n    <tr>\n      <th>0</th>\n      <td>2.433059</td>\n      <td>0.179224</td>\n      <td>0.022103</td>\n      <td>0.008683</td>\n      <td>True</td>\n      <td>{'fit_intercept': True}</td>\n      <td>0.060882</td>\n      <td>-0.033024</td>\n      <td>0.074445</td>\n      <td>0.054397</td>\n      <td>0.004514</td>\n      <td>0.043966</td>\n      <td>-0.026453</td>\n      <td>0.135185</td>\n      <td>0.138746</td>\n      <td>0.074083</td>\n      <td>0.052674</td>\n      <td>0.055874</td>\n      <td>1</td>\n    </tr>\n    <tr>\n      <th>1</th>\n      <td>2.251626</td>\n      <td>0.091280</td>\n      <td>0.011514</td>\n      <td>0.007034</td>\n      <td>False</td>\n      <td>{'fit_intercept': False}</td>\n      <td>0.037466</td>\n      <td>-0.051830</td>\n      <td>0.049651</td>\n      <td>0.029161</td>\n      <td>-0.007628</td>\n      <td>0.036153</td>\n      <td>-0.048536</td>\n      <td>0.116361</td>\n      <td>0.119062</td>\n      <td>0.048590</td>\n      <td>0.032845</td>\n      <td>0.055150</td>\n      <td>2</td>\n    </tr>\n  </tbody>\n</table>\n</div>",
      "text/plain": "   mean_fit_time  std_fit_time  mean_score_time  std_score_time  \\\n0       2.433059      0.179224         0.022103        0.008683   \n1       2.251626      0.091280         0.011514        0.007034   \n\n  param_fit_intercept                    params  split0_test_score  \\\n0                True   {'fit_intercept': True}           0.060882   \n1               False  {'fit_intercept': False}           0.037466   \n\n   split1_test_score  split2_test_score  split3_test_score  split4_test_score  \\\n0          -0.033024           0.074445           0.054397           0.004514   \n1          -0.051830           0.049651           0.029161          -0.007628   \n\n   split5_test_score  split6_test_score  split7_test_score  split8_test_score  \\\n0           0.043966          -0.026453           0.135185           0.138746   \n1           0.036153          -0.048536           0.116361           0.119062   \n\n   split9_test_score  mean_test_score  std_test_score  rank_test_score  \n0           0.074083         0.052674        0.055874                1  \n1           0.048590         0.032845        0.055150                2  "
     },
     "execution_count": 39,
     "metadata": {},
     "output_type": "execute_result"
    }
   ],
   "source": [
    "parameters = {'fit_intercept': [True, False]}\n",
    "reg = sklearn.linear_model.LinearRegression()\n",
    "\n",
    "grid_search = sklearn.model_selection.GridSearchCV(\n",
    "    reg, parameters, cv=sklearn.model_selection.KFold(n_splits=10, shuffle=True), n_jobs=10, verbose=1)\n",
    "\n",
    "grid_search.fit(X_train, Y_train)\n",
    "\n",
    "grid_search.best_params_, grid_search.best_score_\n",
    "\n",
    "pd.DataFrame(grid_search.cv_results_)"
   ]
  },
  {
   "cell_type": "code",
   "execution_count": 46,
   "metadata": {},
   "outputs": [
    {
     "name": "stdout",
     "output_type": "stream",
     "text": [
      "Fitting 8 folds for each of 12 candidates, totalling 96 fits\n"
     ]
    },
    {
     "data": {
      "text/plain": "({'alpha_1': 1e-07, 'alpha_2': 0.01, 'n_iter': 30}, 0.05681939114625437)"
     },
     "execution_count": 46,
     "metadata": {},
     "output_type": "execute_result"
    }
   ],
   "source": [
    "parameters = {\"n_iter\": [30, 40, 50],\n",
    "              \"alpha_1\": [1e-6, 1e-7],\n",
    "              \"alpha_2\": [1e-2, 1e-3]}\n",
    "\n",
    "reg = sklearn.linear_model.BayesianRidge()\n",
    "\n",
    "grid_search = sklearn.model_selection.GridSearchCV(\n",
    "    reg, parameters, cv=sklearn.model_selection.KFold(n_splits=8, shuffle=True), n_jobs=10, verbose=2)\n",
    "\n",
    "grid_search.fit(X_train, Y_train)\n",
    "\n",
    "grid_search.best_params_, grid_search.best_score_\n",
    "# pd.DataFrame(grid_search.cv_results_)"
   ]
  }
 ],
 "metadata": {
  "kernelspec": {
   "display_name": "Python 3.9.2 64-bit",
   "name": "python392jvsc74a57bd0767d51c1340bd893661ea55ea3124f6de3c7a262a8b4abca0554b478b1e2ff90"
  },
  "language_info": {
   "codemirror_mode": {
    "name": "ipython",
    "version": 3
   },
   "file_extension": ".py",
   "mimetype": "text/x-python",
   "name": "python",
   "nbconvert_exporter": "python",
   "pygments_lexer": "ipython3",
   "version": "3.9.2"
  },
  "orig_nbformat": 2
 },
 "nbformat": 4,
 "nbformat_minor": 2
}