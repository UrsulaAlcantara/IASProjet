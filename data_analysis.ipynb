{
 "cells": [
  {
   "cell_type": "code",
   "execution_count": 1,
   "metadata": {},
   "outputs": [],
   "source": [
    "import pandas as pd\n",
    "import numpy as np"
   ]
  },
  {
   "cell_type": "code",
   "execution_count": 21,
   "metadata": {},
   "outputs": [
    {
     "data": {
      "text/html": "<div>\n<style scoped>\n    .dataframe tbody tr th:only-of-type {\n        vertical-align: middle;\n    }\n\n    .dataframe tbody tr th {\n        vertical-align: top;\n    }\n\n    .dataframe thead th {\n        text-align: right;\n    }\n</style>\n<table border=\"1\" class=\"dataframe\">\n  <thead>\n    <tr style=\"text-align: right;\">\n      <th></th>\n      <th>symbol</th>\n      <th>longName</th>\n      <th>state</th>\n      <th>country</th>\n      <th>industry</th>\n      <th>sector</th>\n      <th>fullTimeEmployees</th>\n      <th>Open0</th>\n      <th>High0</th>\n      <th>Low0</th>\n      <th>Close0</th>\n      <th>Adj Close0</th>\n      <th>Volume0</th>\n      <th>Open1</th>\n      <th>High1</th>\n      <th>Low1</th>\n      <th>Close1</th>\n      <th>Adj Close1</th>\n      <th>Volume1</th>\n    </tr>\n  </thead>\n  <tbody>\n    <tr>\n      <th>0</th>\n      <td>PLYM</td>\n      <td>Plymouth Industrial REIT, Inc.</td>\n      <td>MA</td>\n      <td>United States</td>\n      <td>REIT—Industrial</td>\n      <td>Real Estate</td>\n      <td>34.0</td>\n      <td>14.650000</td>\n      <td>14.960000</td>\n      <td>14.340000</td>\n      <td>14.920000</td>\n      <td>14.744883</td>\n      <td>215100.0</td>\n      <td>15.32</td>\n      <td>15.340000</td>\n      <td>14.88</td>\n      <td>14.990000</td>\n      <td>14.814060</td>\n      <td>466500.0</td>\n    </tr>\n    <tr>\n      <th>1</th>\n      <td>MEDP</td>\n      <td>Medpace Holdings, Inc.</td>\n      <td>OH</td>\n      <td>United States</td>\n      <td>Diagnostics &amp; Research</td>\n      <td>Healthcare</td>\n      <td>3600.0</td>\n      <td>134.210007</td>\n      <td>138.240005</td>\n      <td>132.309998</td>\n      <td>137.580002</td>\n      <td>137.580002</td>\n      <td>140200.0</td>\n      <td>139.00</td>\n      <td>143.660004</td>\n      <td>139.00</td>\n      <td>143.300003</td>\n      <td>143.300003</td>\n      <td>196400.0</td>\n    </tr>\n    <tr>\n      <th>2</th>\n      <td>VALX</td>\n      <td>Validea Market Legends ETF</td>\n      <td>NaN</td>\n      <td>NaN</td>\n      <td>NaN</td>\n      <td>NaN</td>\n      <td>NaN</td>\n      <td>NaN</td>\n      <td>NaN</td>\n      <td>NaN</td>\n      <td>NaN</td>\n      <td>NaN</td>\n      <td>NaN</td>\n      <td>NaN</td>\n      <td>NaN</td>\n      <td>NaN</td>\n      <td>NaN</td>\n      <td>NaN</td>\n      <td>NaN</td>\n    </tr>\n    <tr>\n      <th>3</th>\n      <td>KELYB</td>\n      <td>Kelly Services, Inc.</td>\n      <td>MI</td>\n      <td>United States</td>\n      <td>Staffing &amp; Employment Services</td>\n      <td>Industrials</td>\n      <td>7100.0</td>\n      <td>19.170000</td>\n      <td>19.610001</td>\n      <td>19.010000</td>\n      <td>19.580000</td>\n      <td>19.580000</td>\n      <td>5200.0</td>\n      <td>19.76</td>\n      <td>19.760000</td>\n      <td>19.15</td>\n      <td>19.709999</td>\n      <td>19.709999</td>\n      <td>1100.0</td>\n    </tr>\n    <tr>\n      <th>4</th>\n      <td>LVIN</td>\n      <td>Hartford Multifactor Low Volatility Internatio...</td>\n      <td>NaN</td>\n      <td>NaN</td>\n      <td>NaN</td>\n      <td>NaN</td>\n      <td>NaN</td>\n      <td>NaN</td>\n      <td>NaN</td>\n      <td>NaN</td>\n      <td>NaN</td>\n      <td>NaN</td>\n      <td>NaN</td>\n      <td>NaN</td>\n      <td>NaN</td>\n      <td>NaN</td>\n      <td>NaN</td>\n      <td>NaN</td>\n      <td>NaN</td>\n    </tr>\n  </tbody>\n</table>\n</div>",
      "text/plain": "  symbol                                           longName state  \\\n0   PLYM                     Plymouth Industrial REIT, Inc.    MA   \n1   MEDP                             Medpace Holdings, Inc.    OH   \n2   VALX                         Validea Market Legends ETF   NaN   \n3  KELYB                               Kelly Services, Inc.    MI   \n4   LVIN  Hartford Multifactor Low Volatility Internatio...   NaN   \n\n         country                        industry       sector  \\\n0  United States                 REIT—Industrial  Real Estate   \n1  United States          Diagnostics & Research   Healthcare   \n2            NaN                             NaN          NaN   \n3  United States  Staffing & Employment Services  Industrials   \n4            NaN                             NaN          NaN   \n\n   fullTimeEmployees       Open0       High0        Low0      Close0  \\\n0               34.0   14.650000   14.960000   14.340000   14.920000   \n1             3600.0  134.210007  138.240005  132.309998  137.580002   \n2                NaN         NaN         NaN         NaN         NaN   \n3             7100.0   19.170000   19.610001   19.010000   19.580000   \n4                NaN         NaN         NaN         NaN         NaN   \n\n   Adj Close0   Volume0   Open1       High1    Low1      Close1  Adj Close1  \\\n0   14.744883  215100.0   15.32   15.340000   14.88   14.990000   14.814060   \n1  137.580002  140200.0  139.00  143.660004  139.00  143.300003  143.300003   \n2         NaN       NaN     NaN         NaN     NaN         NaN         NaN   \n3   19.580000    5200.0   19.76   19.760000   19.15   19.709999   19.709999   \n4         NaN       NaN     NaN         NaN     NaN         NaN         NaN   \n\n    Volume1  \n0  466500.0  \n1  196400.0  \n2       NaN  \n3    1100.0  \n4       NaN  "
     },
     "execution_count": 21,
     "metadata": {},
     "output_type": "execute_result"
    }
   ],
   "source": [
    "dataset = pd.read_csv(\"dataset.csv\", sep=\";\")\n",
    "dataset.head(5)"
   ]
  },
  {
   "cell_type": "code",
   "execution_count": 3,
   "metadata": {},
   "outputs": [
    {
     "data": {
      "text/plain": "(Index(['symbol', 'longName', 'state', 'country', 'industry', 'sector',\n        'fullTimeEmployees', 'Open0', 'High0', 'Low0', 'Close0', 'Adj Close0',\n        'Volume0', 'Open1', 'High1', 'Low1', 'Close1', 'Adj Close1', 'Volume1'],\n       dtype='object'),\n (5747, 19))"
     },
     "execution_count": 3,
     "metadata": {},
     "output_type": "execute_result"
    }
   ],
   "source": [
    "dataset.columns, dataset.shape"
   ]
  },
  {
   "cell_type": "code",
   "execution_count": 4,
   "metadata": {},
   "outputs": [
    {
     "name": "stdout",
     "output_type": "stream",
     "text": [
      "<class 'pandas.core.frame.DataFrame'>\n",
      "RangeIndex: 5747 entries, 0 to 5746\n",
      "Data columns (total 19 columns):\n",
      " #   Column             Non-Null Count  Dtype  \n",
      "---  ------             --------------  -----  \n",
      " 0   symbol             5747 non-null   object \n",
      " 1   longName           5428 non-null   object \n",
      " 2   state              3792 non-null   object \n",
      " 3   country            4299 non-null   object \n",
      " 4   industry           4281 non-null   object \n",
      " 5   sector             4281 non-null   object \n",
      " 6   fullTimeEmployees  3520 non-null   float64\n",
      " 7   Open0              4938 non-null   float64\n",
      " 8   High0              4938 non-null   float64\n",
      " 9   Low0               4938 non-null   float64\n",
      " 10  Close0             4938 non-null   float64\n",
      " 11  Adj Close0         4938 non-null   float64\n",
      " 12  Volume0            4938 non-null   float64\n",
      " 13  Open1              4938 non-null   float64\n",
      " 14  High1              4938 non-null   float64\n",
      " 15  Low1               4938 non-null   float64\n",
      " 16  Close1             4938 non-null   float64\n",
      " 17  Adj Close1         4938 non-null   float64\n",
      " 18  Volume1            4938 non-null   float64\n",
      "dtypes: float64(13), object(6)\n",
      "memory usage: 853.2+ KB\n"
     ]
    }
   ],
   "source": [
    "dataset.info()"
   ]
  },
  {
   "cell_type": "code",
   "execution_count": 5,
   "metadata": {},
   "outputs": [
    {
     "data": {
      "text/plain": "symbol                  0\nlongName              319\nstate                1955\ncountry              1448\nindustry             1466\nsector               1466\nfullTimeEmployees    2227\nOpen0                 809\nHigh0                 809\nLow0                  809\nClose0                809\nAdj Close0            809\nVolume0               809\nOpen1                 809\nHigh1                 809\nLow1                  809\nClose1                809\nAdj Close1            809\nVolume1               809\ndtype: int64"
     },
     "execution_count": 5,
     "metadata": {},
     "output_type": "execute_result"
    }
   ],
   "source": [
    "dataset.isnull().sum() "
   ]
  },
  {
   "cell_type": "code",
   "execution_count": 6,
   "metadata": {},
   "outputs": [
    {
     "data": {
      "text/html": "<div>\n<style scoped>\n    .dataframe tbody tr th:only-of-type {\n        vertical-align: middle;\n    }\n\n    .dataframe tbody tr th {\n        vertical-align: top;\n    }\n\n    .dataframe thead th {\n        text-align: right;\n    }\n</style>\n<table border=\"1\" class=\"dataframe\">\n  <thead>\n    <tr style=\"text-align: right;\">\n      <th></th>\n      <th>symbol</th>\n      <th>longName</th>\n      <th>state</th>\n      <th>country</th>\n      <th>industry</th>\n      <th>sector</th>\n      <th>fullTimeEmployees</th>\n      <th>Open0</th>\n      <th>High0</th>\n      <th>Low0</th>\n      <th>Close0</th>\n      <th>Adj Close0</th>\n      <th>Volume0</th>\n      <th>Open1</th>\n      <th>High1</th>\n      <th>Low1</th>\n      <th>Close1</th>\n      <th>Adj Close1</th>\n      <th>Volume1</th>\n    </tr>\n  </thead>\n  <tbody>\n    <tr>\n      <th>count</th>\n      <td>5747</td>\n      <td>5428</td>\n      <td>3792</td>\n      <td>4299</td>\n      <td>4281</td>\n      <td>4281</td>\n      <td>3.520000e+03</td>\n      <td>4938.000000</td>\n      <td>4938.000000</td>\n      <td>4938.000000</td>\n      <td>4938.000000</td>\n      <td>4938.000000</td>\n      <td>4.938000e+03</td>\n      <td>4938.000000</td>\n      <td>4938.000000</td>\n      <td>4938.000000</td>\n      <td>4938.000000</td>\n      <td>4938.000000</td>\n      <td>4.938000e+03</td>\n    </tr>\n    <tr>\n      <th>unique</th>\n      <td>5747</td>\n      <td>5300</td>\n      <td>70</td>\n      <td>48</td>\n      <td>145</td>\n      <td>12</td>\n      <td>NaN</td>\n      <td>NaN</td>\n      <td>NaN</td>\n      <td>NaN</td>\n      <td>NaN</td>\n      <td>NaN</td>\n      <td>NaN</td>\n      <td>NaN</td>\n      <td>NaN</td>\n      <td>NaN</td>\n      <td>NaN</td>\n      <td>NaN</td>\n      <td>NaN</td>\n    </tr>\n    <tr>\n      <th>top</th>\n      <td>THO</td>\n      <td>CHS Inc.</td>\n      <td>CA</td>\n      <td>United States</td>\n      <td>Asset Management</td>\n      <td>Financial Services</td>\n      <td>NaN</td>\n      <td>NaN</td>\n      <td>NaN</td>\n      <td>NaN</td>\n      <td>NaN</td>\n      <td>NaN</td>\n      <td>NaN</td>\n      <td>NaN</td>\n      <td>NaN</td>\n      <td>NaN</td>\n      <td>NaN</td>\n      <td>NaN</td>\n      <td>NaN</td>\n    </tr>\n    <tr>\n      <th>freq</th>\n      <td>1</td>\n      <td>5</td>\n      <td>539</td>\n      <td>3613</td>\n      <td>497</td>\n      <td>1092</td>\n      <td>NaN</td>\n      <td>NaN</td>\n      <td>NaN</td>\n      <td>NaN</td>\n      <td>NaN</td>\n      <td>NaN</td>\n      <td>NaN</td>\n      <td>NaN</td>\n      <td>NaN</td>\n      <td>NaN</td>\n      <td>NaN</td>\n      <td>NaN</td>\n      <td>NaN</td>\n    </tr>\n    <tr>\n      <th>mean</th>\n      <td>NaN</td>\n      <td>NaN</td>\n      <td>NaN</td>\n      <td>NaN</td>\n      <td>NaN</td>\n      <td>NaN</td>\n      <td>1.374761e+04</td>\n      <td>213.776441</td>\n      <td>215.615373</td>\n      <td>210.267543</td>\n      <td>213.230684</td>\n      <td>213.105344</td>\n      <td>1.906070e+06</td>\n      <td>227.299259</td>\n      <td>230.812118</td>\n      <td>226.020147</td>\n      <td>229.010424</td>\n      <td>228.884120</td>\n      <td>1.752789e+06</td>\n    </tr>\n    <tr>\n      <th>std</th>\n      <td>NaN</td>\n      <td>NaN</td>\n      <td>NaN</td>\n      <td>NaN</td>\n      <td>NaN</td>\n      <td>NaN</td>\n      <td>5.848558e+04</td>\n      <td>5807.821383</td>\n      <td>5834.202676</td>\n      <td>5765.131289</td>\n      <td>5808.159591</td>\n      <td>5808.161677</td>\n      <td>1.128360e+07</td>\n      <td>5924.656340</td>\n      <td>5994.088743</td>\n      <td>5916.677884</td>\n      <td>5960.082557</td>\n      <td>5960.084884</td>\n      <td>1.026653e+07</td>\n    </tr>\n    <tr>\n      <th>min</th>\n      <td>NaN</td>\n      <td>NaN</td>\n      <td>NaN</td>\n      <td>NaN</td>\n      <td>NaN</td>\n      <td>NaN</td>\n      <td>1.000000e+00</td>\n      <td>0.000300</td>\n      <td>0.000300</td>\n      <td>0.000300</td>\n      <td>0.000300</td>\n      <td>0.000300</td>\n      <td>0.000000e+00</td>\n      <td>0.000300</td>\n      <td>0.000300</td>\n      <td>0.000300</td>\n      <td>0.000300</td>\n      <td>0.000300</td>\n      <td>0.000000e+00</td>\n    </tr>\n    <tr>\n      <th>25%</th>\n      <td>NaN</td>\n      <td>NaN</td>\n      <td>NaN</td>\n      <td>NaN</td>\n      <td>NaN</td>\n      <td>NaN</td>\n      <td>2.340000e+02</td>\n      <td>9.967500</td>\n      <td>10.160000</td>\n      <td>9.717500</td>\n      <td>10.022500</td>\n      <td>9.992500</td>\n      <td>4.980000e+04</td>\n      <td>10.090000</td>\n      <td>10.282500</td>\n      <td>9.850000</td>\n      <td>10.150000</td>\n      <td>10.066895</td>\n      <td>4.675000e+04</td>\n    </tr>\n    <tr>\n      <th>50%</th>\n      <td>NaN</td>\n      <td>NaN</td>\n      <td>NaN</td>\n      <td>NaN</td>\n      <td>NaN</td>\n      <td>NaN</td>\n      <td>1.549000e+03</td>\n      <td>23.320000</td>\n      <td>23.785001</td>\n      <td>22.974999</td>\n      <td>23.525001</td>\n      <td>23.342290</td>\n      <td>2.696500e+05</td>\n      <td>23.709999</td>\n      <td>24.059999</td>\n      <td>23.175000</td>\n      <td>23.605000</td>\n      <td>23.490000</td>\n      <td>2.585500e+05</td>\n    </tr>\n    <tr>\n      <th>75%</th>\n      <td>NaN</td>\n      <td>NaN</td>\n      <td>NaN</td>\n      <td>NaN</td>\n      <td>NaN</td>\n      <td>NaN</td>\n      <td>7.736250e+03</td>\n      <td>50.195001</td>\n      <td>51.120001</td>\n      <td>49.372501</td>\n      <td>50.565001</td>\n      <td>50.345094</td>\n      <td>9.922000e+05</td>\n      <td>51.075000</td>\n      <td>51.707500</td>\n      <td>50.342499</td>\n      <td>51.020000</td>\n      <td>50.721001</td>\n      <td>9.812000e+05</td>\n    </tr>\n    <tr>\n      <th>max</th>\n      <td>NaN</td>\n      <td>NaN</td>\n      <td>NaN</td>\n      <td>NaN</td>\n      <td>NaN</td>\n      <td>NaN</td>\n      <td>2.300000e+06</td>\n      <td>345000.000000</td>\n      <td>346945.000000</td>\n      <td>344250.000000</td>\n      <td>346175.000000</td>\n      <td>346175.000000</td>\n      <td>4.346080e+08</td>\n      <td>348300.000000</td>\n      <td>352000.000000</td>\n      <td>348300.000000</td>\n      <td>350201.000000</td>\n      <td>350201.000000</td>\n      <td>4.627759e+08</td>\n    </tr>\n  </tbody>\n</table>\n</div>",
      "text/plain": "       symbol  longName state        country          industry  \\\ncount    5747      5428  3792           4299              4281   \nunique   5747      5300    70             48               145   \ntop       THO  CHS Inc.    CA  United States  Asset Management   \nfreq        1         5   539           3613               497   \nmean      NaN       NaN   NaN            NaN               NaN   \nstd       NaN       NaN   NaN            NaN               NaN   \nmin       NaN       NaN   NaN            NaN               NaN   \n25%       NaN       NaN   NaN            NaN               NaN   \n50%       NaN       NaN   NaN            NaN               NaN   \n75%       NaN       NaN   NaN            NaN               NaN   \nmax       NaN       NaN   NaN            NaN               NaN   \n\n                    sector  fullTimeEmployees          Open0          High0  \\\ncount                 4281       3.520000e+03    4938.000000    4938.000000   \nunique                  12                NaN            NaN            NaN   \ntop     Financial Services                NaN            NaN            NaN   \nfreq                  1092                NaN            NaN            NaN   \nmean                   NaN       1.374761e+04     213.776441     215.615373   \nstd                    NaN       5.848558e+04    5807.821383    5834.202676   \nmin                    NaN       1.000000e+00       0.000300       0.000300   \n25%                    NaN       2.340000e+02       9.967500      10.160000   \n50%                    NaN       1.549000e+03      23.320000      23.785001   \n75%                    NaN       7.736250e+03      50.195001      51.120001   \nmax                    NaN       2.300000e+06  345000.000000  346945.000000   \n\n                 Low0         Close0     Adj Close0       Volume0  \\\ncount     4938.000000    4938.000000    4938.000000  4.938000e+03   \nunique            NaN            NaN            NaN           NaN   \ntop               NaN            NaN            NaN           NaN   \nfreq              NaN            NaN            NaN           NaN   \nmean       210.267543     213.230684     213.105344  1.906070e+06   \nstd       5765.131289    5808.159591    5808.161677  1.128360e+07   \nmin          0.000300       0.000300       0.000300  0.000000e+00   \n25%          9.717500      10.022500       9.992500  4.980000e+04   \n50%         22.974999      23.525001      23.342290  2.696500e+05   \n75%         49.372501      50.565001      50.345094  9.922000e+05   \nmax     344250.000000  346175.000000  346175.000000  4.346080e+08   \n\n                Open1          High1           Low1         Close1  \\\ncount     4938.000000    4938.000000    4938.000000    4938.000000   \nunique            NaN            NaN            NaN            NaN   \ntop               NaN            NaN            NaN            NaN   \nfreq              NaN            NaN            NaN            NaN   \nmean       227.299259     230.812118     226.020147     229.010424   \nstd       5924.656340    5994.088743    5916.677884    5960.082557   \nmin          0.000300       0.000300       0.000300       0.000300   \n25%         10.090000      10.282500       9.850000      10.150000   \n50%         23.709999      24.059999      23.175000      23.605000   \n75%         51.075000      51.707500      50.342499      51.020000   \nmax     348300.000000  352000.000000  348300.000000  350201.000000   \n\n           Adj Close1       Volume1  \ncount     4938.000000  4.938000e+03  \nunique            NaN           NaN  \ntop               NaN           NaN  \nfreq              NaN           NaN  \nmean       228.884120  1.752789e+06  \nstd       5960.084884  1.026653e+07  \nmin          0.000300  0.000000e+00  \n25%         10.066895  4.675000e+04  \n50%         23.490000  2.585500e+05  \n75%         50.721001  9.812000e+05  \nmax     350201.000000  4.627759e+08  "
     },
     "execution_count": 6,
     "metadata": {},
     "output_type": "execute_result"
    }
   ],
   "source": [
    "dataset.describe(include=\"all\")"
   ]
  },
  {
   "cell_type": "code",
   "execution_count": 7,
   "metadata": {},
   "outputs": [
    {
     "data": {
      "text/html": "<div>\n<style scoped>\n    .dataframe tbody tr th:only-of-type {\n        vertical-align: middle;\n    }\n\n    .dataframe tbody tr th {\n        vertical-align: top;\n    }\n\n    .dataframe thead th {\n        text-align: right;\n    }\n</style>\n<table border=\"1\" class=\"dataframe\">\n  <thead>\n    <tr style=\"text-align: right;\">\n      <th></th>\n      <th>symbol</th>\n      <th>longName</th>\n      <th>state</th>\n      <th>country</th>\n      <th>industry</th>\n      <th>sector</th>\n      <th>fullTimeEmployees</th>\n      <th>Open0</th>\n      <th>High0</th>\n      <th>Low0</th>\n      <th>Close0</th>\n      <th>Adj Close0</th>\n      <th>Volume0</th>\n      <th>Open1</th>\n      <th>High1</th>\n      <th>Low1</th>\n      <th>Close1</th>\n      <th>Adj Close1</th>\n      <th>Volume1</th>\n    </tr>\n  </thead>\n  <tbody>\n    <tr>\n      <th>0</th>\n      <td>PLYM</td>\n      <td>Plymouth Industrial REIT, Inc.</td>\n      <td>MA</td>\n      <td>United States</td>\n      <td>REIT—Industrial</td>\n      <td>Real Estate</td>\n      <td>34.0</td>\n      <td>14.650000</td>\n      <td>14.960000</td>\n      <td>14.340000</td>\n      <td>14.920000</td>\n      <td>14.744883</td>\n      <td>215100.0</td>\n      <td>15.320000</td>\n      <td>15.340000</td>\n      <td>14.880000</td>\n      <td>14.990000</td>\n      <td>14.814060</td>\n      <td>466500.0</td>\n    </tr>\n    <tr>\n      <th>1</th>\n      <td>MEDP</td>\n      <td>Medpace Holdings, Inc.</td>\n      <td>OH</td>\n      <td>United States</td>\n      <td>Diagnostics &amp; Research</td>\n      <td>Healthcare</td>\n      <td>3600.0</td>\n      <td>134.210007</td>\n      <td>138.240005</td>\n      <td>132.309998</td>\n      <td>137.580002</td>\n      <td>137.580002</td>\n      <td>140200.0</td>\n      <td>139.000000</td>\n      <td>143.660004</td>\n      <td>139.000000</td>\n      <td>143.300003</td>\n      <td>143.300003</td>\n      <td>196400.0</td>\n    </tr>\n    <tr>\n      <th>3</th>\n      <td>KELYB</td>\n      <td>Kelly Services, Inc.</td>\n      <td>MI</td>\n      <td>United States</td>\n      <td>Staffing &amp; Employment Services</td>\n      <td>Industrials</td>\n      <td>7100.0</td>\n      <td>19.170000</td>\n      <td>19.610001</td>\n      <td>19.010000</td>\n      <td>19.580000</td>\n      <td>19.580000</td>\n      <td>5200.0</td>\n      <td>19.760000</td>\n      <td>19.760000</td>\n      <td>19.150000</td>\n      <td>19.709999</td>\n      <td>19.709999</td>\n      <td>1100.0</td>\n    </tr>\n    <tr>\n      <th>5</th>\n      <td>CEY</td>\n      <td>VictoryShares Emerging Market High Div Volatil...</td>\n      <td>NaN</td>\n      <td>NaN</td>\n      <td>NaN</td>\n      <td>NaN</td>\n      <td>NaN</td>\n      <td>22.350000</td>\n      <td>22.440001</td>\n      <td>22.350000</td>\n      <td>22.434000</td>\n      <td>22.381737</td>\n      <td>1200.0</td>\n      <td>22.646999</td>\n      <td>22.693001</td>\n      <td>22.629999</td>\n      <td>22.653000</td>\n      <td>22.600225</td>\n      <td>5600.0</td>\n    </tr>\n    <tr>\n      <th>7</th>\n      <td>CXP</td>\n      <td>Columbia Property Trust, Inc.</td>\n      <td>NY</td>\n      <td>United States</td>\n      <td>REIT—Office</td>\n      <td>Real Estate</td>\n      <td>160.0</td>\n      <td>13.630000</td>\n      <td>13.740000</td>\n      <td>13.300000</td>\n      <td>13.550000</td>\n      <td>13.356955</td>\n      <td>422500.0</td>\n      <td>13.610000</td>\n      <td>13.720000</td>\n      <td>13.220000</td>\n      <td>13.710000</td>\n      <td>13.514674</td>\n      <td>662700.0</td>\n    </tr>\n  </tbody>\n</table>\n</div>",
      "text/plain": "  symbol                                           longName state  \\\n0   PLYM                     Plymouth Industrial REIT, Inc.    MA   \n1   MEDP                             Medpace Holdings, Inc.    OH   \n3  KELYB                               Kelly Services, Inc.    MI   \n5    CEY  VictoryShares Emerging Market High Div Volatil...   NaN   \n7    CXP                      Columbia Property Trust, Inc.    NY   \n\n         country                        industry       sector  \\\n0  United States                 REIT—Industrial  Real Estate   \n1  United States          Diagnostics & Research   Healthcare   \n3  United States  Staffing & Employment Services  Industrials   \n5            NaN                             NaN          NaN   \n7  United States                     REIT—Office  Real Estate   \n\n   fullTimeEmployees       Open0       High0        Low0      Close0  \\\n0               34.0   14.650000   14.960000   14.340000   14.920000   \n1             3600.0  134.210007  138.240005  132.309998  137.580002   \n3             7100.0   19.170000   19.610001   19.010000   19.580000   \n5                NaN   22.350000   22.440001   22.350000   22.434000   \n7              160.0   13.630000   13.740000   13.300000   13.550000   \n\n   Adj Close0   Volume0       Open1       High1        Low1      Close1  \\\n0   14.744883  215100.0   15.320000   15.340000   14.880000   14.990000   \n1  137.580002  140200.0  139.000000  143.660004  139.000000  143.300003   \n3   19.580000    5200.0   19.760000   19.760000   19.150000   19.709999   \n5   22.381737    1200.0   22.646999   22.693001   22.629999   22.653000   \n7   13.356955  422500.0   13.610000   13.720000   13.220000   13.710000   \n\n   Adj Close1   Volume1  \n0   14.814060  466500.0  \n1  143.300003  196400.0  \n3   19.709999    1100.0  \n5   22.600225    5600.0  \n7   13.514674  662700.0  "
     },
     "execution_count": 7,
     "metadata": {},
     "output_type": "execute_result"
    }
   ],
   "source": [
    "dataset = dataset.dropna(subset=['Open0', 'High0', 'Low0', 'Close0', 'Adj Close0',\n",
    "                                 'Volume0', 'Open1', 'High1', 'Low1', 'Close1', 'Adj Close1', 'Volume1'])\n",
    "dataset.head(5)\n"
   ]
  },
  {
   "cell_type": "code",
   "execution_count": 8,
   "metadata": {},
   "outputs": [
    {
     "data": {
      "text/plain": "symbol                  0\nlongName               16\nstate                1163\ncountry               661\nindustry              673\nsector                673\nfullTimeEmployees    1427\nOpen0                   0\nHigh0                   0\nLow0                    0\nClose0                  0\nAdj Close0              0\nVolume0                 0\nOpen1                   0\nHigh1                   0\nLow1                    0\nClose1                  0\nAdj Close1              0\nVolume1                 0\ndtype: int64"
     },
     "execution_count": 8,
     "metadata": {},
     "output_type": "execute_result"
    }
   ],
   "source": [
    "dataset.isnull().sum() "
   ]
  },
  {
   "cell_type": "code",
   "execution_count": 9,
   "metadata": {},
   "outputs": [
    {
     "data": {
      "text/html": "<div>\n<style scoped>\n    .dataframe tbody tr th:only-of-type {\n        vertical-align: middle;\n    }\n\n    .dataframe tbody tr th {\n        vertical-align: top;\n    }\n\n    .dataframe thead th {\n        text-align: right;\n    }\n</style>\n<table border=\"1\" class=\"dataframe\">\n  <thead>\n    <tr style=\"text-align: right;\">\n      <th></th>\n      <th>symbol</th>\n      <th>longName</th>\n      <th>state</th>\n      <th>country</th>\n      <th>industry</th>\n      <th>sector</th>\n      <th>fullTimeEmployees</th>\n      <th>Open0</th>\n      <th>High0</th>\n      <th>Low0</th>\n      <th>Close0</th>\n      <th>Adj Close0</th>\n      <th>Volume0</th>\n      <th>Open1</th>\n      <th>High1</th>\n      <th>Low1</th>\n      <th>Close1</th>\n      <th>Adj Close1</th>\n      <th>Volume1</th>\n    </tr>\n  </thead>\n  <tbody>\n    <tr>\n      <th>count</th>\n      <td>4936</td>\n      <td>4920</td>\n      <td>3773</td>\n      <td>4275</td>\n      <td>4263</td>\n      <td>4263</td>\n      <td>3.509000e+03</td>\n      <td>4936.000000</td>\n      <td>4936.000000</td>\n      <td>4936.000000</td>\n      <td>4936.000000</td>\n      <td>4936.000000</td>\n      <td>4.936000e+03</td>\n      <td>4936.000000</td>\n      <td>4936.000000</td>\n      <td>4936.000000</td>\n      <td>4936.000000</td>\n      <td>4936.000000</td>\n      <td>4.936000e+03</td>\n    </tr>\n    <tr>\n      <th>unique</th>\n      <td>4936</td>\n      <td>4813</td>\n      <td>70</td>\n      <td>48</td>\n      <td>145</td>\n      <td>12</td>\n      <td>NaN</td>\n      <td>NaN</td>\n      <td>NaN</td>\n      <td>NaN</td>\n      <td>NaN</td>\n      <td>NaN</td>\n      <td>NaN</td>\n      <td>NaN</td>\n      <td>NaN</td>\n      <td>NaN</td>\n      <td>NaN</td>\n      <td>NaN</td>\n      <td>NaN</td>\n    </tr>\n    <tr>\n      <th>top</th>\n      <td>THO</td>\n      <td>CHS Inc.</td>\n      <td>CA</td>\n      <td>United States</td>\n      <td>Asset Management</td>\n      <td>Financial Services</td>\n      <td>NaN</td>\n      <td>NaN</td>\n      <td>NaN</td>\n      <td>NaN</td>\n      <td>NaN</td>\n      <td>NaN</td>\n      <td>NaN</td>\n      <td>NaN</td>\n      <td>NaN</td>\n      <td>NaN</td>\n      <td>NaN</td>\n      <td>NaN</td>\n      <td>NaN</td>\n    </tr>\n    <tr>\n      <th>freq</th>\n      <td>1</td>\n      <td>5</td>\n      <td>535</td>\n      <td>3594</td>\n      <td>497</td>\n      <td>1080</td>\n      <td>NaN</td>\n      <td>NaN</td>\n      <td>NaN</td>\n      <td>NaN</td>\n      <td>NaN</td>\n      <td>NaN</td>\n      <td>NaN</td>\n      <td>NaN</td>\n      <td>NaN</td>\n      <td>NaN</td>\n      <td>NaN</td>\n      <td>NaN</td>\n      <td>NaN</td>\n    </tr>\n    <tr>\n      <th>mean</th>\n      <td>NaN</td>\n      <td>NaN</td>\n      <td>NaN</td>\n      <td>NaN</td>\n      <td>NaN</td>\n      <td>NaN</td>\n      <td>1.378832e+04</td>\n      <td>213.850604</td>\n      <td>215.690281</td>\n      <td>210.340284</td>\n      <td>213.304625</td>\n      <td>213.179235</td>\n      <td>1.906842e+06</td>\n      <td>214.620653</td>\n      <td>218.134895</td>\n      <td>213.341025</td>\n      <td>216.332511</td>\n      <td>216.206156</td>\n      <td>1.753475e+06</td>\n    </tr>\n    <tr>\n      <th>std</th>\n      <td>NaN</td>\n      <td>NaN</td>\n      <td>NaN</td>\n      <td>NaN</td>\n      <td>NaN</td>\n      <td>NaN</td>\n      <td>5.857265e+04</td>\n      <td>5808.996958</td>\n      <td>5835.383578</td>\n      <td>5766.298250</td>\n      <td>5809.335242</td>\n      <td>5809.337330</td>\n      <td>1.128582e+07</td>\n      <td>5858.027534</td>\n      <td>5928.276160</td>\n      <td>5849.952161</td>\n      <td>5893.872409</td>\n      <td>5893.874491</td>\n      <td>1.026856e+07</td>\n    </tr>\n    <tr>\n      <th>min</th>\n      <td>NaN</td>\n      <td>NaN</td>\n      <td>NaN</td>\n      <td>NaN</td>\n      <td>NaN</td>\n      <td>NaN</td>\n      <td>1.000000e+00</td>\n      <td>0.000300</td>\n      <td>0.000300</td>\n      <td>0.000300</td>\n      <td>0.000300</td>\n      <td>0.000300</td>\n      <td>0.000000e+00</td>\n      <td>0.000300</td>\n      <td>0.000300</td>\n      <td>0.000300</td>\n      <td>0.000300</td>\n      <td>0.000300</td>\n      <td>0.000000e+00</td>\n    </tr>\n    <tr>\n      <th>25%</th>\n      <td>NaN</td>\n      <td>NaN</td>\n      <td>NaN</td>\n      <td>NaN</td>\n      <td>NaN</td>\n      <td>NaN</td>\n      <td>2.350000e+02</td>\n      <td>9.960000</td>\n      <td>10.160000</td>\n      <td>9.710000</td>\n      <td>10.020000</td>\n      <td>9.990000</td>\n      <td>4.980000e+04</td>\n      <td>10.085000</td>\n      <td>10.280000</td>\n      <td>9.850000</td>\n      <td>10.147500</td>\n      <td>10.064395</td>\n      <td>4.685000e+04</td>\n    </tr>\n    <tr>\n      <th>50%</th>\n      <td>NaN</td>\n      <td>NaN</td>\n      <td>NaN</td>\n      <td>NaN</td>\n      <td>NaN</td>\n      <td>NaN</td>\n      <td>1.555000e+03</td>\n      <td>23.309999</td>\n      <td>23.770000</td>\n      <td>22.969999</td>\n      <td>23.490000</td>\n      <td>23.307290</td>\n      <td>2.698500e+05</td>\n      <td>23.709999</td>\n      <td>24.059999</td>\n      <td>23.175000</td>\n      <td>23.605000</td>\n      <td>23.490000</td>\n      <td>2.589500e+05</td>\n    </tr>\n    <tr>\n      <th>75%</th>\n      <td>NaN</td>\n      <td>NaN</td>\n      <td>NaN</td>\n      <td>NaN</td>\n      <td>NaN</td>\n      <td>NaN</td>\n      <td>7.800000e+03</td>\n      <td>50.205001</td>\n      <td>51.140000</td>\n      <td>49.414001</td>\n      <td>50.585001</td>\n      <td>50.354224</td>\n      <td>9.925250e+05</td>\n      <td>51.044999</td>\n      <td>51.682499</td>\n      <td>50.327499</td>\n      <td>51.000001</td>\n      <td>50.707001</td>\n      <td>9.814250e+05</td>\n    </tr>\n    <tr>\n      <th>max</th>\n      <td>NaN</td>\n      <td>NaN</td>\n      <td>NaN</td>\n      <td>NaN</td>\n      <td>NaN</td>\n      <td>NaN</td>\n      <td>2.300000e+06</td>\n      <td>345000.000000</td>\n      <td>346945.000000</td>\n      <td>344250.000000</td>\n      <td>346175.000000</td>\n      <td>346175.000000</td>\n      <td>4.346080e+08</td>\n      <td>348300.000000</td>\n      <td>352000.000000</td>\n      <td>348300.000000</td>\n      <td>350201.000000</td>\n      <td>350201.000000</td>\n      <td>4.627759e+08</td>\n    </tr>\n  </tbody>\n</table>\n</div>",
      "text/plain": "       symbol  longName state        country          industry  \\\ncount    4936      4920  3773           4275              4263   \nunique   4936      4813    70             48               145   \ntop       THO  CHS Inc.    CA  United States  Asset Management   \nfreq        1         5   535           3594               497   \nmean      NaN       NaN   NaN            NaN               NaN   \nstd       NaN       NaN   NaN            NaN               NaN   \nmin       NaN       NaN   NaN            NaN               NaN   \n25%       NaN       NaN   NaN            NaN               NaN   \n50%       NaN       NaN   NaN            NaN               NaN   \n75%       NaN       NaN   NaN            NaN               NaN   \nmax       NaN       NaN   NaN            NaN               NaN   \n\n                    sector  fullTimeEmployees          Open0          High0  \\\ncount                 4263       3.509000e+03    4936.000000    4936.000000   \nunique                  12                NaN            NaN            NaN   \ntop     Financial Services                NaN            NaN            NaN   \nfreq                  1080                NaN            NaN            NaN   \nmean                   NaN       1.378832e+04     213.850604     215.690281   \nstd                    NaN       5.857265e+04    5808.996958    5835.383578   \nmin                    NaN       1.000000e+00       0.000300       0.000300   \n25%                    NaN       2.350000e+02       9.960000      10.160000   \n50%                    NaN       1.555000e+03      23.309999      23.770000   \n75%                    NaN       7.800000e+03      50.205001      51.140000   \nmax                    NaN       2.300000e+06  345000.000000  346945.000000   \n\n                 Low0         Close0     Adj Close0       Volume0  \\\ncount     4936.000000    4936.000000    4936.000000  4.936000e+03   \nunique            NaN            NaN            NaN           NaN   \ntop               NaN            NaN            NaN           NaN   \nfreq              NaN            NaN            NaN           NaN   \nmean       210.340284     213.304625     213.179235  1.906842e+06   \nstd       5766.298250    5809.335242    5809.337330  1.128582e+07   \nmin          0.000300       0.000300       0.000300  0.000000e+00   \n25%          9.710000      10.020000       9.990000  4.980000e+04   \n50%         22.969999      23.490000      23.307290  2.698500e+05   \n75%         49.414001      50.585001      50.354224  9.925250e+05   \nmax     344250.000000  346175.000000  346175.000000  4.346080e+08   \n\n                Open1          High1           Low1         Close1  \\\ncount     4936.000000    4936.000000    4936.000000    4936.000000   \nunique            NaN            NaN            NaN            NaN   \ntop               NaN            NaN            NaN            NaN   \nfreq              NaN            NaN            NaN            NaN   \nmean       214.620653     218.134895     213.341025     216.332511   \nstd       5858.027534    5928.276160    5849.952161    5893.872409   \nmin          0.000300       0.000300       0.000300       0.000300   \n25%         10.085000      10.280000       9.850000      10.147500   \n50%         23.709999      24.059999      23.175000      23.605000   \n75%         51.044999      51.682499      50.327499      51.000001   \nmax     348300.000000  352000.000000  348300.000000  350201.000000   \n\n           Adj Close1       Volume1  \ncount     4936.000000  4.936000e+03  \nunique            NaN           NaN  \ntop               NaN           NaN  \nfreq              NaN           NaN  \nmean       216.206156  1.753475e+06  \nstd       5893.874491  1.026856e+07  \nmin          0.000300  0.000000e+00  \n25%         10.064395  4.685000e+04  \n50%         23.490000  2.589500e+05  \n75%         50.707001  9.814250e+05  \nmax     350201.000000  4.627759e+08  "
     },
     "execution_count": 9,
     "metadata": {},
     "output_type": "execute_result"
    }
   ],
   "source": [
    "dataset.describe(include=\"all\")"
   ]
  },
  {
   "cell_type": "code",
   "execution_count": 10,
   "metadata": {},
   "outputs": [
    {
     "data": {
      "text/html": "<div>\n<style scoped>\n    .dataframe tbody tr th:only-of-type {\n        vertical-align: middle;\n    }\n\n    .dataframe tbody tr th {\n        vertical-align: top;\n    }\n\n    .dataframe thead th {\n        text-align: right;\n    }\n</style>\n<table border=\"1\" class=\"dataframe\">\n  <thead>\n    <tr style=\"text-align: right;\">\n      <th></th>\n      <th>symbol</th>\n      <th>longName</th>\n      <th>state</th>\n      <th>country</th>\n      <th>industry</th>\n      <th>sector</th>\n      <th>fullTimeEmployees</th>\n      <th>Open0</th>\n      <th>High0</th>\n      <th>Low0</th>\n      <th>Close0</th>\n      <th>Adj Close0</th>\n      <th>Volume0</th>\n      <th>Open1</th>\n      <th>High1</th>\n      <th>Low1</th>\n      <th>Close1</th>\n      <th>Adj Close1</th>\n      <th>Volume1</th>\n    </tr>\n  </thead>\n  <tbody>\n    <tr>\n      <th>0</th>\n      <td>PLYM</td>\n      <td>Plymouth Industrial REIT, Inc.</td>\n      <td>MA</td>\n      <td>United States</td>\n      <td>REIT—Industrial</td>\n      <td>Real Estate</td>\n      <td>34.0</td>\n      <td>14.650000</td>\n      <td>14.960000</td>\n      <td>14.340000</td>\n      <td>14.920000</td>\n      <td>14.744883</td>\n      <td>215100.0</td>\n      <td>15.32</td>\n      <td>15.340000</td>\n      <td>14.88</td>\n      <td>14.990000</td>\n      <td>14.814060</td>\n      <td>466500.0</td>\n    </tr>\n    <tr>\n      <th>1</th>\n      <td>MEDP</td>\n      <td>Medpace Holdings, Inc.</td>\n      <td>OH</td>\n      <td>United States</td>\n      <td>Diagnostics &amp; Research</td>\n      <td>Healthcare</td>\n      <td>3600.0</td>\n      <td>134.210007</td>\n      <td>138.240005</td>\n      <td>132.309998</td>\n      <td>137.580002</td>\n      <td>137.580002</td>\n      <td>140200.0</td>\n      <td>139.00</td>\n      <td>143.660004</td>\n      <td>139.00</td>\n      <td>143.300003</td>\n      <td>143.300003</td>\n      <td>196400.0</td>\n    </tr>\n    <tr>\n      <th>3</th>\n      <td>KELYB</td>\n      <td>Kelly Services, Inc.</td>\n      <td>MI</td>\n      <td>United States</td>\n      <td>Staffing &amp; Employment Services</td>\n      <td>Industrials</td>\n      <td>7100.0</td>\n      <td>19.170000</td>\n      <td>19.610001</td>\n      <td>19.010000</td>\n      <td>19.580000</td>\n      <td>19.580000</td>\n      <td>5200.0</td>\n      <td>19.76</td>\n      <td>19.760000</td>\n      <td>19.15</td>\n      <td>19.709999</td>\n      <td>19.709999</td>\n      <td>1100.0</td>\n    </tr>\n    <tr>\n      <th>7</th>\n      <td>CXP</td>\n      <td>Columbia Property Trust, Inc.</td>\n      <td>NY</td>\n      <td>United States</td>\n      <td>REIT—Office</td>\n      <td>Real Estate</td>\n      <td>160.0</td>\n      <td>13.630000</td>\n      <td>13.740000</td>\n      <td>13.300000</td>\n      <td>13.550000</td>\n      <td>13.356955</td>\n      <td>422500.0</td>\n      <td>13.61</td>\n      <td>13.720000</td>\n      <td>13.22</td>\n      <td>13.710000</td>\n      <td>13.514674</td>\n      <td>662700.0</td>\n    </tr>\n    <tr>\n      <th>9</th>\n      <td>ESQ</td>\n      <td>Esquire Financial Holdings, Inc.</td>\n      <td>NY</td>\n      <td>United States</td>\n      <td>Banks—Regional</td>\n      <td>Financial Services</td>\n      <td>99.0</td>\n      <td>22.100000</td>\n      <td>22.610001</td>\n      <td>21.510000</td>\n      <td>21.760000</td>\n      <td>21.760000</td>\n      <td>8800.0</td>\n      <td>22.10</td>\n      <td>23.160000</td>\n      <td>22.01</td>\n      <td>22.070000</td>\n      <td>22.070000</td>\n      <td>20200.0</td>\n    </tr>\n  </tbody>\n</table>\n</div>",
      "text/plain": "  symbol                          longName state        country  \\\n0   PLYM    Plymouth Industrial REIT, Inc.    MA  United States   \n1   MEDP            Medpace Holdings, Inc.    OH  United States   \n3  KELYB              Kelly Services, Inc.    MI  United States   \n7    CXP     Columbia Property Trust, Inc.    NY  United States   \n9    ESQ  Esquire Financial Holdings, Inc.    NY  United States   \n\n                         industry              sector  fullTimeEmployees  \\\n0                 REIT—Industrial         Real Estate               34.0   \n1          Diagnostics & Research          Healthcare             3600.0   \n3  Staffing & Employment Services         Industrials             7100.0   \n7                     REIT—Office         Real Estate              160.0   \n9                  Banks—Regional  Financial Services               99.0   \n\n        Open0       High0        Low0      Close0  Adj Close0   Volume0  \\\n0   14.650000   14.960000   14.340000   14.920000   14.744883  215100.0   \n1  134.210007  138.240005  132.309998  137.580002  137.580002  140200.0   \n3   19.170000   19.610001   19.010000   19.580000   19.580000    5200.0   \n7   13.630000   13.740000   13.300000   13.550000   13.356955  422500.0   \n9   22.100000   22.610001   21.510000   21.760000   21.760000    8800.0   \n\n    Open1       High1    Low1      Close1  Adj Close1   Volume1  \n0   15.32   15.340000   14.88   14.990000   14.814060  466500.0  \n1  139.00  143.660004  139.00  143.300003  143.300003  196400.0  \n3   19.76   19.760000   19.15   19.709999   19.709999    1100.0  \n7   13.61   13.720000   13.22   13.710000   13.514674  662700.0  \n9   22.10   23.160000   22.01   22.070000   22.070000   20200.0  "
     },
     "execution_count": 10,
     "metadata": {},
     "output_type": "execute_result"
    }
   ],
   "source": [
    "dataset = dataset.dropna()\n",
    "dataset.head(5)"
   ]
  },
  {
   "cell_type": "code",
   "execution_count": 11,
   "metadata": {},
   "outputs": [
    {
     "data": {
      "text/plain": "(3128, 19)"
     },
     "execution_count": 11,
     "metadata": {},
     "output_type": "execute_result"
    }
   ],
   "source": [
    "dataset.shape"
   ]
  },
  {
   "cell_type": "code",
   "execution_count": 12,
   "metadata": {},
   "outputs": [
    {
     "data": {
      "text/html": "<div>\n<style scoped>\n    .dataframe tbody tr th:only-of-type {\n        vertical-align: middle;\n    }\n\n    .dataframe tbody tr th {\n        vertical-align: top;\n    }\n\n    .dataframe thead th {\n        text-align: right;\n    }\n</style>\n<table border=\"1\" class=\"dataframe\">\n  <thead>\n    <tr style=\"text-align: right;\">\n      <th></th>\n      <th>symbol</th>\n      <th>longName</th>\n      <th>state</th>\n      <th>country</th>\n      <th>industry</th>\n      <th>sector</th>\n      <th>fullTimeEmployees</th>\n      <th>Open0</th>\n      <th>High0</th>\n      <th>Low0</th>\n      <th>Close0</th>\n      <th>Adj Close0</th>\n      <th>Volume0</th>\n      <th>Open1</th>\n      <th>High1</th>\n      <th>Low1</th>\n      <th>Close1</th>\n      <th>Adj Close1</th>\n      <th>Volume1</th>\n    </tr>\n  </thead>\n  <tbody>\n    <tr>\n      <th>count</th>\n      <td>3128</td>\n      <td>3128</td>\n      <td>3128</td>\n      <td>3128</td>\n      <td>3128</td>\n      <td>3128</td>\n      <td>3.128000e+03</td>\n      <td>3128.000000</td>\n      <td>3128.000000</td>\n      <td>3128.000000</td>\n      <td>3128.000000</td>\n      <td>3128.000000</td>\n      <td>3.128000e+03</td>\n      <td>3128.000000</td>\n      <td>3128.000000</td>\n      <td>3128.000000</td>\n      <td>3128.000000</td>\n      <td>3128.000000</td>\n      <td>3.128000e+03</td>\n    </tr>\n    <tr>\n      <th>unique</th>\n      <td>3128</td>\n      <td>3059</td>\n      <td>68</td>\n      <td>6</td>\n      <td>143</td>\n      <td>11</td>\n      <td>NaN</td>\n      <td>NaN</td>\n      <td>NaN</td>\n      <td>NaN</td>\n      <td>NaN</td>\n      <td>NaN</td>\n      <td>NaN</td>\n      <td>NaN</td>\n      <td>NaN</td>\n      <td>NaN</td>\n      <td>NaN</td>\n      <td>NaN</td>\n      <td>NaN</td>\n    </tr>\n    <tr>\n      <th>top</th>\n      <td>THO</td>\n      <td>CHS Inc.</td>\n      <td>CA</td>\n      <td>United States</td>\n      <td>Banks—Regional</td>\n      <td>Healthcare</td>\n      <td>NaN</td>\n      <td>NaN</td>\n      <td>NaN</td>\n      <td>NaN</td>\n      <td>NaN</td>\n      <td>NaN</td>\n      <td>NaN</td>\n      <td>NaN</td>\n      <td>NaN</td>\n      <td>NaN</td>\n      <td>NaN</td>\n      <td>NaN</td>\n      <td>NaN</td>\n    </tr>\n    <tr>\n      <th>freq</th>\n      <td>1</td>\n      <td>5</td>\n      <td>474</td>\n      <td>2998</td>\n      <td>311</td>\n      <td>528</td>\n      <td>NaN</td>\n      <td>NaN</td>\n      <td>NaN</td>\n      <td>NaN</td>\n      <td>NaN</td>\n      <td>NaN</td>\n      <td>NaN</td>\n      <td>NaN</td>\n      <td>NaN</td>\n      <td>NaN</td>\n      <td>NaN</td>\n      <td>NaN</td>\n      <td>NaN</td>\n    </tr>\n    <tr>\n      <th>mean</th>\n      <td>NaN</td>\n      <td>NaN</td>\n      <td>NaN</td>\n      <td>NaN</td>\n      <td>NaN</td>\n      <td>NaN</td>\n      <td>1.207903e+04</td>\n      <td>173.344641</td>\n      <td>175.344880</td>\n      <td>172.091687</td>\n      <td>174.351314</td>\n      <td>174.217986</td>\n      <td>2.232770e+06</td>\n      <td>175.641922</td>\n      <td>178.166215</td>\n      <td>174.696440</td>\n      <td>176.597035</td>\n      <td>176.462652</td>\n      <td>2.143579e+06</td>\n    </tr>\n    <tr>\n      <th>std</th>\n      <td>NaN</td>\n      <td>NaN</td>\n      <td>NaN</td>\n      <td>NaN</td>\n      <td>NaN</td>\n      <td>NaN</td>\n      <td>5.796459e+04</td>\n      <td>6169.536219</td>\n      <td>6204.357139</td>\n      <td>6156.104438</td>\n      <td>6190.575401</td>\n      <td>6190.575877</td>\n      <td>1.171650e+07</td>\n      <td>6228.572635</td>\n      <td>6294.768046</td>\n      <td>6228.556532</td>\n      <td>6262.582244</td>\n      <td>6262.582688</td>\n      <td>1.053241e+07</td>\n    </tr>\n    <tr>\n      <th>min</th>\n      <td>NaN</td>\n      <td>NaN</td>\n      <td>NaN</td>\n      <td>NaN</td>\n      <td>NaN</td>\n      <td>NaN</td>\n      <td>1.000000e+00</td>\n      <td>0.000300</td>\n      <td>0.000300</td>\n      <td>0.000300</td>\n      <td>0.000300</td>\n      <td>0.000300</td>\n      <td>0.000000e+00</td>\n      <td>0.000300</td>\n      <td>0.000300</td>\n      <td>0.000300</td>\n      <td>0.000300</td>\n      <td>0.000300</td>\n      <td>0.000000e+00</td>\n    </tr>\n    <tr>\n      <th>25%</th>\n      <td>NaN</td>\n      <td>NaN</td>\n      <td>NaN</td>\n      <td>NaN</td>\n      <td>NaN</td>\n      <td>NaN</td>\n      <td>2.407500e+02</td>\n      <td>10.115000</td>\n      <td>10.382500</td>\n      <td>9.797500</td>\n      <td>10.212500</td>\n      <td>10.147714</td>\n      <td>1.235750e+05</td>\n      <td>10.255000</td>\n      <td>10.537500</td>\n      <td>9.920000</td>\n      <td>10.235000</td>\n      <td>10.235000</td>\n      <td>1.173750e+05</td>\n    </tr>\n    <tr>\n      <th>50%</th>\n      <td>NaN</td>\n      <td>NaN</td>\n      <td>NaN</td>\n      <td>NaN</td>\n      <td>NaN</td>\n      <td>NaN</td>\n      <td>1.517000e+03</td>\n      <td>26.355000</td>\n      <td>27.080000</td>\n      <td>25.735001</td>\n      <td>26.580000</td>\n      <td>26.468189</td>\n      <td>4.341500e+05</td>\n      <td>26.735000</td>\n      <td>27.415000</td>\n      <td>26.155000</td>\n      <td>26.870000</td>\n      <td>26.749303</td>\n      <td>4.489500e+05</td>\n    </tr>\n    <tr>\n      <th>75%</th>\n      <td>NaN</td>\n      <td>NaN</td>\n      <td>NaN</td>\n      <td>NaN</td>\n      <td>NaN</td>\n      <td>NaN</td>\n      <td>7.100000e+03</td>\n      <td>65.257498</td>\n      <td>66.422499</td>\n      <td>64.244999</td>\n      <td>65.820002</td>\n      <td>65.482550</td>\n      <td>1.350950e+06</td>\n      <td>66.360998</td>\n      <td>67.412502</td>\n      <td>65.242250</td>\n      <td>66.555002</td>\n      <td>66.139126</td>\n      <td>1.333250e+06</td>\n    </tr>\n    <tr>\n      <th>max</th>\n      <td>NaN</td>\n      <td>NaN</td>\n      <td>NaN</td>\n      <td>NaN</td>\n      <td>NaN</td>\n      <td>NaN</td>\n      <td>2.300000e+06</td>\n      <td>345000.000000</td>\n      <td>346945.000000</td>\n      <td>344250.000000</td>\n      <td>346175.000000</td>\n      <td>346175.000000</td>\n      <td>4.346080e+08</td>\n      <td>348300.000000</td>\n      <td>352000.000000</td>\n      <td>348300.000000</td>\n      <td>350201.000000</td>\n      <td>350201.000000</td>\n      <td>4.627759e+08</td>\n    </tr>\n  </tbody>\n</table>\n</div>",
      "text/plain": "       symbol  longName state        country        industry      sector  \\\ncount    3128      3128  3128           3128            3128        3128   \nunique   3128      3059    68              6             143          11   \ntop       THO  CHS Inc.    CA  United States  Banks—Regional  Healthcare   \nfreq        1         5   474           2998             311         528   \nmean      NaN       NaN   NaN            NaN             NaN         NaN   \nstd       NaN       NaN   NaN            NaN             NaN         NaN   \nmin       NaN       NaN   NaN            NaN             NaN         NaN   \n25%       NaN       NaN   NaN            NaN             NaN         NaN   \n50%       NaN       NaN   NaN            NaN             NaN         NaN   \n75%       NaN       NaN   NaN            NaN             NaN         NaN   \nmax       NaN       NaN   NaN            NaN             NaN         NaN   \n\n        fullTimeEmployees          Open0          High0           Low0  \\\ncount        3.128000e+03    3128.000000    3128.000000    3128.000000   \nunique                NaN            NaN            NaN            NaN   \ntop                   NaN            NaN            NaN            NaN   \nfreq                  NaN            NaN            NaN            NaN   \nmean         1.207903e+04     173.344641     175.344880     172.091687   \nstd          5.796459e+04    6169.536219    6204.357139    6156.104438   \nmin          1.000000e+00       0.000300       0.000300       0.000300   \n25%          2.407500e+02      10.115000      10.382500       9.797500   \n50%          1.517000e+03      26.355000      27.080000      25.735001   \n75%          7.100000e+03      65.257498      66.422499      64.244999   \nmax          2.300000e+06  345000.000000  346945.000000  344250.000000   \n\n               Close0     Adj Close0       Volume0          Open1  \\\ncount     3128.000000    3128.000000  3.128000e+03    3128.000000   \nunique            NaN            NaN           NaN            NaN   \ntop               NaN            NaN           NaN            NaN   \nfreq              NaN            NaN           NaN            NaN   \nmean       174.351314     174.217986  2.232770e+06     175.641922   \nstd       6190.575401    6190.575877  1.171650e+07    6228.572635   \nmin          0.000300       0.000300  0.000000e+00       0.000300   \n25%         10.212500      10.147714  1.235750e+05      10.255000   \n50%         26.580000      26.468189  4.341500e+05      26.735000   \n75%         65.820002      65.482550  1.350950e+06      66.360998   \nmax     346175.000000  346175.000000  4.346080e+08  348300.000000   \n\n                High1           Low1         Close1     Adj Close1  \\\ncount     3128.000000    3128.000000    3128.000000    3128.000000   \nunique            NaN            NaN            NaN            NaN   \ntop               NaN            NaN            NaN            NaN   \nfreq              NaN            NaN            NaN            NaN   \nmean       178.166215     174.696440     176.597035     176.462652   \nstd       6294.768046    6228.556532    6262.582244    6262.582688   \nmin          0.000300       0.000300       0.000300       0.000300   \n25%         10.537500       9.920000      10.235000      10.235000   \n50%         27.415000      26.155000      26.870000      26.749303   \n75%         67.412502      65.242250      66.555002      66.139126   \nmax     352000.000000  348300.000000  350201.000000  350201.000000   \n\n             Volume1  \ncount   3.128000e+03  \nunique           NaN  \ntop              NaN  \nfreq             NaN  \nmean    2.143579e+06  \nstd     1.053241e+07  \nmin     0.000000e+00  \n25%     1.173750e+05  \n50%     4.489500e+05  \n75%     1.333250e+06  \nmax     4.627759e+08  "
     },
     "execution_count": 12,
     "metadata": {},
     "output_type": "execute_result"
    }
   ],
   "source": [
    "dataset.describe(include=\"all\")"
   ]
  },
  {
   "cell_type": "code",
   "execution_count": 13,
   "metadata": {},
   "outputs": [],
   "source": [
    "from sklearn.preprocessing import OneHotEncoder"
   ]
  },
  {
   "cell_type": "code",
   "execution_count": 14,
   "metadata": {},
   "outputs": [
    {
     "data": {
      "text/html": "<div>\n<style scoped>\n    .dataframe tbody tr th:only-of-type {\n        vertical-align: middle;\n    }\n\n    .dataframe tbody tr th {\n        vertical-align: top;\n    }\n\n    .dataframe thead th {\n        text-align: right;\n    }\n</style>\n<table border=\"1\" class=\"dataframe\">\n  <thead>\n    <tr style=\"text-align: right;\">\n      <th></th>\n      <th>state</th>\n      <th>country</th>\n      <th>industry</th>\n      <th>sector</th>\n      <th>fullTimeEmployees</th>\n      <th>Open0</th>\n      <th>High0</th>\n      <th>Low0</th>\n      <th>Close0</th>\n      <th>Adj Close0</th>\n      <th>Volume0</th>\n      <th>Open1</th>\n      <th>High1</th>\n      <th>Low1</th>\n      <th>Close1</th>\n      <th>Adj Close1</th>\n      <th>Volume1</th>\n    </tr>\n  </thead>\n  <tbody>\n    <tr>\n      <th>0</th>\n      <td>MA</td>\n      <td>United States</td>\n      <td>REIT—Industrial</td>\n      <td>Real Estate</td>\n      <td>34.0</td>\n      <td>14.650000</td>\n      <td>14.960000</td>\n      <td>14.340000</td>\n      <td>14.920000</td>\n      <td>14.744883</td>\n      <td>215100.0</td>\n      <td>15.32</td>\n      <td>15.340000</td>\n      <td>14.88</td>\n      <td>14.990000</td>\n      <td>14.814060</td>\n      <td>466500.0</td>\n    </tr>\n    <tr>\n      <th>1</th>\n      <td>OH</td>\n      <td>United States</td>\n      <td>Diagnostics &amp; Research</td>\n      <td>Healthcare</td>\n      <td>3600.0</td>\n      <td>134.210007</td>\n      <td>138.240005</td>\n      <td>132.309998</td>\n      <td>137.580002</td>\n      <td>137.580002</td>\n      <td>140200.0</td>\n      <td>139.00</td>\n      <td>143.660004</td>\n      <td>139.00</td>\n      <td>143.300003</td>\n      <td>143.300003</td>\n      <td>196400.0</td>\n    </tr>\n    <tr>\n      <th>2</th>\n      <td>MI</td>\n      <td>United States</td>\n      <td>Staffing &amp; Employment Services</td>\n      <td>Industrials</td>\n      <td>7100.0</td>\n      <td>19.170000</td>\n      <td>19.610001</td>\n      <td>19.010000</td>\n      <td>19.580000</td>\n      <td>19.580000</td>\n      <td>5200.0</td>\n      <td>19.76</td>\n      <td>19.760000</td>\n      <td>19.15</td>\n      <td>19.709999</td>\n      <td>19.709999</td>\n      <td>1100.0</td>\n    </tr>\n    <tr>\n      <th>3</th>\n      <td>NY</td>\n      <td>United States</td>\n      <td>REIT—Office</td>\n      <td>Real Estate</td>\n      <td>160.0</td>\n      <td>13.630000</td>\n      <td>13.740000</td>\n      <td>13.300000</td>\n      <td>13.550000</td>\n      <td>13.356955</td>\n      <td>422500.0</td>\n      <td>13.61</td>\n      <td>13.720000</td>\n      <td>13.22</td>\n      <td>13.710000</td>\n      <td>13.514674</td>\n      <td>662700.0</td>\n    </tr>\n    <tr>\n      <th>4</th>\n      <td>NY</td>\n      <td>United States</td>\n      <td>Banks—Regional</td>\n      <td>Financial Services</td>\n      <td>99.0</td>\n      <td>22.100000</td>\n      <td>22.610001</td>\n      <td>21.510000</td>\n      <td>21.760000</td>\n      <td>21.760000</td>\n      <td>8800.0</td>\n      <td>22.10</td>\n      <td>23.160000</td>\n      <td>22.01</td>\n      <td>22.070000</td>\n      <td>22.070000</td>\n      <td>20200.0</td>\n    </tr>\n  </tbody>\n</table>\n</div>",
      "text/plain": "  state        country                        industry              sector  \\\n0    MA  United States                 REIT—Industrial         Real Estate   \n1    OH  United States          Diagnostics & Research          Healthcare   \n2    MI  United States  Staffing & Employment Services         Industrials   \n3    NY  United States                     REIT—Office         Real Estate   \n4    NY  United States                  Banks—Regional  Financial Services   \n\n   fullTimeEmployees       Open0       High0        Low0      Close0  \\\n0               34.0   14.650000   14.960000   14.340000   14.920000   \n1             3600.0  134.210007  138.240005  132.309998  137.580002   \n2             7100.0   19.170000   19.610001   19.010000   19.580000   \n3              160.0   13.630000   13.740000   13.300000   13.550000   \n4               99.0   22.100000   22.610001   21.510000   21.760000   \n\n   Adj Close0   Volume0   Open1       High1    Low1      Close1  Adj Close1  \\\n0   14.744883  215100.0   15.32   15.340000   14.88   14.990000   14.814060   \n1  137.580002  140200.0  139.00  143.660004  139.00  143.300003  143.300003   \n2   19.580000    5200.0   19.76   19.760000   19.15   19.709999   19.709999   \n3   13.356955  422500.0   13.61   13.720000   13.22   13.710000   13.514674   \n4   21.760000    8800.0   22.10   23.160000   22.01   22.070000   22.070000   \n\n    Volume1  \n0  466500.0  \n1  196400.0  \n2    1100.0  \n3  662700.0  \n4   20200.0  "
     },
     "execution_count": 14,
     "metadata": {},
     "output_type": "execute_result"
    }
   ],
   "source": [
    "dataset = dataset.drop(columns=[\"symbol\", \"longName\"])\n",
    "dataset = dataset.reset_index()\n",
    "dataset=dataset.drop(columns=['index'])\n",
    "dataset.head()"
   ]
  },
  {
   "cell_type": "code",
   "execution_count": 15,
   "metadata": {},
   "outputs": [],
   "source": [
    "non_number = dataset[[\"state\", \"country\", \"industry\", \"sector\"]]\n",
    "dataset = dataset.drop(columns=[\"state\", \"country\", \"industry\", \"sector\"])\n"
   ]
  },
  {
   "cell_type": "code",
   "execution_count": 16,
   "metadata": {},
   "outputs": [
    {
     "data": {
      "text/html": "<div>\n<style scoped>\n    .dataframe tbody tr th:only-of-type {\n        vertical-align: middle;\n    }\n\n    .dataframe tbody tr th {\n        vertical-align: top;\n    }\n\n    .dataframe thead th {\n        text-align: right;\n    }\n</style>\n<table border=\"1\" class=\"dataframe\">\n  <thead>\n    <tr style=\"text-align: right;\">\n      <th></th>\n      <th>0</th>\n      <th>1</th>\n      <th>2</th>\n      <th>3</th>\n      <th>4</th>\n      <th>5</th>\n      <th>6</th>\n      <th>7</th>\n      <th>8</th>\n      <th>9</th>\n      <th>...</th>\n      <th>218</th>\n      <th>219</th>\n      <th>220</th>\n      <th>221</th>\n      <th>222</th>\n      <th>223</th>\n      <th>224</th>\n      <th>225</th>\n      <th>226</th>\n      <th>227</th>\n    </tr>\n  </thead>\n  <tbody>\n    <tr>\n      <th>0</th>\n      <td>0</td>\n      <td>0</td>\n      <td>0</td>\n      <td>0</td>\n      <td>0</td>\n      <td>0</td>\n      <td>0</td>\n      <td>0</td>\n      <td>0</td>\n      <td>0</td>\n      <td>...</td>\n      <td>0</td>\n      <td>0</td>\n      <td>0</td>\n      <td>0</td>\n      <td>0</td>\n      <td>0</td>\n      <td>0</td>\n      <td>1</td>\n      <td>0</td>\n      <td>0</td>\n    </tr>\n    <tr>\n      <th>1</th>\n      <td>0</td>\n      <td>0</td>\n      <td>0</td>\n      <td>0</td>\n      <td>0</td>\n      <td>0</td>\n      <td>0</td>\n      <td>0</td>\n      <td>0</td>\n      <td>0</td>\n      <td>...</td>\n      <td>0</td>\n      <td>0</td>\n      <td>0</td>\n      <td>0</td>\n      <td>0</td>\n      <td>1</td>\n      <td>0</td>\n      <td>0</td>\n      <td>0</td>\n      <td>0</td>\n    </tr>\n    <tr>\n      <th>2</th>\n      <td>0</td>\n      <td>0</td>\n      <td>0</td>\n      <td>0</td>\n      <td>0</td>\n      <td>0</td>\n      <td>0</td>\n      <td>0</td>\n      <td>0</td>\n      <td>0</td>\n      <td>...</td>\n      <td>0</td>\n      <td>0</td>\n      <td>0</td>\n      <td>0</td>\n      <td>0</td>\n      <td>0</td>\n      <td>1</td>\n      <td>0</td>\n      <td>0</td>\n      <td>0</td>\n    </tr>\n    <tr>\n      <th>3</th>\n      <td>0</td>\n      <td>0</td>\n      <td>0</td>\n      <td>0</td>\n      <td>0</td>\n      <td>0</td>\n      <td>0</td>\n      <td>0</td>\n      <td>0</td>\n      <td>0</td>\n      <td>...</td>\n      <td>0</td>\n      <td>0</td>\n      <td>0</td>\n      <td>0</td>\n      <td>0</td>\n      <td>0</td>\n      <td>0</td>\n      <td>1</td>\n      <td>0</td>\n      <td>0</td>\n    </tr>\n    <tr>\n      <th>4</th>\n      <td>0</td>\n      <td>0</td>\n      <td>0</td>\n      <td>0</td>\n      <td>0</td>\n      <td>0</td>\n      <td>0</td>\n      <td>0</td>\n      <td>0</td>\n      <td>0</td>\n      <td>...</td>\n      <td>0</td>\n      <td>0</td>\n      <td>0</td>\n      <td>0</td>\n      <td>1</td>\n      <td>0</td>\n      <td>0</td>\n      <td>0</td>\n      <td>0</td>\n      <td>0</td>\n    </tr>\n  </tbody>\n</table>\n<p>5 rows × 228 columns</p>\n</div>",
      "text/plain": "   0    1    2    3    4    5    6    7    8    9    ...  218  219  220  221  \\\n0    0    0    0    0    0    0    0    0    0    0  ...    0    0    0    0   \n1    0    0    0    0    0    0    0    0    0    0  ...    0    0    0    0   \n2    0    0    0    0    0    0    0    0    0    0  ...    0    0    0    0   \n3    0    0    0    0    0    0    0    0    0    0  ...    0    0    0    0   \n4    0    0    0    0    0    0    0    0    0    0  ...    0    0    0    0   \n\n   222  223  224  225  226  227  \n0    0    0    0    1    0    0  \n1    0    1    0    0    0    0  \n2    0    0    1    0    0    0  \n3    0    0    0    1    0    0  \n4    1    0    0    0    0    0  \n\n[5 rows x 228 columns]"
     },
     "execution_count": 16,
     "metadata": {},
     "output_type": "execute_result"
    }
   ],
   "source": [
    "non_number = pd.DataFrame(OneHotEncoder(dtype=int).fit_transform(non_number).A)\n",
    "non_number.head(5)"
   ]
  },
  {
   "cell_type": "code",
   "execution_count": 17,
   "metadata": {},
   "outputs": [
    {
     "data": {
      "text/plain": "(3128, 228)"
     },
     "execution_count": 17,
     "metadata": {},
     "output_type": "execute_result"
    }
   ],
   "source": [
    "non_number.shape"
   ]
  },
  {
   "cell_type": "code",
   "execution_count": 18,
   "metadata": {},
   "outputs": [
    {
     "data": {
      "text/html": "<div>\n<style scoped>\n    .dataframe tbody tr th:only-of-type {\n        vertical-align: middle;\n    }\n\n    .dataframe tbody tr th {\n        vertical-align: top;\n    }\n\n    .dataframe thead th {\n        text-align: right;\n    }\n</style>\n<table border=\"1\" class=\"dataframe\">\n  <thead>\n    <tr style=\"text-align: right;\">\n      <th></th>\n      <th>0</th>\n      <th>1</th>\n      <th>2</th>\n      <th>3</th>\n      <th>4</th>\n      <th>5</th>\n      <th>6</th>\n      <th>7</th>\n      <th>8</th>\n      <th>9</th>\n      <th>...</th>\n      <th>Low0</th>\n      <th>Close0</th>\n      <th>Adj Close0</th>\n      <th>Volume0</th>\n      <th>Open1</th>\n      <th>High1</th>\n      <th>Low1</th>\n      <th>Close1</th>\n      <th>Adj Close1</th>\n      <th>Volume1</th>\n    </tr>\n  </thead>\n  <tbody>\n    <tr>\n      <th>0</th>\n      <td>0</td>\n      <td>0</td>\n      <td>0</td>\n      <td>0</td>\n      <td>0</td>\n      <td>0</td>\n      <td>0</td>\n      <td>0</td>\n      <td>0</td>\n      <td>0</td>\n      <td>...</td>\n      <td>14.340000</td>\n      <td>14.920000</td>\n      <td>14.744883</td>\n      <td>215100.0</td>\n      <td>15.32</td>\n      <td>15.340000</td>\n      <td>14.88</td>\n      <td>14.990000</td>\n      <td>14.814060</td>\n      <td>466500.0</td>\n    </tr>\n    <tr>\n      <th>1</th>\n      <td>0</td>\n      <td>0</td>\n      <td>0</td>\n      <td>0</td>\n      <td>0</td>\n      <td>0</td>\n      <td>0</td>\n      <td>0</td>\n      <td>0</td>\n      <td>0</td>\n      <td>...</td>\n      <td>132.309998</td>\n      <td>137.580002</td>\n      <td>137.580002</td>\n      <td>140200.0</td>\n      <td>139.00</td>\n      <td>143.660004</td>\n      <td>139.00</td>\n      <td>143.300003</td>\n      <td>143.300003</td>\n      <td>196400.0</td>\n    </tr>\n    <tr>\n      <th>2</th>\n      <td>0</td>\n      <td>0</td>\n      <td>0</td>\n      <td>0</td>\n      <td>0</td>\n      <td>0</td>\n      <td>0</td>\n      <td>0</td>\n      <td>0</td>\n      <td>0</td>\n      <td>...</td>\n      <td>19.010000</td>\n      <td>19.580000</td>\n      <td>19.580000</td>\n      <td>5200.0</td>\n      <td>19.76</td>\n      <td>19.760000</td>\n      <td>19.15</td>\n      <td>19.709999</td>\n      <td>19.709999</td>\n      <td>1100.0</td>\n    </tr>\n    <tr>\n      <th>3</th>\n      <td>0</td>\n      <td>0</td>\n      <td>0</td>\n      <td>0</td>\n      <td>0</td>\n      <td>0</td>\n      <td>0</td>\n      <td>0</td>\n      <td>0</td>\n      <td>0</td>\n      <td>...</td>\n      <td>13.300000</td>\n      <td>13.550000</td>\n      <td>13.356955</td>\n      <td>422500.0</td>\n      <td>13.61</td>\n      <td>13.720000</td>\n      <td>13.22</td>\n      <td>13.710000</td>\n      <td>13.514674</td>\n      <td>662700.0</td>\n    </tr>\n    <tr>\n      <th>4</th>\n      <td>0</td>\n      <td>0</td>\n      <td>0</td>\n      <td>0</td>\n      <td>0</td>\n      <td>0</td>\n      <td>0</td>\n      <td>0</td>\n      <td>0</td>\n      <td>0</td>\n      <td>...</td>\n      <td>21.510000</td>\n      <td>21.760000</td>\n      <td>21.760000</td>\n      <td>8800.0</td>\n      <td>22.10</td>\n      <td>23.160000</td>\n      <td>22.01</td>\n      <td>22.070000</td>\n      <td>22.070000</td>\n      <td>20200.0</td>\n    </tr>\n  </tbody>\n</table>\n<p>5 rows × 241 columns</p>\n</div>",
      "text/plain": "   0  1  2  3  4  5  6  7  8  9  ...        Low0      Close0  Adj Close0  \\\n0  0  0  0  0  0  0  0  0  0  0  ...   14.340000   14.920000   14.744883   \n1  0  0  0  0  0  0  0  0  0  0  ...  132.309998  137.580002  137.580002   \n2  0  0  0  0  0  0  0  0  0  0  ...   19.010000   19.580000   19.580000   \n3  0  0  0  0  0  0  0  0  0  0  ...   13.300000   13.550000   13.356955   \n4  0  0  0  0  0  0  0  0  0  0  ...   21.510000   21.760000   21.760000   \n\n    Volume0   Open1       High1    Low1      Close1  Adj Close1   Volume1  \n0  215100.0   15.32   15.340000   14.88   14.990000   14.814060  466500.0  \n1  140200.0  139.00  143.660004  139.00  143.300003  143.300003  196400.0  \n2    5200.0   19.76   19.760000   19.15   19.709999   19.709999    1100.0  \n3  422500.0   13.61   13.720000   13.22   13.710000   13.514674  662700.0  \n4    8800.0   22.10   23.160000   22.01   22.070000   22.070000   20200.0  \n\n[5 rows x 241 columns]"
     },
     "execution_count": 18,
     "metadata": {},
     "output_type": "execute_result"
    }
   ],
   "source": [
    "dataset = non_number.join(dataset)\n",
    "\n",
    "dataset.head(5)"
   ]
  },
  {
   "cell_type": "markdown",
   "metadata": {},
   "source": [
    "La jointure ne se fait pas correctement, je ne sais pas pourquoi."
   ]
  },
  {
   "cell_type": "code",
   "execution_count": 19,
   "metadata": {},
   "outputs": [
    {
     "name": "stdout",
     "output_type": "stream",
     "text": [
      "(3128, 241)\n"
     ]
    },
    {
     "data": {
      "text/plain": "0             0\n1             0\n2             0\n3             0\n4             0\n             ..\nHigh1         0\nLow1          0\nClose1        0\nAdj Close1    0\nVolume1       0\nLength: 241, dtype: int64"
     },
     "execution_count": 19,
     "metadata": {},
     "output_type": "execute_result"
    }
   ],
   "source": [
    "print(dataset.shape)\n",
    "dataset.isnull().sum()"
   ]
  },
  {
   "cell_type": "code",
   "execution_count": 22,
   "metadata": {},
   "outputs": [],
   "source": [
    "from sklearn.decomposition import PCA\n",
    "from preprocessing import preprocessing"
   ]
  },
  {
   "cell_type": "code",
   "execution_count": 23,
   "metadata": {},
   "outputs": [],
   "source": [
    "dataset = preprocessing(dataset)"
   ]
  },
  {
   "cell_type": "code",
   "execution_count": 24,
   "metadata": {},
   "outputs": [],
   "source": [
    "pca = PCA(n_components=0.99)"
   ]
  },
  {
   "cell_type": "code",
   "execution_count": 25,
   "metadata": {},
   "outputs": [],
   "source": [
    "pca_data = pca.fit_transform(dataset)"
   ]
  },
  {
   "cell_type": "code",
   "execution_count": 26,
   "metadata": {},
   "outputs": [
    {
     "data": {
      "text/plain": "(4936, 199)"
     },
     "execution_count": 26,
     "metadata": {},
     "output_type": "execute_result"
    }
   ],
   "source": [
    "pca_data.shape"
   ]
  },
  {
   "cell_type": "code",
   "execution_count": 27,
   "metadata": {},
   "outputs": [],
   "source": [
    "import matplotlib.pyplot as plt"
   ]
  },
  {
   "cell_type": "code",
   "execution_count": 28,
   "metadata": {},
   "outputs": [
    {
     "data": {
      "text/plain": "<matplotlib.collections.PathCollection at 0x7f33cc896d30>"
     },
     "execution_count": 28,
     "metadata": {},
     "output_type": "execute_result"
    },
    {
     "data": {
      "image/png": "[encoded data removed]",
      "text/plain": "<Figure size 432x288 with 1 Axes>"
     },
     "metadata": {
      "needs_background": "light"
     },
     "output_type": "display_data"
    }
   ],
   "source": [
    "plt.scatter(pca_data[:, 0], pca_data[:, 1])\n"
   ]
  },
  {
   "cell_type": "code",
   "execution_count": 29,
   "metadata": {},
   "outputs": [
    {
     "data": {
      "text/plain": "(array([0.23920724, 0.15064693, 0.05906581, 0.03769176, 0.03047625,\n        0.02943182, 0.02336887, 0.0215929 , 0.02081768, 0.01928039,\n        0.01756802, 0.01514034, 0.01282349, 0.01159714, 0.01114289,\n        0.01016192, 0.00963471, 0.00852866, 0.00833528, 0.00752264,\n        0.00680004, 0.00630952, 0.00589581, 0.00552939, 0.00494433,\n        0.00484961, 0.00474082, 0.0047043 , 0.00454527, 0.00412901,\n        0.00409026, 0.00365727, 0.0034841 , 0.00340144, 0.00333483,\n        0.00323956, 0.00315182, 0.00306926, 0.00300429, 0.00297914,\n        0.0028413 , 0.00279535, 0.00274587, 0.00263725, 0.00259914,\n        0.00257092, 0.00250769, 0.00247182, 0.00244545, 0.00229589,\n        0.00226745, 0.00223386, 0.00218476, 0.00216955, 0.00213074,\n        0.00205682, 0.00201257, 0.00198678, 0.00195347, 0.00193816,\n        0.0019157 , 0.00183365, 0.0018216 , 0.00167779, 0.00164556,\n        0.00162491, 0.00159796, 0.00159084, 0.00156546, 0.00151073,\n        0.00149269, 0.00148217, 0.00147309, 0.0014495 , 0.00143743,\n        0.00139198, 0.00138936, 0.00137526, 0.00134655, 0.00133566,\n        0.0013113 , 0.0012977 , 0.00126368, 0.00125285, 0.00122851,\n        0.00120636, 0.00117796, 0.0011633 , 0.00115499, 0.00113917,\n        0.00112021, 0.00111295, 0.00109824, 0.00107315, 0.00106117,\n        0.00105716, 0.00103092, 0.00102783, 0.00101342, 0.00100487,\n        0.00099177, 0.00097795, 0.00097257, 0.00095466, 0.0009484 ,\n        0.00093461, 0.0009259 , 0.00091977, 0.00091122, 0.00089622,\n        0.00089383, 0.00088066, 0.00088014, 0.00087102, 0.00085131,\n        0.00083639, 0.00082808, 0.00082121, 0.0008046 , 0.00080304,\n        0.00079244, 0.00078438, 0.00076251, 0.00076031, 0.00075489,\n        0.00074244, 0.00073697, 0.00073236, 0.00072817, 0.00072275,\n        0.00071013, 0.0007072 , 0.00069813, 0.00069064, 0.00068612,\n        0.00067863, 0.00067022, 0.00066325, 0.00065046, 0.00064744,\n        0.00064151, 0.00063837, 0.00063263, 0.00061614, 0.00061491,\n        0.00059664, 0.00059161, 0.00058075, 0.00057746, 0.00057566,\n        0.00056605, 0.00056266, 0.00055841, 0.00055469, 0.00054786,\n        0.0005403 , 0.0005304 , 0.00052509, 0.00052159, 0.000518  ,\n        0.00051569, 0.00051223, 0.0005075 , 0.00050076, 0.00049561,\n        0.00048404, 0.00047999, 0.00047111, 0.00046364, 0.00045613,\n        0.00044956, 0.00044889, 0.00044077, 0.00043023, 0.00042392,\n        0.00041966, 0.00041239, 0.00040702, 0.00040355, 0.000402  ,\n        0.00039924, 0.00039735, 0.0003877 , 0.00038104, 0.00038043,\n        0.00037291, 0.00036797, 0.0003595 , 0.00035614, 0.00035226,\n        0.00034787, 0.00033817, 0.00033526, 0.00033114, 0.00032867,\n        0.00032553, 0.00032195, 0.00031689, 0.00031363]),\n (199,))"
     },
     "execution_count": 29,
     "metadata": {},
     "output_type": "execute_result"
    }
   ],
   "source": [
    "pca.explained_variance_ratio_, pca.explained_variance_ratio_.shape"
   ]
  },
  {
   "cell_type": "code",
   "execution_count": 18,
   "metadata": {},
   "outputs": [
    {
     "data": {
      "text/plain": "array([[-1.19053987e-01, -3.85714687e-01, -2.23127521e-01, ...,\n         6.68782812e-02,  5.67199860e-02, -1.02699237e-02],\n       [-1.16723701e-01, -3.87851230e-01, -4.97099083e-01, ...,\n         8.20805156e-03,  1.57368620e-02, -2.58031428e-03],\n       [-1.43684170e-01, -3.68815791e-01, -3.17241458e-01, ...,\n        -2.60279386e-02,  3.94480423e-03, -2.78447292e-02],\n       ...,\n       [-2.93042884e-01,  1.82023688e+00,  1.49290195e-01, ...,\n        -7.48195405e-05, -4.37737430e-05, -2.33453765e-04],\n       [-1.75649313e-01, -5.55815703e-01,  7.89528663e-01, ...,\n        -2.09375749e-04, -2.19075270e-03, -3.34800868e-03],\n       [ 8.25978991e-03, -4.04166605e-01, -1.17162980e-01, ...,\n         1.81745010e-02, -8.11498231e-02,  1.18674514e-01]])"
     },
     "execution_count": 18,
     "metadata": {},
     "output_type": "execute_result"
    }
   ],
   "source": [
    "pca_data\n"
   ]
  },
  {
   "cell_type": "code",
   "execution_count": 103,
   "metadata": {},
   "outputs": [],
   "source": [
    "pca = PCA(n_components=0.95)"
   ]
  },
  {
   "cell_type": "code",
   "execution_count": 104,
   "metadata": {},
   "outputs": [],
   "source": [
    "pca_non_number = pca.fit_transform(non_number)"
   ]
  },
  {
   "cell_type": "code",
   "execution_count": 105,
   "metadata": {},
   "outputs": [
    {
     "data": {
      "text/plain": "<matplotlib.collections.PathCollection at 0x7f0c78e508b0>"
     },
     "execution_count": 105,
     "metadata": {},
     "output_type": "execute_result"
    },
    {
     "data": {
      "image/png": "[encoded data removed]",
      "text/plain": "<Figure size 432x288 with 1 Axes>"
     },
     "metadata": {
      "needs_background": "light"
     },
     "output_type": "display_data"
    }
   ],
   "source": [
    "plt.scatter(pca_non_number[:, 0], pca_non_number[:, 1])\n"
   ]
  },
  {
   "cell_type": "code",
   "execution_count": 106,
   "metadata": {},
   "outputs": [
    {
     "data": {
      "text/plain": "(array([0.08412556, 0.06988155, 0.05858971, 0.04599053, 0.04034452,\n        0.03723213, 0.03242514, 0.02953151, 0.02465067, 0.02159021,\n        0.01880567, 0.01843813, 0.01783839, 0.01682788, 0.01493562,\n        0.01443972, 0.01406088, 0.01354076, 0.01233948, 0.01149395,\n        0.01078481, 0.01040803, 0.00950869, 0.0093427 , 0.00913676,\n        0.008254  , 0.00737696, 0.00718223, 0.00712979, 0.00661918,\n        0.00639   , 0.00624006, 0.00616631, 0.00589364, 0.00561988,\n        0.00552606, 0.00532667, 0.00520726, 0.00502281, 0.00492859,\n        0.00480792, 0.00471806, 0.00467575, 0.00441529, 0.00437503,\n        0.00436543, 0.00428207, 0.00411146, 0.00405788, 0.00394572,\n        0.00386206, 0.00375581, 0.00368661, 0.00364315, 0.00357208,\n        0.0034538 , 0.00328207, 0.00317279, 0.00314329, 0.0031111 ,\n        0.00310207, 0.00305476, 0.00297767, 0.00292457, 0.00289549,\n        0.00283476, 0.00279607, 0.00268987, 0.00263495, 0.00262356,\n        0.00256056, 0.00251291, 0.00247072, 0.002432  , 0.00242874,\n        0.00235608, 0.00234947, 0.00229207, 0.00224909, 0.00222333,\n        0.00217829, 0.00213521, 0.00207735, 0.00204012, 0.00201295,\n        0.00200128, 0.00197596, 0.00196303, 0.00195768, 0.00194005,\n        0.00193043, 0.00189843, 0.00187768, 0.00185363, 0.00184624,\n        0.00180236, 0.00179291, 0.00177757, 0.00174759, 0.00171596,\n        0.00168411, 0.00165924, 0.00163718, 0.00162626, 0.00159042,\n        0.00157349, 0.00155782, 0.00154178, 0.00152693, 0.00151545,\n        0.00149443, 0.00147554, 0.00144087, 0.00143281, 0.00142601,\n        0.00140366, 0.00136973, 0.00133983, 0.00133422, 0.00132448,\n        0.00130922, 0.00129534, 0.00127383, 0.0012536 , 0.0012526 ,\n        0.00124314, 0.00123027, 0.00122041, 0.00119106, 0.00118704]),\n (130,),\n 0.9509280214627359)"
     },
     "execution_count": 106,
     "metadata": {},
     "output_type": "execute_result"
    }
   ],
   "source": [
    "pca.explained_variance_ratio_, pca.explained_variance_ratio_.shape, pca.explained_variance_ratio_.sum()\n"
   ]
  },
  {
   "cell_type": "code",
   "execution_count": null,
   "metadata": {},
   "outputs": [],
   "source": []
  }
 ],
 "metadata": {
  "kernelspec": {
   "display_name": "Python 3.9.2 64-bit",
   "name": "python39164bitf588f15d6b3148e0a6ddeac7a3a1aa78"
  },
  "language_info": {
   "codemirror_mode": {
    "name": "ipython",
    "version": 3
   },
   "file_extension": ".py",
   "mimetype": "text/x-python",
   "name": "python",
   "nbconvert_exporter": "python",
   "pygments_lexer": "ipython3",
   "version": "3.9.2"
  },
  "metadata": {
   "interpreter": {
    "hash": "767d51c1340bd893661ea55ea3124f6de3c7a262a8b4abca0554b478b1e2ff90"
   }
  }
 },
 "nbformat": 4,
 "nbformat_minor": 2
}