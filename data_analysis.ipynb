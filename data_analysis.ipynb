{
 "cells": [
  {
   "cell_type": "code",
   "execution_count": 1,
   "metadata": {},
   "outputs": [],
   "source": [
    "import pandas as pd\n",
    "import numpy as np"
   ]
  },
  {
   "cell_type": "code",
   "execution_count": 14,
   "metadata": {},
   "outputs": [
    {
     "data": {
      "text/html": "<div>\n<style scoped>\n    .dataframe tbody tr th:only-of-type {\n        vertical-align: middle;\n    }\n\n    .dataframe tbody tr th {\n        vertical-align: top;\n    }\n\n    .dataframe thead th {\n        text-align: right;\n    }\n</style>\n<table border=\"1\" class=\"dataframe\">\n  <thead>\n    <tr style=\"text-align: right;\">\n      <th></th>\n      <th>symbol</th>\n      <th>longName</th>\n      <th>state</th>\n      <th>country</th>\n      <th>industry</th>\n      <th>sector</th>\n      <th>fullTimeEmployees</th>\n      <th>Open0</th>\n      <th>High0</th>\n      <th>Low0</th>\n      <th>...</th>\n      <th>Volume0</th>\n      <th>day</th>\n      <th>month</th>\n      <th>year</th>\n      <th>Open1</th>\n      <th>High1</th>\n      <th>Low1</th>\n      <th>Close1</th>\n      <th>Adj Close1</th>\n      <th>Volume1</th>\n    </tr>\n  </thead>\n  <tbody>\n    <tr>\n      <th>0</th>\n      <td>A</td>\n      <td>Agilent Technologies, Inc.</td>\n      <td>CA</td>\n      <td>United States</td>\n      <td>Diagnostics &amp; Research</td>\n      <td>Healthcare</td>\n      <td>16400.0</td>\n      <td>66.800003</td>\n      <td>67.559998</td>\n      <td>62.090000</td>\n      <td>...</td>\n      <td>2989600.0</td>\n      <td>23</td>\n      <td>3</td>\n      <td>2020</td>\n      <td>65.529999</td>\n      <td>68.180000</td>\n      <td>64.599998</td>\n      <td>67.000000</td>\n      <td>66.359886</td>\n      <td>2868900.0</td>\n    </tr>\n    <tr>\n      <th>1</th>\n      <td>A</td>\n      <td>Agilent Technologies, Inc.</td>\n      <td>CA</td>\n      <td>United States</td>\n      <td>Diagnostics &amp; Research</td>\n      <td>Healthcare</td>\n      <td>16400.0</td>\n      <td>94.959999</td>\n      <td>97.540001</td>\n      <td>94.900002</td>\n      <td>...</td>\n      <td>1177100.0</td>\n      <td>27</td>\n      <td>7</td>\n      <td>2020</td>\n      <td>96.980003</td>\n      <td>97.250000</td>\n      <td>95.199997</td>\n      <td>95.300003</td>\n      <td>94.828430</td>\n      <td>1373700.0</td>\n    </tr>\n    <tr>\n      <th>2</th>\n      <td>A</td>\n      <td>Agilent Technologies, Inc.</td>\n      <td>CA</td>\n      <td>United States</td>\n      <td>Diagnostics &amp; Research</td>\n      <td>Healthcare</td>\n      <td>16400.0</td>\n      <td>98.709999</td>\n      <td>98.989998</td>\n      <td>96.889999</td>\n      <td>...</td>\n      <td>779200.0</td>\n      <td>5</td>\n      <td>8</td>\n      <td>2020</td>\n      <td>98.089996</td>\n      <td>98.830002</td>\n      <td>97.699997</td>\n      <td>97.889999</td>\n      <td>97.405609</td>\n      <td>958300.0</td>\n    </tr>\n    <tr>\n      <th>3</th>\n      <td>A</td>\n      <td>Agilent Technologies, Inc.</td>\n      <td>CA</td>\n      <td>United States</td>\n      <td>Diagnostics &amp; Research</td>\n      <td>Healthcare</td>\n      <td>16400.0</td>\n      <td>65.190002</td>\n      <td>69.879997</td>\n      <td>65.180000</td>\n      <td>...</td>\n      <td>4123900.0</td>\n      <td>19</td>\n      <td>3</td>\n      <td>2020</td>\n      <td>68.540001</td>\n      <td>68.589996</td>\n      <td>64.169998</td>\n      <td>65.760002</td>\n      <td>65.131737</td>\n      <td>3430700.0</td>\n    </tr>\n    <tr>\n      <th>4</th>\n      <td>A</td>\n      <td>Agilent Technologies, Inc.</td>\n      <td>CA</td>\n      <td>United States</td>\n      <td>Diagnostics &amp; Research</td>\n      <td>Healthcare</td>\n      <td>16400.0</td>\n      <td>86.559998</td>\n      <td>87.360001</td>\n      <td>86.110001</td>\n      <td>...</td>\n      <td>1302500.0</td>\n      <td>29</td>\n      <td>6</td>\n      <td>2020</td>\n      <td>87.330002</td>\n      <td>88.879997</td>\n      <td>87.239998</td>\n      <td>88.370003</td>\n      <td>87.932732</td>\n      <td>1920200.0</td>\n    </tr>\n  </tbody>\n</table>\n<p>5 rows × 22 columns</p>\n</div>",
      "text/plain": "  symbol                    longName state        country  \\\n0      A  Agilent Technologies, Inc.    CA  United States   \n1      A  Agilent Technologies, Inc.    CA  United States   \n2      A  Agilent Technologies, Inc.    CA  United States   \n3      A  Agilent Technologies, Inc.    CA  United States   \n4      A  Agilent Technologies, Inc.    CA  United States   \n\n                 industry      sector  fullTimeEmployees      Open0  \\\n0  Diagnostics & Research  Healthcare            16400.0  66.800003   \n1  Diagnostics & Research  Healthcare            16400.0  94.959999   \n2  Diagnostics & Research  Healthcare            16400.0  98.709999   \n3  Diagnostics & Research  Healthcare            16400.0  65.190002   \n4  Diagnostics & Research  Healthcare            16400.0  86.559998   \n\n       High0       Low0  ...    Volume0  day  month  year      Open1  \\\n0  67.559998  62.090000  ...  2989600.0   23      3  2020  65.529999   \n1  97.540001  94.900002  ...  1177100.0   27      7  2020  96.980003   \n2  98.989998  96.889999  ...   779200.0    5      8  2020  98.089996   \n3  69.879997  65.180000  ...  4123900.0   19      3  2020  68.540001   \n4  87.360001  86.110001  ...  1302500.0   29      6  2020  87.330002   \n\n       High1       Low1     Close1  Adj Close1    Volume1  \n0  68.180000  64.599998  67.000000   66.359886  2868900.0  \n1  97.250000  95.199997  95.300003   94.828430  1373700.0  \n2  98.830002  97.699997  97.889999   97.405609   958300.0  \n3  68.589996  64.169998  65.760002   65.131737  3430700.0  \n4  88.879997  87.239998  88.370003   87.932732  1920200.0  \n\n[5 rows x 22 columns]"
     },
     "execution_count": 14,
     "metadata": {},
     "output_type": "execute_result"
    }
   ],
   "source": [
    "dataset = pd.read_csv(\"dataset.csv\", sep=\";\")\n",
    "dataset.head(5)"
   ]
  },
  {
   "cell_type": "code",
   "execution_count": 3,
   "metadata": {},
   "outputs": [
    {
     "data": {
      "text/plain": "(Index(['symbol', 'longName', 'state', 'country', 'industry', 'sector',\n        'fullTimeEmployees', 'Open0', 'High0', 'Low0', 'Close0', 'Adj Close0',\n        'Volume0', 'day', 'month', 'year', 'Open1', 'High1', 'Low1', 'Close1',\n        'Adj Close1', 'Volume1'],\n       dtype='object'),\n (120687, 22))"
     },
     "execution_count": 3,
     "metadata": {},
     "output_type": "execute_result"
    }
   ],
   "source": [
    "dataset.columns, dataset.shape"
   ]
  },
  {
   "cell_type": "code",
   "execution_count": 4,
   "metadata": {},
   "outputs": [
    {
     "name": "stdout",
     "output_type": "stream",
     "text": [
      "<class 'pandas.core.frame.DataFrame'>\n",
      "RangeIndex: 120687 entries, 0 to 120686\n",
      "Data columns (total 22 columns):\n",
      " #   Column             Non-Null Count   Dtype  \n",
      "---  ------             --------------   -----  \n",
      " 0   symbol             120687 non-null  object \n",
      " 1   longName           113988 non-null  object \n",
      " 2   state              79632 non-null   object \n",
      " 3   country            90279 non-null   object \n",
      " 4   industry           89901 non-null   object \n",
      " 5   sector             89901 non-null   object \n",
      " 6   fullTimeEmployees  73920 non-null   float64\n",
      " 7   Open0              104076 non-null  float64\n",
      " 8   High0              104076 non-null  float64\n",
      " 9   Low0               104076 non-null  float64\n",
      " 10  Close0             104076 non-null  float64\n",
      " 11  Adj Close0         104076 non-null  float64\n",
      " 12  Volume0            104076 non-null  float64\n",
      " 13  day                120687 non-null  int64  \n",
      " 14  month              120687 non-null  int64  \n",
      " 15  year               120687 non-null  int64  \n",
      " 16  Open1              104081 non-null  float64\n",
      " 17  High1              104081 non-null  float64\n",
      " 18  Low1               104081 non-null  float64\n",
      " 19  Close1             104081 non-null  float64\n",
      " 20  Adj Close1         104081 non-null  float64\n",
      " 21  Volume1            104081 non-null  float64\n",
      "dtypes: float64(13), int64(3), object(6)\n",
      "memory usage: 20.3+ MB\n"
     ]
    }
   ],
   "source": [
    "dataset.info()"
   ]
  },
  {
   "cell_type": "code",
   "execution_count": 5,
   "metadata": {},
   "outputs": [
    {
     "data": {
      "text/plain": "symbol                   0\nlongName              6699\nstate                41055\ncountry              30408\nindustry             30786\nsector               30786\nfullTimeEmployees    46767\nOpen0                16611\nHigh0                16611\nLow0                 16611\nClose0               16611\nAdj Close0           16611\nVolume0              16611\nday                      0\nmonth                    0\nyear                     0\nOpen1                16606\nHigh1                16606\nLow1                 16606\nClose1               16606\nAdj Close1           16606\nVolume1              16606\ndtype: int64"
     },
     "execution_count": 5,
     "metadata": {},
     "output_type": "execute_result"
    }
   ],
   "source": [
    "dataset.isnull().sum() "
   ]
  },
  {
   "cell_type": "code",
   "execution_count": 6,
   "metadata": {},
   "outputs": [
    {
     "data": {
      "text/html": "<div>\n<style scoped>\n    .dataframe tbody tr th:only-of-type {\n        vertical-align: middle;\n    }\n\n    .dataframe tbody tr th {\n        vertical-align: top;\n    }\n\n    .dataframe thead th {\n        text-align: right;\n    }\n</style>\n<table border=\"1\" class=\"dataframe\">\n  <thead>\n    <tr style=\"text-align: right;\">\n      <th></th>\n      <th>symbol</th>\n      <th>longName</th>\n      <th>state</th>\n      <th>country</th>\n      <th>industry</th>\n      <th>sector</th>\n      <th>fullTimeEmployees</th>\n      <th>Open0</th>\n      <th>High0</th>\n      <th>Low0</th>\n      <th>...</th>\n      <th>Volume0</th>\n      <th>day</th>\n      <th>month</th>\n      <th>year</th>\n      <th>Open1</th>\n      <th>High1</th>\n      <th>Low1</th>\n      <th>Close1</th>\n      <th>Adj Close1</th>\n      <th>Volume1</th>\n    </tr>\n  </thead>\n  <tbody>\n    <tr>\n      <th>count</th>\n      <td>120687</td>\n      <td>113988</td>\n      <td>79632</td>\n      <td>90279</td>\n      <td>89901</td>\n      <td>89901</td>\n      <td>7.392000e+04</td>\n      <td>104076.000000</td>\n      <td>104076.000000</td>\n      <td>104076.000000</td>\n      <td>...</td>\n      <td>1.040760e+05</td>\n      <td>120687.000000</td>\n      <td>120687.000000</td>\n      <td>120687.0</td>\n      <td>104081.000000</td>\n      <td>104081.000000</td>\n      <td>104081.000000</td>\n      <td>104081.000000</td>\n      <td>104081.000000</td>\n      <td>1.040810e+05</td>\n    </tr>\n    <tr>\n      <th>unique</th>\n      <td>5747</td>\n      <td>5300</td>\n      <td>70</td>\n      <td>48</td>\n      <td>145</td>\n      <td>12</td>\n      <td>NaN</td>\n      <td>NaN</td>\n      <td>NaN</td>\n      <td>NaN</td>\n      <td>...</td>\n      <td>NaN</td>\n      <td>NaN</td>\n      <td>NaN</td>\n      <td>NaN</td>\n      <td>NaN</td>\n      <td>NaN</td>\n      <td>NaN</td>\n      <td>NaN</td>\n      <td>NaN</td>\n      <td>NaN</td>\n    </tr>\n    <tr>\n      <th>top</th>\n      <td>NOW</td>\n      <td>CHS Inc.</td>\n      <td>CA</td>\n      <td>United States</td>\n      <td>Asset Management</td>\n      <td>Financial Services</td>\n      <td>NaN</td>\n      <td>NaN</td>\n      <td>NaN</td>\n      <td>NaN</td>\n      <td>...</td>\n      <td>NaN</td>\n      <td>NaN</td>\n      <td>NaN</td>\n      <td>NaN</td>\n      <td>NaN</td>\n      <td>NaN</td>\n      <td>NaN</td>\n      <td>NaN</td>\n      <td>NaN</td>\n      <td>NaN</td>\n    </tr>\n    <tr>\n      <th>freq</th>\n      <td>21</td>\n      <td>105</td>\n      <td>11319</td>\n      <td>75873</td>\n      <td>10437</td>\n      <td>22932</td>\n      <td>NaN</td>\n      <td>NaN</td>\n      <td>NaN</td>\n      <td>NaN</td>\n      <td>...</td>\n      <td>NaN</td>\n      <td>NaN</td>\n      <td>NaN</td>\n      <td>NaN</td>\n      <td>NaN</td>\n      <td>NaN</td>\n      <td>NaN</td>\n      <td>NaN</td>\n      <td>NaN</td>\n      <td>NaN</td>\n    </tr>\n    <tr>\n      <th>mean</th>\n      <td>NaN</td>\n      <td>NaN</td>\n      <td>NaN</td>\n      <td>NaN</td>\n      <td>NaN</td>\n      <td>NaN</td>\n      <td>1.374761e+04</td>\n      <td>201.791969</td>\n      <td>204.596548</td>\n      <td>199.516842</td>\n      <td>...</td>\n      <td>1.457924e+06</td>\n      <td>18.523810</td>\n      <td>7.619048</td>\n      <td>2020.0</td>\n      <td>203.541668</td>\n      <td>206.689257</td>\n      <td>201.486502</td>\n      <td>204.362599</td>\n      <td>203.937497</td>\n      <td>1.482830e+06</td>\n    </tr>\n    <tr>\n      <th>std</th>\n      <td>NaN</td>\n      <td>NaN</td>\n      <td>NaN</td>\n      <td>NaN</td>\n      <td>NaN</td>\n      <td>NaN</td>\n      <td>5.847767e+04</td>\n      <td>5465.404046</td>\n      <td>5529.930546</td>\n      <td>5419.854570</td>\n      <td>...</td>\n      <td>6.506099e+06</td>\n      <td>8.156942</td>\n      <td>3.696554</td>\n      <td>0.0</td>\n      <td>5491.835736</td>\n      <td>5564.702522</td>\n      <td>5451.403328</td>\n      <td>5516.020438</td>\n      <td>5516.028984</td>\n      <td>7.737973e+06</td>\n    </tr>\n    <tr>\n      <th>min</th>\n      <td>NaN</td>\n      <td>NaN</td>\n      <td>NaN</td>\n      <td>NaN</td>\n      <td>NaN</td>\n      <td>NaN</td>\n      <td>1.000000e+00</td>\n      <td>0.000100</td>\n      <td>0.000100</td>\n      <td>0.000100</td>\n      <td>...</td>\n      <td>0.000000e+00</td>\n      <td>4.000000</td>\n      <td>1.000000</td>\n      <td>2020.0</td>\n      <td>0.000100</td>\n      <td>0.000100</td>\n      <td>0.000100</td>\n      <td>0.000100</td>\n      <td>-1.149437</td>\n      <td>0.000000e+00</td>\n    </tr>\n    <tr>\n      <th>25%</th>\n      <td>NaN</td>\n      <td>NaN</td>\n      <td>NaN</td>\n      <td>NaN</td>\n      <td>NaN</td>\n      <td>NaN</td>\n      <td>2.340000e+02</td>\n      <td>7.890000</td>\n      <td>8.090000</td>\n      <td>7.600000</td>\n      <td>...</td>\n      <td>3.980000e+04</td>\n      <td>11.000000</td>\n      <td>4.000000</td>\n      <td>2020.0</td>\n      <td>7.900000</td>\n      <td>8.160000</td>\n      <td>7.680000</td>\n      <td>7.970000</td>\n      <td>7.760000</td>\n      <td>3.900000e+04</td>\n    </tr>\n    <tr>\n      <th>50%</th>\n      <td>NaN</td>\n      <td>NaN</td>\n      <td>NaN</td>\n      <td>NaN</td>\n      <td>NaN</td>\n      <td>NaN</td>\n      <td>1.549000e+03</td>\n      <td>19.070000</td>\n      <td>19.510000</td>\n      <td>18.580000</td>\n      <td>...</td>\n      <td>2.309000e+05</td>\n      <td>19.000000</td>\n      <td>8.000000</td>\n      <td>2020.0</td>\n      <td>19.200001</td>\n      <td>19.700001</td>\n      <td>18.809999</td>\n      <td>19.330000</td>\n      <td>18.924549</td>\n      <td>2.281000e+05</td>\n    </tr>\n    <tr>\n      <th>75%</th>\n      <td>NaN</td>\n      <td>NaN</td>\n      <td>NaN</td>\n      <td>NaN</td>\n      <td>NaN</td>\n      <td>NaN</td>\n      <td>7.736250e+03</td>\n      <td>41.980000</td>\n      <td>42.840000</td>\n      <td>41.220001</td>\n      <td>...</td>\n      <td>9.262250e+05</td>\n      <td>27.000000</td>\n      <td>11.000000</td>\n      <td>2020.0</td>\n      <td>42.349998</td>\n      <td>43.200001</td>\n      <td>41.653000</td>\n      <td>42.590000</td>\n      <td>42.020000</td>\n      <td>9.192000e+05</td>\n    </tr>\n    <tr>\n      <th>max</th>\n      <td>NaN</td>\n      <td>NaN</td>\n      <td>NaN</td>\n      <td>NaN</td>\n      <td>NaN</td>\n      <td>NaN</td>\n      <td>2.300000e+06</td>\n      <td>351900.000000</td>\n      <td>351900.000000</td>\n      <td>345500.000000</td>\n      <td>...</td>\n      <td>6.255062e+08</td>\n      <td>29.000000</td>\n      <td>12.000000</td>\n      <td>2020.0</td>\n      <td>349580.000000</td>\n      <td>352450.000000</td>\n      <td>347310.000000</td>\n      <td>351101.000000</td>\n      <td>351101.000000</td>\n      <td>1.140131e+09</td>\n    </tr>\n  </tbody>\n</table>\n<p>11 rows × 22 columns</p>\n</div>",
      "text/plain": "        symbol  longName  state        country          industry  \\\ncount   120687    113988  79632          90279             89901   \nunique    5747      5300     70             48               145   \ntop        NOW  CHS Inc.     CA  United States  Asset Management   \nfreq        21       105  11319          75873             10437   \nmean       NaN       NaN    NaN            NaN               NaN   \nstd        NaN       NaN    NaN            NaN               NaN   \nmin        NaN       NaN    NaN            NaN               NaN   \n25%        NaN       NaN    NaN            NaN               NaN   \n50%        NaN       NaN    NaN            NaN               NaN   \n75%        NaN       NaN    NaN            NaN               NaN   \nmax        NaN       NaN    NaN            NaN               NaN   \n\n                    sector  fullTimeEmployees          Open0          High0  \\\ncount                89901       7.392000e+04  104076.000000  104076.000000   \nunique                  12                NaN            NaN            NaN   \ntop     Financial Services                NaN            NaN            NaN   \nfreq                 22932                NaN            NaN            NaN   \nmean                   NaN       1.374761e+04     201.791969     204.596548   \nstd                    NaN       5.847767e+04    5465.404046    5529.930546   \nmin                    NaN       1.000000e+00       0.000100       0.000100   \n25%                    NaN       2.340000e+02       7.890000       8.090000   \n50%                    NaN       1.549000e+03      19.070000      19.510000   \n75%                    NaN       7.736250e+03      41.980000      42.840000   \nmax                    NaN       2.300000e+06  351900.000000  351900.000000   \n\n                 Low0  ...       Volume0            day          month  \\\ncount   104076.000000  ...  1.040760e+05  120687.000000  120687.000000   \nunique            NaN  ...           NaN            NaN            NaN   \ntop               NaN  ...           NaN            NaN            NaN   \nfreq              NaN  ...           NaN            NaN            NaN   \nmean       199.516842  ...  1.457924e+06      18.523810       7.619048   \nstd       5419.854570  ...  6.506099e+06       8.156942       3.696554   \nmin          0.000100  ...  0.000000e+00       4.000000       1.000000   \n25%          7.600000  ...  3.980000e+04      11.000000       4.000000   \n50%         18.580000  ...  2.309000e+05      19.000000       8.000000   \n75%         41.220001  ...  9.262250e+05      27.000000      11.000000   \nmax     345500.000000  ...  6.255062e+08      29.000000      12.000000   \n\n            year          Open1          High1           Low1         Close1  \\\ncount   120687.0  104081.000000  104081.000000  104081.000000  104081.000000   \nunique       NaN            NaN            NaN            NaN            NaN   \ntop          NaN            NaN            NaN            NaN            NaN   \nfreq         NaN            NaN            NaN            NaN            NaN   \nmean      2020.0     203.541668     206.689257     201.486502     204.362599   \nstd          0.0    5491.835736    5564.702522    5451.403328    5516.020438   \nmin       2020.0       0.000100       0.000100       0.000100       0.000100   \n25%       2020.0       7.900000       8.160000       7.680000       7.970000   \n50%       2020.0      19.200001      19.700001      18.809999      19.330000   \n75%       2020.0      42.349998      43.200001      41.653000      42.590000   \nmax       2020.0  349580.000000  352450.000000  347310.000000  351101.000000   \n\n           Adj Close1       Volume1  \ncount   104081.000000  1.040810e+05  \nunique            NaN           NaN  \ntop               NaN           NaN  \nfreq              NaN           NaN  \nmean       203.937497  1.482830e+06  \nstd       5516.028984  7.737973e+06  \nmin         -1.149437  0.000000e+00  \n25%          7.760000  3.900000e+04  \n50%         18.924549  2.281000e+05  \n75%         42.020000  9.192000e+05  \nmax     351101.000000  1.140131e+09  \n\n[11 rows x 22 columns]"
     },
     "execution_count": 6,
     "metadata": {},
     "output_type": "execute_result"
    }
   ],
   "source": [
    "dataset.describe(include=\"all\")"
   ]
  },
  {
   "cell_type": "code",
   "execution_count": 7,
   "metadata": {},
   "outputs": [
    {
     "data": {
      "text/html": "<div>\n<style scoped>\n    .dataframe tbody tr th:only-of-type {\n        vertical-align: middle;\n    }\n\n    .dataframe tbody tr th {\n        vertical-align: top;\n    }\n\n    .dataframe thead th {\n        text-align: right;\n    }\n</style>\n<table border=\"1\" class=\"dataframe\">\n  <thead>\n    <tr style=\"text-align: right;\">\n      <th></th>\n      <th>symbol</th>\n      <th>longName</th>\n      <th>state</th>\n      <th>country</th>\n      <th>industry</th>\n      <th>sector</th>\n      <th>fullTimeEmployees</th>\n      <th>Open0</th>\n      <th>High0</th>\n      <th>Low0</th>\n      <th>...</th>\n      <th>Volume0</th>\n      <th>day</th>\n      <th>month</th>\n      <th>year</th>\n      <th>Open1</th>\n      <th>High1</th>\n      <th>Low1</th>\n      <th>Close1</th>\n      <th>Adj Close1</th>\n      <th>Volume1</th>\n    </tr>\n  </thead>\n  <tbody>\n    <tr>\n      <th>0</th>\n      <td>A</td>\n      <td>Agilent Technologies, Inc.</td>\n      <td>CA</td>\n      <td>United States</td>\n      <td>Diagnostics &amp; Research</td>\n      <td>Healthcare</td>\n      <td>16400.0</td>\n      <td>66.800003</td>\n      <td>67.559998</td>\n      <td>62.090000</td>\n      <td>...</td>\n      <td>2989600.0</td>\n      <td>23</td>\n      <td>3</td>\n      <td>2020</td>\n      <td>65.529999</td>\n      <td>68.180000</td>\n      <td>64.599998</td>\n      <td>67.000000</td>\n      <td>66.359886</td>\n      <td>2868900.0</td>\n    </tr>\n    <tr>\n      <th>1</th>\n      <td>A</td>\n      <td>Agilent Technologies, Inc.</td>\n      <td>CA</td>\n      <td>United States</td>\n      <td>Diagnostics &amp; Research</td>\n      <td>Healthcare</td>\n      <td>16400.0</td>\n      <td>94.959999</td>\n      <td>97.540001</td>\n      <td>94.900002</td>\n      <td>...</td>\n      <td>1177100.0</td>\n      <td>27</td>\n      <td>7</td>\n      <td>2020</td>\n      <td>96.980003</td>\n      <td>97.250000</td>\n      <td>95.199997</td>\n      <td>95.300003</td>\n      <td>94.828430</td>\n      <td>1373700.0</td>\n    </tr>\n    <tr>\n      <th>2</th>\n      <td>A</td>\n      <td>Agilent Technologies, Inc.</td>\n      <td>CA</td>\n      <td>United States</td>\n      <td>Diagnostics &amp; Research</td>\n      <td>Healthcare</td>\n      <td>16400.0</td>\n      <td>98.709999</td>\n      <td>98.989998</td>\n      <td>96.889999</td>\n      <td>...</td>\n      <td>779200.0</td>\n      <td>5</td>\n      <td>8</td>\n      <td>2020</td>\n      <td>98.089996</td>\n      <td>98.830002</td>\n      <td>97.699997</td>\n      <td>97.889999</td>\n      <td>97.405609</td>\n      <td>958300.0</td>\n    </tr>\n    <tr>\n      <th>3</th>\n      <td>A</td>\n      <td>Agilent Technologies, Inc.</td>\n      <td>CA</td>\n      <td>United States</td>\n      <td>Diagnostics &amp; Research</td>\n      <td>Healthcare</td>\n      <td>16400.0</td>\n      <td>65.190002</td>\n      <td>69.879997</td>\n      <td>65.180000</td>\n      <td>...</td>\n      <td>4123900.0</td>\n      <td>19</td>\n      <td>3</td>\n      <td>2020</td>\n      <td>68.540001</td>\n      <td>68.589996</td>\n      <td>64.169998</td>\n      <td>65.760002</td>\n      <td>65.131737</td>\n      <td>3430700.0</td>\n    </tr>\n    <tr>\n      <th>4</th>\n      <td>A</td>\n      <td>Agilent Technologies, Inc.</td>\n      <td>CA</td>\n      <td>United States</td>\n      <td>Diagnostics &amp; Research</td>\n      <td>Healthcare</td>\n      <td>16400.0</td>\n      <td>86.559998</td>\n      <td>87.360001</td>\n      <td>86.110001</td>\n      <td>...</td>\n      <td>1302500.0</td>\n      <td>29</td>\n      <td>6</td>\n      <td>2020</td>\n      <td>87.330002</td>\n      <td>88.879997</td>\n      <td>87.239998</td>\n      <td>88.370003</td>\n      <td>87.932732</td>\n      <td>1920200.0</td>\n    </tr>\n  </tbody>\n</table>\n<p>5 rows × 22 columns</p>\n</div>",
      "text/plain": "  symbol                    longName state        country  \\\n0      A  Agilent Technologies, Inc.    CA  United States   \n1      A  Agilent Technologies, Inc.    CA  United States   \n2      A  Agilent Technologies, Inc.    CA  United States   \n3      A  Agilent Technologies, Inc.    CA  United States   \n4      A  Agilent Technologies, Inc.    CA  United States   \n\n                 industry      sector  fullTimeEmployees      Open0  \\\n0  Diagnostics & Research  Healthcare            16400.0  66.800003   \n1  Diagnostics & Research  Healthcare            16400.0  94.959999   \n2  Diagnostics & Research  Healthcare            16400.0  98.709999   \n3  Diagnostics & Research  Healthcare            16400.0  65.190002   \n4  Diagnostics & Research  Healthcare            16400.0  86.559998   \n\n       High0       Low0  ...    Volume0  day  month  year      Open1  \\\n0  67.559998  62.090000  ...  2989600.0   23      3  2020  65.529999   \n1  97.540001  94.900002  ...  1177100.0   27      7  2020  96.980003   \n2  98.989998  96.889999  ...   779200.0    5      8  2020  98.089996   \n3  69.879997  65.180000  ...  4123900.0   19      3  2020  68.540001   \n4  87.360001  86.110001  ...  1302500.0   29      6  2020  87.330002   \n\n       High1       Low1     Close1  Adj Close1    Volume1  \n0  68.180000  64.599998  67.000000   66.359886  2868900.0  \n1  97.250000  95.199997  95.300003   94.828430  1373700.0  \n2  98.830002  97.699997  97.889999   97.405609   958300.0  \n3  68.589996  64.169998  65.760002   65.131737  3430700.0  \n4  88.879997  87.239998  88.370003   87.932732  1920200.0  \n\n[5 rows x 22 columns]"
     },
     "execution_count": 7,
     "metadata": {},
     "output_type": "execute_result"
    }
   ],
   "source": [
    "dataset = dataset.dropna(subset=['Open0', 'High0', 'Low0', 'Close0', 'Adj Close0',\n",
    "                                 'Volume0', 'Open1', 'High1', 'Low1', 'Close1', 'Adj Close1', 'Volume1'])\n",
    "dataset.head(5)\n"
   ]
  },
  {
   "cell_type": "code",
   "execution_count": 8,
   "metadata": {},
   "outputs": [
    {
     "data": {
      "text/plain": "symbol                   0\nlongName               332\nstate                25267\ncountry              14738\nindustry             14990\nsector               14990\nfullTimeEmployees    30690\nOpen0                    0\nHigh0                    0\nLow0                     0\nClose0                   0\nAdj Close0               0\nVolume0                  0\nday                      0\nmonth                    0\nyear                     0\nOpen1                    0\nHigh1                    0\nLow1                     0\nClose1                   0\nAdj Close1               0\nVolume1                  0\ndtype: int64"
     },
     "execution_count": 8,
     "metadata": {},
     "output_type": "execute_result"
    }
   ],
   "source": [
    "dataset.isnull().sum() "
   ]
  },
  {
   "cell_type": "code",
   "execution_count": 9,
   "metadata": {},
   "outputs": [
    {
     "data": {
      "text/html": "<div>\n<style scoped>\n    .dataframe tbody tr th:only-of-type {\n        vertical-align: middle;\n    }\n\n    .dataframe tbody tr th {\n        vertical-align: top;\n    }\n\n    .dataframe thead th {\n        text-align: right;\n    }\n</style>\n<table border=\"1\" class=\"dataframe\">\n  <thead>\n    <tr style=\"text-align: right;\">\n      <th></th>\n      <th>symbol</th>\n      <th>longName</th>\n      <th>state</th>\n      <th>country</th>\n      <th>industry</th>\n      <th>sector</th>\n      <th>fullTimeEmployees</th>\n      <th>Open0</th>\n      <th>High0</th>\n      <th>Low0</th>\n      <th>...</th>\n      <th>Volume0</th>\n      <th>day</th>\n      <th>month</th>\n      <th>year</th>\n      <th>Open1</th>\n      <th>High1</th>\n      <th>Low1</th>\n      <th>Close1</th>\n      <th>Adj Close1</th>\n      <th>Volume1</th>\n    </tr>\n  </thead>\n  <tbody>\n    <tr>\n      <th>count</th>\n      <td>104062</td>\n      <td>103730</td>\n      <td>78795</td>\n      <td>89324</td>\n      <td>89072</td>\n      <td>89072</td>\n      <td>7.337200e+04</td>\n      <td>104062.000000</td>\n      <td>104062.000000</td>\n      <td>104062.000000</td>\n      <td>...</td>\n      <td>1.040620e+05</td>\n      <td>104062.000000</td>\n      <td>104062.000000</td>\n      <td>104062.0</td>\n      <td>104062.000000</td>\n      <td>104062.000000</td>\n      <td>104062.000000</td>\n      <td>104062.000000</td>\n      <td>104062.000000</td>\n      <td>1.040620e+05</td>\n    </tr>\n    <tr>\n      <th>unique</th>\n      <td>5033</td>\n      <td>4905</td>\n      <td>70</td>\n      <td>48</td>\n      <td>145</td>\n      <td>12</td>\n      <td>NaN</td>\n      <td>NaN</td>\n      <td>NaN</td>\n      <td>NaN</td>\n      <td>...</td>\n      <td>NaN</td>\n      <td>NaN</td>\n      <td>NaN</td>\n      <td>NaN</td>\n      <td>NaN</td>\n      <td>NaN</td>\n      <td>NaN</td>\n      <td>NaN</td>\n      <td>NaN</td>\n      <td>NaN</td>\n    </tr>\n    <tr>\n      <th>top</th>\n      <td>NOW</td>\n      <td>CHS Inc.</td>\n      <td>CA</td>\n      <td>United States</td>\n      <td>Asset Management</td>\n      <td>Financial Services</td>\n      <td>NaN</td>\n      <td>NaN</td>\n      <td>NaN</td>\n      <td>NaN</td>\n      <td>...</td>\n      <td>NaN</td>\n      <td>NaN</td>\n      <td>NaN</td>\n      <td>NaN</td>\n      <td>NaN</td>\n      <td>NaN</td>\n      <td>NaN</td>\n      <td>NaN</td>\n      <td>NaN</td>\n      <td>NaN</td>\n    </tr>\n    <tr>\n      <th>freq</th>\n      <td>21</td>\n      <td>105</td>\n      <td>11117</td>\n      <td>75036</td>\n      <td>10424</td>\n      <td>22539</td>\n      <td>NaN</td>\n      <td>NaN</td>\n      <td>NaN</td>\n      <td>NaN</td>\n      <td>...</td>\n      <td>NaN</td>\n      <td>NaN</td>\n      <td>NaN</td>\n      <td>NaN</td>\n      <td>NaN</td>\n      <td>NaN</td>\n      <td>NaN</td>\n      <td>NaN</td>\n      <td>NaN</td>\n      <td>NaN</td>\n    </tr>\n    <tr>\n      <th>mean</th>\n      <td>NaN</td>\n      <td>NaN</td>\n      <td>NaN</td>\n      <td>NaN</td>\n      <td>NaN</td>\n      <td>NaN</td>\n      <td>1.378390e+04</td>\n      <td>201.770484</td>\n      <td>204.575389</td>\n      <td>199.495146</td>\n      <td>...</td>\n      <td>1.458118e+06</td>\n      <td>18.523890</td>\n      <td>7.601699</td>\n      <td>2020.0</td>\n      <td>202.449651</td>\n      <td>205.597535</td>\n      <td>200.394938</td>\n      <td>203.270914</td>\n      <td>202.845742</td>\n      <td>1.482852e+06</td>\n    </tr>\n    <tr>\n      <th>std</th>\n      <td>NaN</td>\n      <td>NaN</td>\n      <td>NaN</td>\n      <td>NaN</td>\n      <td>NaN</td>\n      <td>NaN</td>\n      <td>5.856325e+04</td>\n      <td>5465.764043</td>\n      <td>5530.294985</td>\n      <td>5420.211428</td>\n      <td>...</td>\n      <td>6.506515e+06</td>\n      <td>8.150834</td>\n      <td>3.700231</td>\n      <td>0.0</td>\n      <td>5486.870390</td>\n      <td>5559.816076</td>\n      <td>5446.393508</td>\n      <td>5511.081490</td>\n      <td>5511.089960</td>\n      <td>7.738319e+06</td>\n    </tr>\n    <tr>\n      <th>min</th>\n      <td>NaN</td>\n      <td>NaN</td>\n      <td>NaN</td>\n      <td>NaN</td>\n      <td>NaN</td>\n      <td>NaN</td>\n      <td>1.000000e+00</td>\n      <td>0.000100</td>\n      <td>0.000100</td>\n      <td>0.000100</td>\n      <td>...</td>\n      <td>0.000000e+00</td>\n      <td>4.000000</td>\n      <td>1.000000</td>\n      <td>2020.0</td>\n      <td>0.000100</td>\n      <td>0.000100</td>\n      <td>0.000100</td>\n      <td>0.000100</td>\n      <td>-1.149437</td>\n      <td>0.000000e+00</td>\n    </tr>\n    <tr>\n      <th>25%</th>\n      <td>NaN</td>\n      <td>NaN</td>\n      <td>NaN</td>\n      <td>NaN</td>\n      <td>NaN</td>\n      <td>NaN</td>\n      <td>2.360000e+02</td>\n      <td>7.890000</td>\n      <td>8.090000</td>\n      <td>7.600000</td>\n      <td>...</td>\n      <td>3.980000e+04</td>\n      <td>11.000000</td>\n      <td>4.000000</td>\n      <td>2020.0</td>\n      <td>7.900000</td>\n      <td>8.160000</td>\n      <td>7.680000</td>\n      <td>7.970000</td>\n      <td>7.758654</td>\n      <td>3.900000e+04</td>\n    </tr>\n    <tr>\n      <th>50%</th>\n      <td>NaN</td>\n      <td>NaN</td>\n      <td>NaN</td>\n      <td>NaN</td>\n      <td>NaN</td>\n      <td>NaN</td>\n      <td>1.572000e+03</td>\n      <td>19.070000</td>\n      <td>19.510000</td>\n      <td>18.580000</td>\n      <td>...</td>\n      <td>2.309500e+05</td>\n      <td>19.000000</td>\n      <td>8.000000</td>\n      <td>2020.0</td>\n      <td>19.200001</td>\n      <td>19.690001</td>\n      <td>18.809999</td>\n      <td>19.320000</td>\n      <td>18.920000</td>\n      <td>2.282000e+05</td>\n    </tr>\n    <tr>\n      <th>75%</th>\n      <td>NaN</td>\n      <td>NaN</td>\n      <td>NaN</td>\n      <td>NaN</td>\n      <td>NaN</td>\n      <td>NaN</td>\n      <td>7.892000e+03</td>\n      <td>41.970001</td>\n      <td>42.840000</td>\n      <td>41.209999</td>\n      <td>...</td>\n      <td>9.263000e+05</td>\n      <td>27.000000</td>\n      <td>11.000000</td>\n      <td>2020.0</td>\n      <td>42.330002</td>\n      <td>43.187019</td>\n      <td>41.650002</td>\n      <td>42.570000</td>\n      <td>42.000584</td>\n      <td>9.194750e+05</td>\n    </tr>\n    <tr>\n      <th>max</th>\n      <td>NaN</td>\n      <td>NaN</td>\n      <td>NaN</td>\n      <td>NaN</td>\n      <td>NaN</td>\n      <td>NaN</td>\n      <td>2.300000e+06</td>\n      <td>351900.000000</td>\n      <td>351900.000000</td>\n      <td>345500.000000</td>\n      <td>...</td>\n      <td>6.255062e+08</td>\n      <td>29.000000</td>\n      <td>12.000000</td>\n      <td>2020.0</td>\n      <td>349580.000000</td>\n      <td>352450.000000</td>\n      <td>347310.000000</td>\n      <td>351101.000000</td>\n      <td>351101.000000</td>\n      <td>1.140131e+09</td>\n    </tr>\n  </tbody>\n</table>\n<p>11 rows × 22 columns</p>\n</div>",
      "text/plain": "        symbol  longName  state        country          industry  \\\ncount   104062    103730  78795          89324             89072   \nunique    5033      4905     70             48               145   \ntop        NOW  CHS Inc.     CA  United States  Asset Management   \nfreq        21       105  11117          75036             10424   \nmean       NaN       NaN    NaN            NaN               NaN   \nstd        NaN       NaN    NaN            NaN               NaN   \nmin        NaN       NaN    NaN            NaN               NaN   \n25%        NaN       NaN    NaN            NaN               NaN   \n50%        NaN       NaN    NaN            NaN               NaN   \n75%        NaN       NaN    NaN            NaN               NaN   \nmax        NaN       NaN    NaN            NaN               NaN   \n\n                    sector  fullTimeEmployees          Open0          High0  \\\ncount                89072       7.337200e+04  104062.000000  104062.000000   \nunique                  12                NaN            NaN            NaN   \ntop     Financial Services                NaN            NaN            NaN   \nfreq                 22539                NaN            NaN            NaN   \nmean                   NaN       1.378390e+04     201.770484     204.575389   \nstd                    NaN       5.856325e+04    5465.764043    5530.294985   \nmin                    NaN       1.000000e+00       0.000100       0.000100   \n25%                    NaN       2.360000e+02       7.890000       8.090000   \n50%                    NaN       1.572000e+03      19.070000      19.510000   \n75%                    NaN       7.892000e+03      41.970001      42.840000   \nmax                    NaN       2.300000e+06  351900.000000  351900.000000   \n\n                 Low0  ...       Volume0            day          month  \\\ncount   104062.000000  ...  1.040620e+05  104062.000000  104062.000000   \nunique            NaN  ...           NaN            NaN            NaN   \ntop               NaN  ...           NaN            NaN            NaN   \nfreq              NaN  ...           NaN            NaN            NaN   \nmean       199.495146  ...  1.458118e+06      18.523890       7.601699   \nstd       5420.211428  ...  6.506515e+06       8.150834       3.700231   \nmin          0.000100  ...  0.000000e+00       4.000000       1.000000   \n25%          7.600000  ...  3.980000e+04      11.000000       4.000000   \n50%         18.580000  ...  2.309500e+05      19.000000       8.000000   \n75%         41.209999  ...  9.263000e+05      27.000000      11.000000   \nmax     345500.000000  ...  6.255062e+08      29.000000      12.000000   \n\n            year          Open1          High1           Low1         Close1  \\\ncount   104062.0  104062.000000  104062.000000  104062.000000  104062.000000   \nunique       NaN            NaN            NaN            NaN            NaN   \ntop          NaN            NaN            NaN            NaN            NaN   \nfreq         NaN            NaN            NaN            NaN            NaN   \nmean      2020.0     202.449651     205.597535     200.394938     203.270914   \nstd          0.0    5486.870390    5559.816076    5446.393508    5511.081490   \nmin       2020.0       0.000100       0.000100       0.000100       0.000100   \n25%       2020.0       7.900000       8.160000       7.680000       7.970000   \n50%       2020.0      19.200001      19.690001      18.809999      19.320000   \n75%       2020.0      42.330002      43.187019      41.650002      42.570000   \nmax       2020.0  349580.000000  352450.000000  347310.000000  351101.000000   \n\n           Adj Close1       Volume1  \ncount   104062.000000  1.040620e+05  \nunique            NaN           NaN  \ntop               NaN           NaN  \nfreq              NaN           NaN  \nmean       202.845742  1.482852e+06  \nstd       5511.089960  7.738319e+06  \nmin         -1.149437  0.000000e+00  \n25%          7.758654  3.900000e+04  \n50%         18.920000  2.282000e+05  \n75%         42.000584  9.194750e+05  \nmax     351101.000000  1.140131e+09  \n\n[11 rows x 22 columns]"
     },
     "execution_count": 9,
     "metadata": {},
     "output_type": "execute_result"
    }
   ],
   "source": [
    "dataset.describe(include=\"all\")"
   ]
  },
  {
   "cell_type": "code",
   "execution_count": 10,
   "metadata": {},
   "outputs": [
    {
     "data": {
      "text/html": "<div>\n<style scoped>\n    .dataframe tbody tr th:only-of-type {\n        vertical-align: middle;\n    }\n\n    .dataframe tbody tr th {\n        vertical-align: top;\n    }\n\n    .dataframe thead th {\n        text-align: right;\n    }\n</style>\n<table border=\"1\" class=\"dataframe\">\n  <thead>\n    <tr style=\"text-align: right;\">\n      <th></th>\n      <th>symbol</th>\n      <th>longName</th>\n      <th>state</th>\n      <th>country</th>\n      <th>industry</th>\n      <th>sector</th>\n      <th>fullTimeEmployees</th>\n      <th>Open0</th>\n      <th>High0</th>\n      <th>Low0</th>\n      <th>Close0</th>\n      <th>Adj Close0</th>\n      <th>Volume0</th>\n      <th>Open1</th>\n      <th>High1</th>\n      <th>Low1</th>\n      <th>Close1</th>\n      <th>Adj Close1</th>\n      <th>Volume1</th>\n    </tr>\n  </thead>\n  <tbody>\n    <tr>\n      <th>0</th>\n      <td>PLYM</td>\n      <td>Plymouth Industrial REIT, Inc.</td>\n      <td>MA</td>\n      <td>United States</td>\n      <td>REIT—Industrial</td>\n      <td>Real Estate</td>\n      <td>34.0</td>\n      <td>14.650000</td>\n      <td>14.960000</td>\n      <td>14.340000</td>\n      <td>14.920000</td>\n      <td>14.744883</td>\n      <td>215100.0</td>\n      <td>15.32</td>\n      <td>15.340000</td>\n      <td>14.88</td>\n      <td>14.990000</td>\n      <td>14.814060</td>\n      <td>466500.0</td>\n    </tr>\n    <tr>\n      <th>1</th>\n      <td>MEDP</td>\n      <td>Medpace Holdings, Inc.</td>\n      <td>OH</td>\n      <td>United States</td>\n      <td>Diagnostics &amp; Research</td>\n      <td>Healthcare</td>\n      <td>3600.0</td>\n      <td>134.210007</td>\n      <td>138.240005</td>\n      <td>132.309998</td>\n      <td>137.580002</td>\n      <td>137.580002</td>\n      <td>140200.0</td>\n      <td>139.00</td>\n      <td>143.660004</td>\n      <td>139.00</td>\n      <td>143.300003</td>\n      <td>143.300003</td>\n      <td>196400.0</td>\n    </tr>\n    <tr>\n      <th>3</th>\n      <td>KELYB</td>\n      <td>Kelly Services, Inc.</td>\n      <td>MI</td>\n      <td>United States</td>\n      <td>Staffing &amp; Employment Services</td>\n      <td>Industrials</td>\n      <td>7100.0</td>\n      <td>19.170000</td>\n      <td>19.610001</td>\n      <td>19.010000</td>\n      <td>19.580000</td>\n      <td>19.580000</td>\n      <td>5200.0</td>\n      <td>19.76</td>\n      <td>19.760000</td>\n      <td>19.15</td>\n      <td>19.709999</td>\n      <td>19.709999</td>\n      <td>1100.0</td>\n    </tr>\n    <tr>\n      <th>7</th>\n      <td>CXP</td>\n      <td>Columbia Property Trust, Inc.</td>\n      <td>NY</td>\n      <td>United States</td>\n      <td>REIT—Office</td>\n      <td>Real Estate</td>\n      <td>160.0</td>\n      <td>13.630000</td>\n      <td>13.740000</td>\n      <td>13.300000</td>\n      <td>13.550000</td>\n      <td>13.356955</td>\n      <td>422500.0</td>\n      <td>13.61</td>\n      <td>13.720000</td>\n      <td>13.22</td>\n      <td>13.710000</td>\n      <td>13.514674</td>\n      <td>662700.0</td>\n    </tr>\n    <tr>\n      <th>9</th>\n      <td>ESQ</td>\n      <td>Esquire Financial Holdings, Inc.</td>\n      <td>NY</td>\n      <td>United States</td>\n      <td>Banks—Regional</td>\n      <td>Financial Services</td>\n      <td>99.0</td>\n      <td>22.100000</td>\n      <td>22.610001</td>\n      <td>21.510000</td>\n      <td>21.760000</td>\n      <td>21.760000</td>\n      <td>8800.0</td>\n      <td>22.10</td>\n      <td>23.160000</td>\n      <td>22.01</td>\n      <td>22.070000</td>\n      <td>22.070000</td>\n      <td>20200.0</td>\n    </tr>\n  </tbody>\n</table>\n</div>",
      "text/plain": "  symbol                          longName state        country  \\\n0   PLYM    Plymouth Industrial REIT, Inc.    MA  United States   \n1   MEDP            Medpace Holdings, Inc.    OH  United States   \n3  KELYB              Kelly Services, Inc.    MI  United States   \n7    CXP     Columbia Property Trust, Inc.    NY  United States   \n9    ESQ  Esquire Financial Holdings, Inc.    NY  United States   \n\n                         industry              sector  fullTimeEmployees  \\\n0                 REIT—Industrial         Real Estate               34.0   \n1          Diagnostics & Research          Healthcare             3600.0   \n3  Staffing & Employment Services         Industrials             7100.0   \n7                     REIT—Office         Real Estate              160.0   \n9                  Banks—Regional  Financial Services               99.0   \n\n        Open0       High0        Low0      Close0  Adj Close0   Volume0  \\\n0   14.650000   14.960000   14.340000   14.920000   14.744883  215100.0   \n1  134.210007  138.240005  132.309998  137.580002  137.580002  140200.0   \n3   19.170000   19.610001   19.010000   19.580000   19.580000    5200.0   \n7   13.630000   13.740000   13.300000   13.550000   13.356955  422500.0   \n9   22.100000   22.610001   21.510000   21.760000   21.760000    8800.0   \n\n    Open1       High1    Low1      Close1  Adj Close1   Volume1  \n0   15.32   15.340000   14.88   14.990000   14.814060  466500.0  \n1  139.00  143.660004  139.00  143.300003  143.300003  196400.0  \n3   19.76   19.760000   19.15   19.709999   19.709999    1100.0  \n7   13.61   13.720000   13.22   13.710000   13.514674  662700.0  \n9   22.10   23.160000   22.01   22.070000   22.070000   20200.0  "
     },
     "execution_count": 10,
     "metadata": {},
     "output_type": "execute_result"
    }
   ],
   "source": [
    "dataset = dataset.dropna()\n",
    "dataset.head(5)"
   ]
  },
  {
   "cell_type": "code",
   "execution_count": 11,
   "metadata": {},
   "outputs": [
    {
     "data": {
      "text/plain": "(3128, 19)"
     },
     "execution_count": 11,
     "metadata": {},
     "output_type": "execute_result"
    }
   ],
   "source": [
    "dataset.shape"
   ]
  },
  {
   "cell_type": "code",
   "execution_count": 12,
   "metadata": {},
   "outputs": [
    {
     "data": {
      "text/html": "<div>\n<style scoped>\n    .dataframe tbody tr th:only-of-type {\n        vertical-align: middle;\n    }\n\n    .dataframe tbody tr th {\n        vertical-align: top;\n    }\n\n    .dataframe thead th {\n        text-align: right;\n    }\n</style>\n<table border=\"1\" class=\"dataframe\">\n  <thead>\n    <tr style=\"text-align: right;\">\n      <th></th>\n      <th>symbol</th>\n      <th>longName</th>\n      <th>state</th>\n      <th>country</th>\n      <th>industry</th>\n      <th>sector</th>\n      <th>fullTimeEmployees</th>\n      <th>Open0</th>\n      <th>High0</th>\n      <th>Low0</th>\n      <th>Close0</th>\n      <th>Adj Close0</th>\n      <th>Volume0</th>\n      <th>Open1</th>\n      <th>High1</th>\n      <th>Low1</th>\n      <th>Close1</th>\n      <th>Adj Close1</th>\n      <th>Volume1</th>\n    </tr>\n  </thead>\n  <tbody>\n    <tr>\n      <th>count</th>\n      <td>3128</td>\n      <td>3128</td>\n      <td>3128</td>\n      <td>3128</td>\n      <td>3128</td>\n      <td>3128</td>\n      <td>3.128000e+03</td>\n      <td>3128.000000</td>\n      <td>3128.000000</td>\n      <td>3128.000000</td>\n      <td>3128.000000</td>\n      <td>3128.000000</td>\n      <td>3.128000e+03</td>\n      <td>3128.000000</td>\n      <td>3128.000000</td>\n      <td>3128.000000</td>\n      <td>3128.000000</td>\n      <td>3128.000000</td>\n      <td>3.128000e+03</td>\n    </tr>\n    <tr>\n      <th>unique</th>\n      <td>3128</td>\n      <td>3059</td>\n      <td>68</td>\n      <td>6</td>\n      <td>143</td>\n      <td>11</td>\n      <td>NaN</td>\n      <td>NaN</td>\n      <td>NaN</td>\n      <td>NaN</td>\n      <td>NaN</td>\n      <td>NaN</td>\n      <td>NaN</td>\n      <td>NaN</td>\n      <td>NaN</td>\n      <td>NaN</td>\n      <td>NaN</td>\n      <td>NaN</td>\n      <td>NaN</td>\n    </tr>\n    <tr>\n      <th>top</th>\n      <td>THO</td>\n      <td>CHS Inc.</td>\n      <td>CA</td>\n      <td>United States</td>\n      <td>Banks—Regional</td>\n      <td>Healthcare</td>\n      <td>NaN</td>\n      <td>NaN</td>\n      <td>NaN</td>\n      <td>NaN</td>\n      <td>NaN</td>\n      <td>NaN</td>\n      <td>NaN</td>\n      <td>NaN</td>\n      <td>NaN</td>\n      <td>NaN</td>\n      <td>NaN</td>\n      <td>NaN</td>\n      <td>NaN</td>\n    </tr>\n    <tr>\n      <th>freq</th>\n      <td>1</td>\n      <td>5</td>\n      <td>474</td>\n      <td>2998</td>\n      <td>311</td>\n      <td>528</td>\n      <td>NaN</td>\n      <td>NaN</td>\n      <td>NaN</td>\n      <td>NaN</td>\n      <td>NaN</td>\n      <td>NaN</td>\n      <td>NaN</td>\n      <td>NaN</td>\n      <td>NaN</td>\n      <td>NaN</td>\n      <td>NaN</td>\n      <td>NaN</td>\n      <td>NaN</td>\n    </tr>\n    <tr>\n      <th>mean</th>\n      <td>NaN</td>\n      <td>NaN</td>\n      <td>NaN</td>\n      <td>NaN</td>\n      <td>NaN</td>\n      <td>NaN</td>\n      <td>1.207903e+04</td>\n      <td>173.344641</td>\n      <td>175.344880</td>\n      <td>172.091687</td>\n      <td>174.351314</td>\n      <td>174.217986</td>\n      <td>2.232770e+06</td>\n      <td>175.641922</td>\n      <td>178.166215</td>\n      <td>174.696440</td>\n      <td>176.597035</td>\n      <td>176.462652</td>\n      <td>2.143579e+06</td>\n    </tr>\n    <tr>\n      <th>std</th>\n      <td>NaN</td>\n      <td>NaN</td>\n      <td>NaN</td>\n      <td>NaN</td>\n      <td>NaN</td>\n      <td>NaN</td>\n      <td>5.796459e+04</td>\n      <td>6169.536219</td>\n      <td>6204.357139</td>\n      <td>6156.104438</td>\n      <td>6190.575401</td>\n      <td>6190.575877</td>\n      <td>1.171650e+07</td>\n      <td>6228.572635</td>\n      <td>6294.768046</td>\n      <td>6228.556532</td>\n      <td>6262.582244</td>\n      <td>6262.582688</td>\n      <td>1.053241e+07</td>\n    </tr>\n    <tr>\n      <th>min</th>\n      <td>NaN</td>\n      <td>NaN</td>\n      <td>NaN</td>\n      <td>NaN</td>\n      <td>NaN</td>\n      <td>NaN</td>\n      <td>1.000000e+00</td>\n      <td>0.000300</td>\n      <td>0.000300</td>\n      <td>0.000300</td>\n      <td>0.000300</td>\n      <td>0.000300</td>\n      <td>0.000000e+00</td>\n      <td>0.000300</td>\n      <td>0.000300</td>\n      <td>0.000300</td>\n      <td>0.000300</td>\n      <td>0.000300</td>\n      <td>0.000000e+00</td>\n    </tr>\n    <tr>\n      <th>25%</th>\n      <td>NaN</td>\n      <td>NaN</td>\n      <td>NaN</td>\n      <td>NaN</td>\n      <td>NaN</td>\n      <td>NaN</td>\n      <td>2.407500e+02</td>\n      <td>10.115000</td>\n      <td>10.382500</td>\n      <td>9.797500</td>\n      <td>10.212500</td>\n      <td>10.147714</td>\n      <td>1.235750e+05</td>\n      <td>10.255000</td>\n      <td>10.537500</td>\n      <td>9.920000</td>\n      <td>10.235000</td>\n      <td>10.235000</td>\n      <td>1.173750e+05</td>\n    </tr>\n    <tr>\n      <th>50%</th>\n      <td>NaN</td>\n      <td>NaN</td>\n      <td>NaN</td>\n      <td>NaN</td>\n      <td>NaN</td>\n      <td>NaN</td>\n      <td>1.517000e+03</td>\n      <td>26.355000</td>\n      <td>27.080000</td>\n      <td>25.735001</td>\n      <td>26.580000</td>\n      <td>26.468189</td>\n      <td>4.341500e+05</td>\n      <td>26.735000</td>\n      <td>27.415000</td>\n      <td>26.155000</td>\n      <td>26.870000</td>\n      <td>26.749303</td>\n      <td>4.489500e+05</td>\n    </tr>\n    <tr>\n      <th>75%</th>\n      <td>NaN</td>\n      <td>NaN</td>\n      <td>NaN</td>\n      <td>NaN</td>\n      <td>NaN</td>\n      <td>NaN</td>\n      <td>7.100000e+03</td>\n      <td>65.257498</td>\n      <td>66.422499</td>\n      <td>64.244999</td>\n      <td>65.820002</td>\n      <td>65.482550</td>\n      <td>1.350950e+06</td>\n      <td>66.360998</td>\n      <td>67.412502</td>\n      <td>65.242250</td>\n      <td>66.555002</td>\n      <td>66.139126</td>\n      <td>1.333250e+06</td>\n    </tr>\n    <tr>\n      <th>max</th>\n      <td>NaN</td>\n      <td>NaN</td>\n      <td>NaN</td>\n      <td>NaN</td>\n      <td>NaN</td>\n      <td>NaN</td>\n      <td>2.300000e+06</td>\n      <td>345000.000000</td>\n      <td>346945.000000</td>\n      <td>344250.000000</td>\n      <td>346175.000000</td>\n      <td>346175.000000</td>\n      <td>4.346080e+08</td>\n      <td>348300.000000</td>\n      <td>352000.000000</td>\n      <td>348300.000000</td>\n      <td>350201.000000</td>\n      <td>350201.000000</td>\n      <td>4.627759e+08</td>\n    </tr>\n  </tbody>\n</table>\n</div>",
      "text/plain": "       symbol  longName state        country        industry      sector  \\\ncount    3128      3128  3128           3128            3128        3128   \nunique   3128      3059    68              6             143          11   \ntop       THO  CHS Inc.    CA  United States  Banks—Regional  Healthcare   \nfreq        1         5   474           2998             311         528   \nmean      NaN       NaN   NaN            NaN             NaN         NaN   \nstd       NaN       NaN   NaN            NaN             NaN         NaN   \nmin       NaN       NaN   NaN            NaN             NaN         NaN   \n25%       NaN       NaN   NaN            NaN             NaN         NaN   \n50%       NaN       NaN   NaN            NaN             NaN         NaN   \n75%       NaN       NaN   NaN            NaN             NaN         NaN   \nmax       NaN       NaN   NaN            NaN             NaN         NaN   \n\n        fullTimeEmployees          Open0          High0           Low0  \\\ncount        3.128000e+03    3128.000000    3128.000000    3128.000000   \nunique                NaN            NaN            NaN            NaN   \ntop                   NaN            NaN            NaN            NaN   \nfreq                  NaN            NaN            NaN            NaN   \nmean         1.207903e+04     173.344641     175.344880     172.091687   \nstd          5.796459e+04    6169.536219    6204.357139    6156.104438   \nmin          1.000000e+00       0.000300       0.000300       0.000300   \n25%          2.407500e+02      10.115000      10.382500       9.797500   \n50%          1.517000e+03      26.355000      27.080000      25.735001   \n75%          7.100000e+03      65.257498      66.422499      64.244999   \nmax          2.300000e+06  345000.000000  346945.000000  344250.000000   \n\n               Close0     Adj Close0       Volume0          Open1  \\\ncount     3128.000000    3128.000000  3.128000e+03    3128.000000   \nunique            NaN            NaN           NaN            NaN   \ntop               NaN            NaN           NaN            NaN   \nfreq              NaN            NaN           NaN            NaN   \nmean       174.351314     174.217986  2.232770e+06     175.641922   \nstd       6190.575401    6190.575877  1.171650e+07    6228.572635   \nmin          0.000300       0.000300  0.000000e+00       0.000300   \n25%         10.212500      10.147714  1.235750e+05      10.255000   \n50%         26.580000      26.468189  4.341500e+05      26.735000   \n75%         65.820002      65.482550  1.350950e+06      66.360998   \nmax     346175.000000  346175.000000  4.346080e+08  348300.000000   \n\n                High1           Low1         Close1     Adj Close1  \\\ncount     3128.000000    3128.000000    3128.000000    3128.000000   \nunique            NaN            NaN            NaN            NaN   \ntop               NaN            NaN            NaN            NaN   \nfreq              NaN            NaN            NaN            NaN   \nmean       178.166215     174.696440     176.597035     176.462652   \nstd       6294.768046    6228.556532    6262.582244    6262.582688   \nmin          0.000300       0.000300       0.000300       0.000300   \n25%         10.537500       9.920000      10.235000      10.235000   \n50%         27.415000      26.155000      26.870000      26.749303   \n75%         67.412502      65.242250      66.555002      66.139126   \nmax     352000.000000  348300.000000  350201.000000  350201.000000   \n\n             Volume1  \ncount   3.128000e+03  \nunique           NaN  \ntop              NaN  \nfreq             NaN  \nmean    2.143579e+06  \nstd     1.053241e+07  \nmin     0.000000e+00  \n25%     1.173750e+05  \n50%     4.489500e+05  \n75%     1.333250e+06  \nmax     4.627759e+08  "
     },
     "execution_count": 12,
     "metadata": {},
     "output_type": "execute_result"
    }
   ],
   "source": [
    "dataset.describe(include=\"all\")"
   ]
  },
  {
   "cell_type": "code",
   "execution_count": 13,
   "metadata": {},
   "outputs": [],
   "source": [
    "from sklearn.preprocessing import OneHotEncoder"
   ]
  },
  {
   "cell_type": "code",
   "execution_count": 14,
   "metadata": {},
   "outputs": [
    {
     "data": {
      "text/html": "<div>\n<style scoped>\n    .dataframe tbody tr th:only-of-type {\n        vertical-align: middle;\n    }\n\n    .dataframe tbody tr th {\n        vertical-align: top;\n    }\n\n    .dataframe thead th {\n        text-align: right;\n    }\n</style>\n<table border=\"1\" class=\"dataframe\">\n  <thead>\n    <tr style=\"text-align: right;\">\n      <th></th>\n      <th>state</th>\n      <th>country</th>\n      <th>industry</th>\n      <th>sector</th>\n      <th>fullTimeEmployees</th>\n      <th>Open0</th>\n      <th>High0</th>\n      <th>Low0</th>\n      <th>Close0</th>\n      <th>Adj Close0</th>\n      <th>Volume0</th>\n      <th>Open1</th>\n      <th>High1</th>\n      <th>Low1</th>\n      <th>Close1</th>\n      <th>Adj Close1</th>\n      <th>Volume1</th>\n    </tr>\n  </thead>\n  <tbody>\n    <tr>\n      <th>0</th>\n      <td>MA</td>\n      <td>United States</td>\n      <td>REIT—Industrial</td>\n      <td>Real Estate</td>\n      <td>34.0</td>\n      <td>14.650000</td>\n      <td>14.960000</td>\n      <td>14.340000</td>\n      <td>14.920000</td>\n      <td>14.744883</td>\n      <td>215100.0</td>\n      <td>15.32</td>\n      <td>15.340000</td>\n      <td>14.88</td>\n      <td>14.990000</td>\n      <td>14.814060</td>\n      <td>466500.0</td>\n    </tr>\n    <tr>\n      <th>1</th>\n      <td>OH</td>\n      <td>United States</td>\n      <td>Diagnostics &amp; Research</td>\n      <td>Healthcare</td>\n      <td>3600.0</td>\n      <td>134.210007</td>\n      <td>138.240005</td>\n      <td>132.309998</td>\n      <td>137.580002</td>\n      <td>137.580002</td>\n      <td>140200.0</td>\n      <td>139.00</td>\n      <td>143.660004</td>\n      <td>139.00</td>\n      <td>143.300003</td>\n      <td>143.300003</td>\n      <td>196400.0</td>\n    </tr>\n    <tr>\n      <th>2</th>\n      <td>MI</td>\n      <td>United States</td>\n      <td>Staffing &amp; Employment Services</td>\n      <td>Industrials</td>\n      <td>7100.0</td>\n      <td>19.170000</td>\n      <td>19.610001</td>\n      <td>19.010000</td>\n      <td>19.580000</td>\n      <td>19.580000</td>\n      <td>5200.0</td>\n      <td>19.76</td>\n      <td>19.760000</td>\n      <td>19.15</td>\n      <td>19.709999</td>\n      <td>19.709999</td>\n      <td>1100.0</td>\n    </tr>\n    <tr>\n      <th>3</th>\n      <td>NY</td>\n      <td>United States</td>\n      <td>REIT—Office</td>\n      <td>Real Estate</td>\n      <td>160.0</td>\n      <td>13.630000</td>\n      <td>13.740000</td>\n      <td>13.300000</td>\n      <td>13.550000</td>\n      <td>13.356955</td>\n      <td>422500.0</td>\n      <td>13.61</td>\n      <td>13.720000</td>\n      <td>13.22</td>\n      <td>13.710000</td>\n      <td>13.514674</td>\n      <td>662700.0</td>\n    </tr>\n    <tr>\n      <th>4</th>\n      <td>NY</td>\n      <td>United States</td>\n      <td>Banks—Regional</td>\n      <td>Financial Services</td>\n      <td>99.0</td>\n      <td>22.100000</td>\n      <td>22.610001</td>\n      <td>21.510000</td>\n      <td>21.760000</td>\n      <td>21.760000</td>\n      <td>8800.0</td>\n      <td>22.10</td>\n      <td>23.160000</td>\n      <td>22.01</td>\n      <td>22.070000</td>\n      <td>22.070000</td>\n      <td>20200.0</td>\n    </tr>\n  </tbody>\n</table>\n</div>",
      "text/plain": "  state        country                        industry              sector  \\\n0    MA  United States                 REIT—Industrial         Real Estate   \n1    OH  United States          Diagnostics & Research          Healthcare   \n2    MI  United States  Staffing & Employment Services         Industrials   \n3    NY  United States                     REIT—Office         Real Estate   \n4    NY  United States                  Banks—Regional  Financial Services   \n\n   fullTimeEmployees       Open0       High0        Low0      Close0  \\\n0               34.0   14.650000   14.960000   14.340000   14.920000   \n1             3600.0  134.210007  138.240005  132.309998  137.580002   \n2             7100.0   19.170000   19.610001   19.010000   19.580000   \n3              160.0   13.630000   13.740000   13.300000   13.550000   \n4               99.0   22.100000   22.610001   21.510000   21.760000   \n\n   Adj Close0   Volume0   Open1       High1    Low1      Close1  Adj Close1  \\\n0   14.744883  215100.0   15.32   15.340000   14.88   14.990000   14.814060   \n1  137.580002  140200.0  139.00  143.660004  139.00  143.300003  143.300003   \n2   19.580000    5200.0   19.76   19.760000   19.15   19.709999   19.709999   \n3   13.356955  422500.0   13.61   13.720000   13.22   13.710000   13.514674   \n4   21.760000    8800.0   22.10   23.160000   22.01   22.070000   22.070000   \n\n    Volume1  \n0  466500.0  \n1  196400.0  \n2    1100.0  \n3  662700.0  \n4   20200.0  "
     },
     "execution_count": 14,
     "metadata": {},
     "output_type": "execute_result"
    }
   ],
   "source": [
    "dataset = dataset.drop(columns=[\"symbol\", \"longName\"])\n",
    "dataset = dataset.reset_index()\n",
    "dataset=dataset.drop(columns=['index'])\n",
    "dataset.head()"
   ]
  },
  {
   "cell_type": "code",
   "execution_count": 15,
   "metadata": {},
   "outputs": [],
   "source": [
    "non_number = dataset[[\"state\", \"country\", \"industry\", \"sector\"]]\n",
    "dataset = dataset.drop(columns=[\"state\", \"country\", \"industry\", \"sector\"])\n"
   ]
  },
  {
   "cell_type": "code",
   "execution_count": 16,
   "metadata": {},
   "outputs": [
    {
     "data": {
      "text/html": "<div>\n<style scoped>\n    .dataframe tbody tr th:only-of-type {\n        vertical-align: middle;\n    }\n\n    .dataframe tbody tr th {\n        vertical-align: top;\n    }\n\n    .dataframe thead th {\n        text-align: right;\n    }\n</style>\n<table border=\"1\" class=\"dataframe\">\n  <thead>\n    <tr style=\"text-align: right;\">\n      <th></th>\n      <th>0</th>\n      <th>1</th>\n      <th>2</th>\n      <th>3</th>\n      <th>4</th>\n      <th>5</th>\n      <th>6</th>\n      <th>7</th>\n      <th>8</th>\n      <th>9</th>\n      <th>...</th>\n      <th>218</th>\n      <th>219</th>\n      <th>220</th>\n      <th>221</th>\n      <th>222</th>\n      <th>223</th>\n      <th>224</th>\n      <th>225</th>\n      <th>226</th>\n      <th>227</th>\n    </tr>\n  </thead>\n  <tbody>\n    <tr>\n      <th>0</th>\n      <td>0</td>\n      <td>0</td>\n      <td>0</td>\n      <td>0</td>\n      <td>0</td>\n      <td>0</td>\n      <td>0</td>\n      <td>0</td>\n      <td>0</td>\n      <td>0</td>\n      <td>...</td>\n      <td>0</td>\n      <td>0</td>\n      <td>0</td>\n      <td>0</td>\n      <td>0</td>\n      <td>0</td>\n      <td>0</td>\n      <td>1</td>\n      <td>0</td>\n      <td>0</td>\n    </tr>\n    <tr>\n      <th>1</th>\n      <td>0</td>\n      <td>0</td>\n      <td>0</td>\n      <td>0</td>\n      <td>0</td>\n      <td>0</td>\n      <td>0</td>\n      <td>0</td>\n      <td>0</td>\n      <td>0</td>\n      <td>...</td>\n      <td>0</td>\n      <td>0</td>\n      <td>0</td>\n      <td>0</td>\n      <td>0</td>\n      <td>1</td>\n      <td>0</td>\n      <td>0</td>\n      <td>0</td>\n      <td>0</td>\n    </tr>\n    <tr>\n      <th>2</th>\n      <td>0</td>\n      <td>0</td>\n      <td>0</td>\n      <td>0</td>\n      <td>0</td>\n      <td>0</td>\n      <td>0</td>\n      <td>0</td>\n      <td>0</td>\n      <td>0</td>\n      <td>...</td>\n      <td>0</td>\n      <td>0</td>\n      <td>0</td>\n      <td>0</td>\n      <td>0</td>\n      <td>0</td>\n      <td>1</td>\n      <td>0</td>\n      <td>0</td>\n      <td>0</td>\n    </tr>\n    <tr>\n      <th>3</th>\n      <td>0</td>\n      <td>0</td>\n      <td>0</td>\n      <td>0</td>\n      <td>0</td>\n      <td>0</td>\n      <td>0</td>\n      <td>0</td>\n      <td>0</td>\n      <td>0</td>\n      <td>...</td>\n      <td>0</td>\n      <td>0</td>\n      <td>0</td>\n      <td>0</td>\n      <td>0</td>\n      <td>0</td>\n      <td>0</td>\n      <td>1</td>\n      <td>0</td>\n      <td>0</td>\n    </tr>\n    <tr>\n      <th>4</th>\n      <td>0</td>\n      <td>0</td>\n      <td>0</td>\n      <td>0</td>\n      <td>0</td>\n      <td>0</td>\n      <td>0</td>\n      <td>0</td>\n      <td>0</td>\n      <td>0</td>\n      <td>...</td>\n      <td>0</td>\n      <td>0</td>\n      <td>0</td>\n      <td>0</td>\n      <td>1</td>\n      <td>0</td>\n      <td>0</td>\n      <td>0</td>\n      <td>0</td>\n      <td>0</td>\n    </tr>\n  </tbody>\n</table>\n<p>5 rows × 228 columns</p>\n</div>",
      "text/plain": "   0    1    2    3    4    5    6    7    8    9    ...  218  219  220  221  \\\n0    0    0    0    0    0    0    0    0    0    0  ...    0    0    0    0   \n1    0    0    0    0    0    0    0    0    0    0  ...    0    0    0    0   \n2    0    0    0    0    0    0    0    0    0    0  ...    0    0    0    0   \n3    0    0    0    0    0    0    0    0    0    0  ...    0    0    0    0   \n4    0    0    0    0    0    0    0    0    0    0  ...    0    0    0    0   \n\n   222  223  224  225  226  227  \n0    0    0    0    1    0    0  \n1    0    1    0    0    0    0  \n2    0    0    1    0    0    0  \n3    0    0    0    1    0    0  \n4    1    0    0    0    0    0  \n\n[5 rows x 228 columns]"
     },
     "execution_count": 16,
     "metadata": {},
     "output_type": "execute_result"
    }
   ],
   "source": [
    "non_number = pd.DataFrame(OneHotEncoder(dtype=int).fit_transform(non_number).A)\n",
    "non_number.head(5)"
   ]
  },
  {
   "cell_type": "code",
   "execution_count": 17,
   "metadata": {},
   "outputs": [
    {
     "data": {
      "text/plain": "(3128, 228)"
     },
     "execution_count": 17,
     "metadata": {},
     "output_type": "execute_result"
    }
   ],
   "source": [
    "non_number.shape"
   ]
  },
  {
   "cell_type": "code",
   "execution_count": 18,
   "metadata": {},
   "outputs": [
    {
     "data": {
      "text/html": "<div>\n<style scoped>\n    .dataframe tbody tr th:only-of-type {\n        vertical-align: middle;\n    }\n\n    .dataframe tbody tr th {\n        vertical-align: top;\n    }\n\n    .dataframe thead th {\n        text-align: right;\n    }\n</style>\n<table border=\"1\" class=\"dataframe\">\n  <thead>\n    <tr style=\"text-align: right;\">\n      <th></th>\n      <th>0</th>\n      <th>1</th>\n      <th>2</th>\n      <th>3</th>\n      <th>4</th>\n      <th>5</th>\n      <th>6</th>\n      <th>7</th>\n      <th>8</th>\n      <th>9</th>\n      <th>...</th>\n      <th>Low0</th>\n      <th>Close0</th>\n      <th>Adj Close0</th>\n      <th>Volume0</th>\n      <th>Open1</th>\n      <th>High1</th>\n      <th>Low1</th>\n      <th>Close1</th>\n      <th>Adj Close1</th>\n      <th>Volume1</th>\n    </tr>\n  </thead>\n  <tbody>\n    <tr>\n      <th>0</th>\n      <td>0</td>\n      <td>0</td>\n      <td>0</td>\n      <td>0</td>\n      <td>0</td>\n      <td>0</td>\n      <td>0</td>\n      <td>0</td>\n      <td>0</td>\n      <td>0</td>\n      <td>...</td>\n      <td>14.340000</td>\n      <td>14.920000</td>\n      <td>14.744883</td>\n      <td>215100.0</td>\n      <td>15.32</td>\n      <td>15.340000</td>\n      <td>14.88</td>\n      <td>14.990000</td>\n      <td>14.814060</td>\n      <td>466500.0</td>\n    </tr>\n    <tr>\n      <th>1</th>\n      <td>0</td>\n      <td>0</td>\n      <td>0</td>\n      <td>0</td>\n      <td>0</td>\n      <td>0</td>\n      <td>0</td>\n      <td>0</td>\n      <td>0</td>\n      <td>0</td>\n      <td>...</td>\n      <td>132.309998</td>\n      <td>137.580002</td>\n      <td>137.580002</td>\n      <td>140200.0</td>\n      <td>139.00</td>\n      <td>143.660004</td>\n      <td>139.00</td>\n      <td>143.300003</td>\n      <td>143.300003</td>\n      <td>196400.0</td>\n    </tr>\n    <tr>\n      <th>2</th>\n      <td>0</td>\n      <td>0</td>\n      <td>0</td>\n      <td>0</td>\n      <td>0</td>\n      <td>0</td>\n      <td>0</td>\n      <td>0</td>\n      <td>0</td>\n      <td>0</td>\n      <td>...</td>\n      <td>19.010000</td>\n      <td>19.580000</td>\n      <td>19.580000</td>\n      <td>5200.0</td>\n      <td>19.76</td>\n      <td>19.760000</td>\n      <td>19.15</td>\n      <td>19.709999</td>\n      <td>19.709999</td>\n      <td>1100.0</td>\n    </tr>\n    <tr>\n      <th>3</th>\n      <td>0</td>\n      <td>0</td>\n      <td>0</td>\n      <td>0</td>\n      <td>0</td>\n      <td>0</td>\n      <td>0</td>\n      <td>0</td>\n      <td>0</td>\n      <td>0</td>\n      <td>...</td>\n      <td>13.300000</td>\n      <td>13.550000</td>\n      <td>13.356955</td>\n      <td>422500.0</td>\n      <td>13.61</td>\n      <td>13.720000</td>\n      <td>13.22</td>\n      <td>13.710000</td>\n      <td>13.514674</td>\n      <td>662700.0</td>\n    </tr>\n    <tr>\n      <th>4</th>\n      <td>0</td>\n      <td>0</td>\n      <td>0</td>\n      <td>0</td>\n      <td>0</td>\n      <td>0</td>\n      <td>0</td>\n      <td>0</td>\n      <td>0</td>\n      <td>0</td>\n      <td>...</td>\n      <td>21.510000</td>\n      <td>21.760000</td>\n      <td>21.760000</td>\n      <td>8800.0</td>\n      <td>22.10</td>\n      <td>23.160000</td>\n      <td>22.01</td>\n      <td>22.070000</td>\n      <td>22.070000</td>\n      <td>20200.0</td>\n    </tr>\n  </tbody>\n</table>\n<p>5 rows × 241 columns</p>\n</div>",
      "text/plain": "   0  1  2  3  4  5  6  7  8  9  ...        Low0      Close0  Adj Close0  \\\n0  0  0  0  0  0  0  0  0  0  0  ...   14.340000   14.920000   14.744883   \n1  0  0  0  0  0  0  0  0  0  0  ...  132.309998  137.580002  137.580002   \n2  0  0  0  0  0  0  0  0  0  0  ...   19.010000   19.580000   19.580000   \n3  0  0  0  0  0  0  0  0  0  0  ...   13.300000   13.550000   13.356955   \n4  0  0  0  0  0  0  0  0  0  0  ...   21.510000   21.760000   21.760000   \n\n    Volume0   Open1       High1    Low1      Close1  Adj Close1   Volume1  \n0  215100.0   15.32   15.340000   14.88   14.990000   14.814060  466500.0  \n1  140200.0  139.00  143.660004  139.00  143.300003  143.300003  196400.0  \n2    5200.0   19.76   19.760000   19.15   19.709999   19.709999    1100.0  \n3  422500.0   13.61   13.720000   13.22   13.710000   13.514674  662700.0  \n4    8800.0   22.10   23.160000   22.01   22.070000   22.070000   20200.0  \n\n[5 rows x 241 columns]"
     },
     "execution_count": 18,
     "metadata": {},
     "output_type": "execute_result"
    }
   ],
   "source": [
    "dataset = non_number.join(dataset)\n",
    "\n",
    "dataset.head(5)"
   ]
  },
  {
   "cell_type": "markdown",
   "metadata": {},
   "source": [
    "La jointure ne se fait pas correctement, je ne sais pas pourquoi."
   ]
  },
  {
   "cell_type": "code",
   "execution_count": 19,
   "metadata": {},
   "outputs": [
    {
     "name": "stdout",
     "output_type": "stream",
     "text": [
      "(3128, 241)\n"
     ]
    },
    {
     "data": {
      "text/plain": "0             0\n1             0\n2             0\n3             0\n4             0\n             ..\nHigh1         0\nLow1          0\nClose1        0\nAdj Close1    0\nVolume1       0\nLength: 241, dtype: int64"
     },
     "execution_count": 19,
     "metadata": {},
     "output_type": "execute_result"
    }
   ],
   "source": [
    "print(dataset.shape)\n",
    "dataset.isnull().sum()"
   ]
  },
  {
   "cell_type": "code",
   "execution_count": 47,
   "metadata": {},
   "outputs": [],
   "source": [
    "from sklearn.decomposition import PCA\n",
    "from preprocessing import preprocessing\n",
    "import sklearn.preprocessing as sklearnp"
   ]
  },
  {
   "cell_type": "code",
   "execution_count": 48,
   "metadata": {},
   "outputs": [
    {
     "name": "stdout",
     "output_type": "stream",
     "text": [
      "Cleaning...\n",
      "<class 'pandas.core.frame.DataFrame'>\n",
      "Int64Index: 104062 entries, 0 to 104061\n",
      "Data columns (total 23 columns):\n",
      " #   Column             Non-Null Count   Dtype  \n",
      "---  ------             --------------   -----  \n",
      " 0   index              104062 non-null  int64  \n",
      " 1   symbol             104062 non-null  object \n",
      " 2   longName           103730 non-null  object \n",
      " 3   state              78795 non-null   object \n",
      " 4   country            89324 non-null   object \n",
      " 5   industry           89072 non-null   object \n",
      " 6   sector             89072 non-null   object \n",
      " 7   fullTimeEmployees  73372 non-null   float64\n",
      " 8   Open0              104062 non-null  float64\n",
      " 9   High0              104062 non-null  float64\n",
      " 10  Low0               104062 non-null  float64\n",
      " 11  Close0             104062 non-null  float64\n",
      " 12  Adj Close0         104062 non-null  float64\n",
      " 13  Volume0            104062 non-null  float64\n",
      " 14  day                104062 non-null  int64  \n",
      " 15  month              104062 non-null  int64  \n",
      " 16  year               104062 non-null  int64  \n",
      " 17  Open1              104062 non-null  float64\n",
      " 18  High1              104062 non-null  float64\n",
      " 19  Low1               104062 non-null  float64\n",
      " 20  Close1             104062 non-null  float64\n",
      " 21  Adj Close1         104062 non-null  float64\n",
      " 22  Volume1            104062 non-null  float64\n",
      "dtypes: float64(13), int64(4), object(6)\n",
      "memory usage: 19.1+ MB\n",
      "None\n",
      "Refactoring...\n"
     ]
    },
    {
     "data": {
      "text/plain": "(       symbol                       longName\n 0           A     Agilent Technologies, Inc.\n 1           A     Agilent Technologies, Inc.\n 2           A     Agilent Technologies, Inc.\n 3           A     Agilent Technologies, Inc.\n 4           A     Agilent Technologies, Inc.\n ...       ...                            ...\n 104057   ZYNE  Zynerba Pharmaceuticals, Inc.\n 104058   ZYNE  Zynerba Pharmaceuticals, Inc.\n 104059   ZYNE  Zynerba Pharmaceuticals, Inc.\n 104060   ZYNE  Zynerba Pharmaceuticals, Inc.\n 104061   ZYNE  Zynerba Pharmaceuticals, Inc.\n \n [104062 rows x 2 columns],\n         0  1  2  3  4  5  6  7  8  9  ...  272  273  274  275  276  277  278  \\\n 0       0  0  0  0  0  0  0  1  0  0  ...    0    1    0    0    0    0    0   \n 1       0  0  0  0  0  0  0  1  0  0  ...    0    1    0    0    0    0    0   \n 2       0  0  0  0  0  0  0  1  0  0  ...    0    1    0    0    0    0    0   \n 3       0  0  0  0  0  0  0  1  0  0  ...    0    1    0    0    0    0    0   \n 4       0  0  0  0  0  0  0  1  0  0  ...    0    1    0    0    0    0    0   \n ...    .. .. .. .. .. .. .. .. .. ..  ...  ...  ...  ...  ...  ...  ...  ...   \n 104057  0  0  0  0  0  0  0  0  0  0  ...    0    1    0    0    0    0    0   \n 104058  0  0  0  0  0  0  0  0  0  0  ...    0    1    0    0    0    0    0   \n 104059  0  0  0  0  0  0  0  0  0  0  ...    0    1    0    0    0    0    0   \n 104060  0  0  0  0  0  0  0  0  0  0  ...    0    1    0    0    0    0    0   \n 104061  0  0  0  0  0  0  0  0  0  0  ...    0    1    0    0    0    0    0   \n \n             var0  var_height_low  normalized_volume  \n 0      -0.051347        0.088098           0.235377  \n 1       0.024326        0.027819          -0.043190  \n 2      -0.011954        0.021674          -0.104344  \n 3       0.056450        0.072108           0.409710  \n 4       0.008433        0.014516          -0.023917  \n ...          ...             ...                ...  \n 104057 -0.013333        0.098305          -0.157937  \n 104058 -0.023460        0.039514          -0.043021  \n 104059  0.010811        0.064426          -0.150360  \n 104060  0.006834        0.030093          -0.152127  \n 104061 -0.005831        0.077612          -0.095154  \n \n [104062 rows x 282 columns],\n 0         0.022432\n 1        -0.017323\n 2        -0.002039\n 3        -0.040560\n 4         0.011909\n             ...   \n 104057    0.006667\n 104058   -0.015060\n 104059    0.005319\n 104060   -0.043182\n 104061    0.034884\n Name: var1, Length: 104062, dtype: float64)"
     },
     "execution_count": 48,
     "metadata": {},
     "output_type": "execute_result"
    }
   ],
   "source": [
    "index, X, Y = preprocessing(dataset)\n",
    "index, X, Y"
   ]
  },
  {
   "cell_type": "code",
   "execution_count": 49,
   "metadata": {},
   "outputs": [
    {
     "data": {
      "text/html": "<div>\n<style scoped>\n    .dataframe tbody tr th:only-of-type {\n        vertical-align: middle;\n    }\n\n    .dataframe tbody tr th {\n        vertical-align: top;\n    }\n\n    .dataframe thead th {\n        text-align: right;\n    }\n</style>\n<table border=\"1\" class=\"dataframe\">\n  <thead>\n    <tr style=\"text-align: right;\">\n      <th></th>\n      <th>0</th>\n      <th>1</th>\n      <th>2</th>\n      <th>3</th>\n      <th>4</th>\n      <th>5</th>\n      <th>6</th>\n      <th>7</th>\n      <th>8</th>\n      <th>9</th>\n      <th>...</th>\n      <th>272</th>\n      <th>273</th>\n      <th>274</th>\n      <th>275</th>\n      <th>276</th>\n      <th>277</th>\n      <th>278</th>\n      <th>var0</th>\n      <th>var_height_low</th>\n      <th>normalized_volume</th>\n    </tr>\n  </thead>\n  <tbody>\n    <tr>\n      <th>count</th>\n      <td>104062.000000</td>\n      <td>104062.000000</td>\n      <td>104062.000000</td>\n      <td>104062.000000</td>\n      <td>104062.000000</td>\n      <td>104062.000000</td>\n      <td>104062.000000</td>\n      <td>104062.000000</td>\n      <td>104062.000000</td>\n      <td>104062.000000</td>\n      <td>...</td>\n      <td>104062.000000</td>\n      <td>104062.000000</td>\n      <td>104062.000000</td>\n      <td>104062.000000</td>\n      <td>104062.000000</td>\n      <td>104062.000000</td>\n      <td>104062.000000</td>\n      <td>104062.000000</td>\n      <td>104062.000000</td>\n      <td>1.040620e+05</td>\n    </tr>\n    <tr>\n      <th>mean</th>\n      <td>0.003834</td>\n      <td>0.000404</td>\n      <td>0.002623</td>\n      <td>0.002623</td>\n      <td>0.010119</td>\n      <td>0.000202</td>\n      <td>0.009081</td>\n      <td>0.106831</td>\n      <td>0.020180</td>\n      <td>0.015414</td>\n      <td>...</td>\n      <td>0.216592</td>\n      <td>0.126819</td>\n      <td>0.101891</td>\n      <td>0.047625</td>\n      <td>0.099739</td>\n      <td>0.018364</td>\n      <td>0.144049</td>\n      <td>-0.000492</td>\n      <td>0.059893</td>\n      <td>7.751061e-17</td>\n    </tr>\n    <tr>\n      <th>std</th>\n      <td>0.061803</td>\n      <td>0.020086</td>\n      <td>0.051153</td>\n      <td>0.051153</td>\n      <td>0.100083</td>\n      <td>0.014204</td>\n      <td>0.094862</td>\n      <td>0.308899</td>\n      <td>0.140617</td>\n      <td>0.123193</td>\n      <td>...</td>\n      <td>0.411924</td>\n      <td>0.332771</td>\n      <td>0.302507</td>\n      <td>0.212973</td>\n      <td>0.299653</td>\n      <td>0.134265</td>\n      <td>0.351141</td>\n      <td>0.056168</td>\n      <td>0.123868</td>\n      <td>1.000000e+00</td>\n    </tr>\n    <tr>\n      <th>min</th>\n      <td>0.000000</td>\n      <td>0.000000</td>\n      <td>0.000000</td>\n      <td>0.000000</td>\n      <td>0.000000</td>\n      <td>0.000000</td>\n      <td>0.000000</td>\n      <td>0.000000</td>\n      <td>0.000000</td>\n      <td>0.000000</td>\n      <td>...</td>\n      <td>0.000000</td>\n      <td>0.000000</td>\n      <td>0.000000</td>\n      <td>0.000000</td>\n      <td>0.000000</td>\n      <td>0.000000</td>\n      <td>0.000000</td>\n      <td>-0.786127</td>\n      <td>0.000000</td>\n      <td>-2.241012e-01</td>\n    </tr>\n    <tr>\n      <th>25%</th>\n      <td>0.000000</td>\n      <td>0.000000</td>\n      <td>0.000000</td>\n      <td>0.000000</td>\n      <td>0.000000</td>\n      <td>0.000000</td>\n      <td>0.000000</td>\n      <td>0.000000</td>\n      <td>0.000000</td>\n      <td>0.000000</td>\n      <td>...</td>\n      <td>0.000000</td>\n      <td>0.000000</td>\n      <td>0.000000</td>\n      <td>0.000000</td>\n      <td>0.000000</td>\n      <td>0.000000</td>\n      <td>0.000000</td>\n      <td>-0.011263</td>\n      <td>0.016851</td>\n      <td>-2.179843e-01</td>\n    </tr>\n    <tr>\n      <th>50%</th>\n      <td>0.000000</td>\n      <td>0.000000</td>\n      <td>0.000000</td>\n      <td>0.000000</td>\n      <td>0.000000</td>\n      <td>0.000000</td>\n      <td>0.000000</td>\n      <td>0.000000</td>\n      <td>0.000000</td>\n      <td>0.000000</td>\n      <td>...</td>\n      <td>0.000000</td>\n      <td>0.000000</td>\n      <td>0.000000</td>\n      <td>0.000000</td>\n      <td>0.000000</td>\n      <td>0.000000</td>\n      <td>0.000000</td>\n      <td>0.000833</td>\n      <td>0.034106</td>\n      <td>-1.886060e-01</td>\n    </tr>\n    <tr>\n      <th>75%</th>\n      <td>0.000000</td>\n      <td>0.000000</td>\n      <td>0.000000</td>\n      <td>0.000000</td>\n      <td>0.000000</td>\n      <td>0.000000</td>\n      <td>0.000000</td>\n      <td>0.000000</td>\n      <td>0.000000</td>\n      <td>0.000000</td>\n      <td>...</td>\n      <td>0.000000</td>\n      <td>0.000000</td>\n      <td>0.000000</td>\n      <td>0.000000</td>\n      <td>0.000000</td>\n      <td>0.000000</td>\n      <td>0.000000</td>\n      <td>0.014836</td>\n      <td>0.067184</td>\n      <td>-8.173623e-02</td>\n    </tr>\n    <tr>\n      <th>max</th>\n      <td>1.000000</td>\n      <td>1.000000</td>\n      <td>1.000000</td>\n      <td>1.000000</td>\n      <td>1.000000</td>\n      <td>1.000000</td>\n      <td>1.000000</td>\n      <td>1.000000</td>\n      <td>1.000000</td>\n      <td>1.000000</td>\n      <td>...</td>\n      <td>1.000000</td>\n      <td>1.000000</td>\n      <td>1.000000</td>\n      <td>1.000000</td>\n      <td>1.000000</td>\n      <td>1.000000</td>\n      <td>1.000000</td>\n      <td>4.000000</td>\n      <td>9.497131</td>\n      <td>9.591126e+01</td>\n    </tr>\n  </tbody>\n</table>\n<p>8 rows × 282 columns</p>\n</div>",
      "text/plain": "                   0              1              2              3  \\\ncount  104062.000000  104062.000000  104062.000000  104062.000000   \nmean        0.003834       0.000404       0.002623       0.002623   \nstd         0.061803       0.020086       0.051153       0.051153   \nmin         0.000000       0.000000       0.000000       0.000000   \n25%         0.000000       0.000000       0.000000       0.000000   \n50%         0.000000       0.000000       0.000000       0.000000   \n75%         0.000000       0.000000       0.000000       0.000000   \nmax         1.000000       1.000000       1.000000       1.000000   \n\n                   4              5              6              7  \\\ncount  104062.000000  104062.000000  104062.000000  104062.000000   \nmean        0.010119       0.000202       0.009081       0.106831   \nstd         0.100083       0.014204       0.094862       0.308899   \nmin         0.000000       0.000000       0.000000       0.000000   \n25%         0.000000       0.000000       0.000000       0.000000   \n50%         0.000000       0.000000       0.000000       0.000000   \n75%         0.000000       0.000000       0.000000       0.000000   \nmax         1.000000       1.000000       1.000000       1.000000   \n\n                   8              9  ...            272            273  \\\ncount  104062.000000  104062.000000  ...  104062.000000  104062.000000   \nmean        0.020180       0.015414  ...       0.216592       0.126819   \nstd         0.140617       0.123193  ...       0.411924       0.332771   \nmin         0.000000       0.000000  ...       0.000000       0.000000   \n25%         0.000000       0.000000  ...       0.000000       0.000000   \n50%         0.000000       0.000000  ...       0.000000       0.000000   \n75%         0.000000       0.000000  ...       0.000000       0.000000   \nmax         1.000000       1.000000  ...       1.000000       1.000000   \n\n                 274            275            276            277  \\\ncount  104062.000000  104062.000000  104062.000000  104062.000000   \nmean        0.101891       0.047625       0.099739       0.018364   \nstd         0.302507       0.212973       0.299653       0.134265   \nmin         0.000000       0.000000       0.000000       0.000000   \n25%         0.000000       0.000000       0.000000       0.000000   \n50%         0.000000       0.000000       0.000000       0.000000   \n75%         0.000000       0.000000       0.000000       0.000000   \nmax         1.000000       1.000000       1.000000       1.000000   \n\n                 278           var0  var_height_low  normalized_volume  \ncount  104062.000000  104062.000000   104062.000000       1.040620e+05  \nmean        0.144049      -0.000492        0.059893       7.751061e-17  \nstd         0.351141       0.056168        0.123868       1.000000e+00  \nmin         0.000000      -0.786127        0.000000      -2.241012e-01  \n25%         0.000000      -0.011263        0.016851      -2.179843e-01  \n50%         0.000000       0.000833        0.034106      -1.886060e-01  \n75%         0.000000       0.014836        0.067184      -8.173623e-02  \nmax         1.000000       4.000000        9.497131       9.591126e+01  \n\n[8 rows x 282 columns]"
     },
     "execution_count": 49,
     "metadata": {},
     "output_type": "execute_result"
    }
   ],
   "source": [
    "pd.DataFrame(X).describe(include=\"all\")"
   ]
  },
  {
   "cell_type": "code",
   "execution_count": 50,
   "metadata": {},
   "outputs": [],
   "source": [
    "pca = PCA(n_components=50)"
   ]
  },
  {
   "cell_type": "code",
   "execution_count": 59,
   "metadata": {},
   "outputs": [],
   "source": [
    "pca_data = pca.fit_transform(X)"
   ]
  },
  {
   "cell_type": "code",
   "execution_count": 60,
   "metadata": {},
   "outputs": [],
   "source": [
    "standard = sklearnp.StandardScaler()\n",
    "pca_data = standard.fit_transform(pca_data)"
   ]
  },
  {
   "cell_type": "code",
   "execution_count": 61,
   "metadata": {},
   "outputs": [
    {
     "data": {
      "text/plain": "(104062, 50)"
     },
     "execution_count": 61,
     "metadata": {},
     "output_type": "execute_result"
    }
   ],
   "source": [
    "pca_data.shape"
   ]
  },
  {
   "cell_type": "code",
   "execution_count": 62,
   "metadata": {},
   "outputs": [
    {
     "data": {
      "text/html": "<div>\n<style scoped>\n    .dataframe tbody tr th:only-of-type {\n        vertical-align: middle;\n    }\n\n    .dataframe tbody tr th {\n        vertical-align: top;\n    }\n\n    .dataframe thead th {\n        text-align: right;\n    }\n</style>\n<table border=\"1\" class=\"dataframe\">\n  <thead>\n    <tr style=\"text-align: right;\">\n      <th></th>\n      <th>0</th>\n      <th>1</th>\n      <th>2</th>\n      <th>3</th>\n      <th>4</th>\n      <th>5</th>\n      <th>6</th>\n      <th>7</th>\n      <th>8</th>\n      <th>9</th>\n      <th>...</th>\n      <th>40</th>\n      <th>41</th>\n      <th>42</th>\n      <th>43</th>\n      <th>44</th>\n      <th>45</th>\n      <th>46</th>\n      <th>47</th>\n      <th>48</th>\n      <th>49</th>\n    </tr>\n  </thead>\n  <tbody>\n    <tr>\n      <th>count</th>\n      <td>1.040620e+05</td>\n      <td>1.040620e+05</td>\n      <td>1.040620e+05</td>\n      <td>1.040620e+05</td>\n      <td>1.040620e+05</td>\n      <td>1.040620e+05</td>\n      <td>1.040620e+05</td>\n      <td>1.040620e+05</td>\n      <td>1.040620e+05</td>\n      <td>1.040620e+05</td>\n      <td>...</td>\n      <td>1.040620e+05</td>\n      <td>1.040620e+05</td>\n      <td>1.040620e+05</td>\n      <td>1.040620e+05</td>\n      <td>1.040620e+05</td>\n      <td>1.040620e+05</td>\n      <td>1.040620e+05</td>\n      <td>1.040620e+05</td>\n      <td>1.040620e+05</td>\n      <td>1.040620e+05</td>\n    </tr>\n    <tr>\n      <th>mean</th>\n      <td>1.121968e-16</td>\n      <td>-7.147710e-17</td>\n      <td>5.042957e-17</td>\n      <td>7.798575e-16</td>\n      <td>2.113448e-16</td>\n      <td>-3.044680e-17</td>\n      <td>2.619309e-16</td>\n      <td>-8.733671e-16</td>\n      <td>-8.251751e-17</td>\n      <td>2.486602e-16</td>\n      <td>...</td>\n      <td>6.584474e-17</td>\n      <td>-1.219328e-16</td>\n      <td>-1.199820e-16</td>\n      <td>6.239150e-18</td>\n      <td>1.868331e-17</td>\n      <td>1.723533e-16</td>\n      <td>-4.162990e-17</td>\n      <td>9.996936e-17</td>\n      <td>3.178040e-17</td>\n      <td>4.263277e-17</td>\n    </tr>\n    <tr>\n      <th>std</th>\n      <td>1.000005e+00</td>\n      <td>1.000005e+00</td>\n      <td>1.000005e+00</td>\n      <td>1.000005e+00</td>\n      <td>1.000005e+00</td>\n      <td>1.000005e+00</td>\n      <td>1.000005e+00</td>\n      <td>1.000005e+00</td>\n      <td>1.000005e+00</td>\n      <td>1.000005e+00</td>\n      <td>...</td>\n      <td>1.000005e+00</td>\n      <td>1.000005e+00</td>\n      <td>1.000005e+00</td>\n      <td>1.000005e+00</td>\n      <td>1.000005e+00</td>\n      <td>1.000005e+00</td>\n      <td>1.000005e+00</td>\n      <td>1.000005e+00</td>\n      <td>1.000005e+00</td>\n      <td>1.000005e+00</td>\n    </tr>\n    <tr>\n      <th>min</th>\n      <td>-4.702458e-01</td>\n      <td>-8.624848e-01</td>\n      <td>-1.556203e+00</td>\n      <td>-1.536943e+00</td>\n      <td>-2.948864e+00</td>\n      <td>-2.435671e+00</td>\n      <td>-2.571966e+00</td>\n      <td>-2.624477e+00</td>\n      <td>-3.163733e+00</td>\n      <td>-2.844483e+00</td>\n      <td>...</td>\n      <td>-4.937194e+00</td>\n      <td>-4.138586e+00</td>\n      <td>-3.991995e+00</td>\n      <td>-5.034694e+00</td>\n      <td>-7.277206e+00</td>\n      <td>-5.186342e+00</td>\n      <td>-5.165823e+00</td>\n      <td>-6.184705e+00</td>\n      <td>-6.381724e+00</td>\n      <td>-6.229540e+00</td>\n    </tr>\n    <tr>\n      <th>25%</th>\n      <td>-1.922909e-01</td>\n      <td>-5.661892e-01</td>\n      <td>-6.444435e-01</td>\n      <td>-6.759374e-01</td>\n      <td>-8.104744e-02</td>\n      <td>-5.261572e-01</td>\n      <td>-4.202186e-01</td>\n      <td>-5.107578e-01</td>\n      <td>-4.221273e-01</td>\n      <td>-4.265185e-01</td>\n      <td>...</td>\n      <td>-3.418705e-01</td>\n      <td>-2.902286e-01</td>\n      <td>-2.400934e-01</td>\n      <td>-1.881532e-01</td>\n      <td>-1.873015e-01</td>\n      <td>-2.633563e-01</td>\n      <td>-3.483941e-01</td>\n      <td>-2.956974e-01</td>\n      <td>-1.940491e-01</td>\n      <td>-2.328688e-01</td>\n    </tr>\n    <tr>\n      <th>50%</th>\n      <td>-1.344055e-01</td>\n      <td>-4.835910e-01</td>\n      <td>-4.368365e-01</td>\n      <td>-7.554627e-02</td>\n      <td>2.042590e-01</td>\n      <td>-1.372562e-01</td>\n      <td>8.407490e-03</td>\n      <td>4.061481e-02</td>\n      <td>-6.171760e-02</td>\n      <td>4.782604e-02</td>\n      <td>...</td>\n      <td>1.549785e-03</td>\n      <td>4.478831e-03</td>\n      <td>-4.857066e-03</td>\n      <td>2.925696e-04</td>\n      <td>-1.924011e-02</td>\n      <td>8.739377e-04</td>\n      <td>-9.605146e-03</td>\n      <td>-4.491361e-03</td>\n      <td>7.555919e-03</td>\n      <td>1.057639e-04</td>\n    </tr>\n    <tr>\n      <th>75%</th>\n      <td>-3.262742e-02</td>\n      <td>4.325117e-01</td>\n      <td>2.901851e-01</td>\n      <td>3.244685e-01</td>\n      <td>6.398374e-01</td>\n      <td>7.132518e-02</td>\n      <td>2.909228e-01</td>\n      <td>4.424041e-01</td>\n      <td>2.879035e-01</td>\n      <td>4.601415e-01</td>\n      <td>...</td>\n      <td>2.173120e-01</td>\n      <td>2.037815e-01</td>\n      <td>1.346814e-01</td>\n      <td>1.580836e-01</td>\n      <td>2.621385e-01</td>\n      <td>9.805398e-02</td>\n      <td>1.996987e-01</td>\n      <td>2.119059e-01</td>\n      <td>2.441095e-01</td>\n      <td>1.866638e-01</td>\n    </tr>\n    <tr>\n      <th>max</th>\n      <td>9.441402e+01</td>\n      <td>1.615986e+01</td>\n      <td>1.011324e+01</td>\n      <td>4.533018e+00</td>\n      <td>2.985217e+00</td>\n      <td>3.553482e+00</td>\n      <td>3.848466e+00</td>\n      <td>3.017597e+00</td>\n      <td>3.439865e+00</td>\n      <td>3.129321e+00</td>\n      <td>...</td>\n      <td>5.615140e+00</td>\n      <td>8.668076e+00</td>\n      <td>8.854406e+00</td>\n      <td>7.658099e+00</td>\n      <td>8.781179e+00</td>\n      <td>7.086553e+00</td>\n      <td>5.817274e+00</td>\n      <td>7.590664e+00</td>\n      <td>7.432078e+00</td>\n      <td>7.419559e+00</td>\n    </tr>\n  </tbody>\n</table>\n<p>8 rows × 50 columns</p>\n</div>",
      "text/plain": "                 0             1             2             3             4   \\\ncount  1.040620e+05  1.040620e+05  1.040620e+05  1.040620e+05  1.040620e+05   \nmean   1.121968e-16 -7.147710e-17  5.042957e-17  7.798575e-16  2.113448e-16   \nstd    1.000005e+00  1.000005e+00  1.000005e+00  1.000005e+00  1.000005e+00   \nmin   -4.702458e-01 -8.624848e-01 -1.556203e+00 -1.536943e+00 -2.948864e+00   \n25%   -1.922909e-01 -5.661892e-01 -6.444435e-01 -6.759374e-01 -8.104744e-02   \n50%   -1.344055e-01 -4.835910e-01 -4.368365e-01 -7.554627e-02  2.042590e-01   \n75%   -3.262742e-02  4.325117e-01  2.901851e-01  3.244685e-01  6.398374e-01   \nmax    9.441402e+01  1.615986e+01  1.011324e+01  4.533018e+00  2.985217e+00   \n\n                 5             6             7             8             9   \\\ncount  1.040620e+05  1.040620e+05  1.040620e+05  1.040620e+05  1.040620e+05   \nmean  -3.044680e-17  2.619309e-16 -8.733671e-16 -8.251751e-17  2.486602e-16   \nstd    1.000005e+00  1.000005e+00  1.000005e+00  1.000005e+00  1.000005e+00   \nmin   -2.435671e+00 -2.571966e+00 -2.624477e+00 -3.163733e+00 -2.844483e+00   \n25%   -5.261572e-01 -4.202186e-01 -5.107578e-01 -4.221273e-01 -4.265185e-01   \n50%   -1.372562e-01  8.407490e-03  4.061481e-02 -6.171760e-02  4.782604e-02   \n75%    7.132518e-02  2.909228e-01  4.424041e-01  2.879035e-01  4.601415e-01   \nmax    3.553482e+00  3.848466e+00  3.017597e+00  3.439865e+00  3.129321e+00   \n\n       ...            40            41            42            43  \\\ncount  ...  1.040620e+05  1.040620e+05  1.040620e+05  1.040620e+05   \nmean   ...  6.584474e-17 -1.219328e-16 -1.199820e-16  6.239150e-18   \nstd    ...  1.000005e+00  1.000005e+00  1.000005e+00  1.000005e+00   \nmin    ... -4.937194e+00 -4.138586e+00 -3.991995e+00 -5.034694e+00   \n25%    ... -3.418705e-01 -2.902286e-01 -2.400934e-01 -1.881532e-01   \n50%    ...  1.549785e-03  4.478831e-03 -4.857066e-03  2.925696e-04   \n75%    ...  2.173120e-01  2.037815e-01  1.346814e-01  1.580836e-01   \nmax    ...  5.615140e+00  8.668076e+00  8.854406e+00  7.658099e+00   \n\n                 44            45            46            47            48  \\\ncount  1.040620e+05  1.040620e+05  1.040620e+05  1.040620e+05  1.040620e+05   \nmean   1.868331e-17  1.723533e-16 -4.162990e-17  9.996936e-17  3.178040e-17   \nstd    1.000005e+00  1.000005e+00  1.000005e+00  1.000005e+00  1.000005e+00   \nmin   -7.277206e+00 -5.186342e+00 -5.165823e+00 -6.184705e+00 -6.381724e+00   \n25%   -1.873015e-01 -2.633563e-01 -3.483941e-01 -2.956974e-01 -1.940491e-01   \n50%   -1.924011e-02  8.739377e-04 -9.605146e-03 -4.491361e-03  7.555919e-03   \n75%    2.621385e-01  9.805398e-02  1.996987e-01  2.119059e-01  2.441095e-01   \nmax    8.781179e+00  7.086553e+00  5.817274e+00  7.590664e+00  7.432078e+00   \n\n                 49  \ncount  1.040620e+05  \nmean   4.263277e-17  \nstd    1.000005e+00  \nmin   -6.229540e+00  \n25%   -2.328688e-01  \n50%    1.057639e-04  \n75%    1.866638e-01  \nmax    7.419559e+00  \n\n[8 rows x 50 columns]"
     },
     "execution_count": 62,
     "metadata": {},
     "output_type": "execute_result"
    }
   ],
   "source": [
    "pd.DataFrame(pca_data).describe(include=\"all\")"
   ]
  },
  {
   "cell_type": "code",
   "execution_count": 63,
   "metadata": {},
   "outputs": [],
   "source": [
    "import matplotlib.pyplot as plt"
   ]
  },
  {
   "cell_type": "code",
   "execution_count": 78,
   "metadata": {},
   "outputs": [
    {
     "data": {
      "text/plain": "<matplotlib.collections.PathCollection at 0x7fb48d3d3790>"
     },
     "execution_count": 78,
     "metadata": {},
     "output_type": "execute_result"
    },
    {
     "data": {
      "image/png": "[encoded data removed]",
      "text/plain": "<Figure size 432x288 with 1 Axes>"
     },
     "metadata": {
      "needs_background": "light"
     },
     "output_type": "display_data"
    }
   ],
   "source": [
    "plt.scatter(pca_data[:,3], pca_data[:,5])"
   ]
  },
  {
   "cell_type": "code",
   "execution_count": 44,
   "metadata": {},
   "outputs": [
    {
     "data": {
      "text/plain": "(array([0.23919287, 0.1546724 , 0.05827186, 0.03712629, 0.03049443,\n        0.0289627 , 0.02311126, 0.02134146, 0.02055865, 0.01901565,\n        0.01732999, 0.01509067, 0.01273597, 0.01146761, 0.01100188,\n        0.01003202, 0.00951102, 0.00843703, 0.00825972, 0.00741364,\n        0.00671149, 0.00625955, 0.00583628, 0.00547519, 0.00488331,\n        0.00478103, 0.00466416, 0.00461945, 0.00448182, 0.00409405,\n        0.00402718, 0.00361807, 0.00350891, 0.00340969, 0.00333877,\n        0.00324306, 0.00319714, 0.00311548, 0.00300891, 0.00296038,\n        0.00291785, 0.00278925, 0.00276125, 0.00269294, 0.00257308,\n        0.00253998, 0.00249267, 0.00240399, 0.00238331, 0.00233924]),\n (50,))"
     },
     "execution_count": 44,
     "metadata": {},
     "output_type": "execute_result"
    }
   ],
   "source": [
    "pca.explained_variance_ratio_, pca.explained_variance_ratio_.shape"
   ]
  },
  {
   "cell_type": "code",
   "execution_count": 67,
   "metadata": {},
   "outputs": [
    {
     "data": {
      "text/plain": "array([[ 0.31593257, -0.52616928, -1.16687591, ..., -1.76527504,\n         1.85916613,  0.24537403],\n       [ 0.04085641, -0.57004223, -1.19500689, ..., -1.77691552,\n         1.89547758,  0.27283047],\n       [-0.01955666, -0.57978489, -1.20104085, ..., -1.78079713,\n         1.8917556 ,  0.26746251],\n       ...,\n       [-0.08448071, -0.5160569 , -0.99312406, ...,  1.53270215,\n        -1.72371358, -0.50250095],\n       [-0.08676956, -0.51584519, -0.99150594, ...,  1.52227837,\n        -1.70506672, -0.49299226],\n       [-0.02995111, -0.50738039, -0.98759735, ...,  1.53526998,\n        -1.73184602, -0.50860045]])"
     },
     "execution_count": 67,
     "metadata": {},
     "output_type": "execute_result"
    }
   ],
   "source": [
    "pca_data\n"
   ]
  },
  {
   "cell_type": "code",
   "execution_count": 103,
   "metadata": {},
   "outputs": [],
   "source": [
    "pca = PCA(n_components=0.95)"
   ]
  },
  {
   "cell_type": "code",
   "execution_count": 104,
   "metadata": {},
   "outputs": [],
   "source": [
    "pca_non_number = pca.fit_transform(non_number)"
   ]
  },
  {
   "cell_type": "code",
   "execution_count": 105,
   "metadata": {},
   "outputs": [
    {
     "data": {
      "text/plain": "<matplotlib.collections.PathCollection at 0x7f0c78e508b0>"
     },
     "execution_count": 105,
     "metadata": {},
     "output_type": "execute_result"
    },
    {
     "data": {
      "image/png": "[encoded data removed]",
      "text/plain": "<Figure size 432x288 with 1 Axes>"
     },
     "metadata": {
      "needs_background": "light"
     },
     "output_type": "display_data"
    }
   ],
   "source": [
    "plt.scatter(pca_non_number[:, 0], pca_non_number[:, 1])\n"
   ]
  },
  {
   "cell_type": "code",
   "execution_count": 106,
   "metadata": {},
   "outputs": [
    {
     "data": {
      "text/plain": "(array([0.08412556, 0.06988155, 0.05858971, 0.04599053, 0.04034452,\n        0.03723213, 0.03242514, 0.02953151, 0.02465067, 0.02159021,\n        0.01880567, 0.01843813, 0.01783839, 0.01682788, 0.01493562,\n        0.01443972, 0.01406088, 0.01354076, 0.01233948, 0.01149395,\n        0.01078481, 0.01040803, 0.00950869, 0.0093427 , 0.00913676,\n        0.008254  , 0.00737696, 0.00718223, 0.00712979, 0.00661918,\n        0.00639   , 0.00624006, 0.00616631, 0.00589364, 0.00561988,\n        0.00552606, 0.00532667, 0.00520726, 0.00502281, 0.00492859,\n        0.00480792, 0.00471806, 0.00467575, 0.00441529, 0.00437503,\n        0.00436543, 0.00428207, 0.00411146, 0.00405788, 0.00394572,\n        0.00386206, 0.00375581, 0.00368661, 0.00364315, 0.00357208,\n        0.0034538 , 0.00328207, 0.00317279, 0.00314329, 0.0031111 ,\n        0.00310207, 0.00305476, 0.00297767, 0.00292457, 0.00289549,\n        0.00283476, 0.00279607, 0.00268987, 0.00263495, 0.00262356,\n        0.00256056, 0.00251291, 0.00247072, 0.002432  , 0.00242874,\n        0.00235608, 0.00234947, 0.00229207, 0.00224909, 0.00222333,\n        0.00217829, 0.00213521, 0.00207735, 0.00204012, 0.00201295,\n        0.00200128, 0.00197596, 0.00196303, 0.00195768, 0.00194005,\n        0.00193043, 0.00189843, 0.00187768, 0.00185363, 0.00184624,\n        0.00180236, 0.00179291, 0.00177757, 0.00174759, 0.00171596,\n        0.00168411, 0.00165924, 0.00163718, 0.00162626, 0.00159042,\n        0.00157349, 0.00155782, 0.00154178, 0.00152693, 0.00151545,\n        0.00149443, 0.00147554, 0.00144087, 0.00143281, 0.00142601,\n        0.00140366, 0.00136973, 0.00133983, 0.00133422, 0.00132448,\n        0.00130922, 0.00129534, 0.00127383, 0.0012536 , 0.0012526 ,\n        0.00124314, 0.00123027, 0.00122041, 0.00119106, 0.00118704]),\n (130,),\n 0.9509280214627359)"
     },
     "execution_count": 106,
     "metadata": {},
     "output_type": "execute_result"
    }
   ],
   "source": [
    "pca.explained_variance_ratio_, pca.explained_variance_ratio_.shape, pca.explained_variance_ratio_.sum()\n"
   ]
  },
  {
   "cell_type": "code",
   "execution_count": null,
   "metadata": {},
   "outputs": [],
   "source": []
  }
 ],
 "metadata": {
  "kernelspec": {
   "display_name": "Python 3.9.2 64-bit",
   "name": "python392jvsc74a57bd0767d51c1340bd893661ea55ea3124f6de3c7a262a8b4abca0554b478b1e2ff90"
  },
  "language_info": {
   "codemirror_mode": {
    "name": "ipython",
    "version": 3
   },
   "file_extension": ".py",
   "mimetype": "text/x-python",
   "name": "python",
   "nbconvert_exporter": "python",
   "pygments_lexer": "ipython3",
   "version": "3.9.2"
  },
  "metadata": {
   "interpreter": {
    "hash": "767d51c1340bd893661ea55ea3124f6de3c7a262a8b4abca0554b478b1e2ff90"
   }
  }
 },
 "nbformat": 4,
 "nbformat_minor": 2
}