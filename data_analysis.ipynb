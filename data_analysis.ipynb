{
 "cells": [
  {
   "cell_type": "code",
   "execution_count": 1,
   "metadata": {},
   "outputs": [],
   "source": [
    "import pandas as pd\n",
    "import numpy as np"
   ]
  },
  {
   "cell_type": "code",
   "execution_count": 2,
   "metadata": {},
   "outputs": [
    {
     "data": {
      "text/html": "<div>\n<style scoped>\n    .dataframe tbody tr th:only-of-type {\n        vertical-align: middle;\n    }\n\n    .dataframe tbody tr th {\n        vertical-align: top;\n    }\n\n    .dataframe thead th {\n        text-align: right;\n    }\n</style>\n<table border=\"1\" class=\"dataframe\">\n  <thead>\n    <tr style=\"text-align: right;\">\n      <th></th>\n      <th>symbol</th>\n      <th>longName</th>\n      <th>state</th>\n      <th>country</th>\n      <th>industry</th>\n      <th>sector</th>\n      <th>fullTimeEmployees</th>\n      <th>Open0</th>\n      <th>High0</th>\n      <th>Low0</th>\n      <th>Close0</th>\n      <th>Adj Close0</th>\n      <th>Volume0</th>\n      <th>Open1</th>\n      <th>High1</th>\n      <th>Low1</th>\n      <th>Close1</th>\n      <th>Adj Close1</th>\n      <th>Volume1</th>\n    </tr>\n  </thead>\n  <tbody>\n    <tr>\n      <th>0</th>\n      <td>PLYM</td>\n      <td>Plymouth Industrial REIT, Inc.</td>\n      <td>MA</td>\n      <td>United States</td>\n      <td>REIT—Industrial</td>\n      <td>Real Estate</td>\n      <td>34.0</td>\n      <td>14.650000</td>\n      <td>14.960000</td>\n      <td>14.340000</td>\n      <td>14.920000</td>\n      <td>14.744883</td>\n      <td>215100.0</td>\n      <td>15.32</td>\n      <td>15.340000</td>\n      <td>14.88</td>\n      <td>14.990000</td>\n      <td>14.814060</td>\n      <td>466500.0</td>\n    </tr>\n    <tr>\n      <th>1</th>\n      <td>MEDP</td>\n      <td>Medpace Holdings, Inc.</td>\n      <td>OH</td>\n      <td>United States</td>\n      <td>Diagnostics &amp; Research</td>\n      <td>Healthcare</td>\n      <td>3600.0</td>\n      <td>134.210007</td>\n      <td>138.240005</td>\n      <td>132.309998</td>\n      <td>137.580002</td>\n      <td>137.580002</td>\n      <td>140200.0</td>\n      <td>139.00</td>\n      <td>143.660004</td>\n      <td>139.00</td>\n      <td>143.300003</td>\n      <td>143.300003</td>\n      <td>196400.0</td>\n    </tr>\n    <tr>\n      <th>2</th>\n      <td>VALX</td>\n      <td>Validea Market Legends ETF</td>\n      <td>NaN</td>\n      <td>NaN</td>\n      <td>NaN</td>\n      <td>NaN</td>\n      <td>NaN</td>\n      <td>NaN</td>\n      <td>NaN</td>\n      <td>NaN</td>\n      <td>NaN</td>\n      <td>NaN</td>\n      <td>NaN</td>\n      <td>NaN</td>\n      <td>NaN</td>\n      <td>NaN</td>\n      <td>NaN</td>\n      <td>NaN</td>\n      <td>NaN</td>\n    </tr>\n    <tr>\n      <th>3</th>\n      <td>KELYB</td>\n      <td>Kelly Services, Inc.</td>\n      <td>MI</td>\n      <td>United States</td>\n      <td>Staffing &amp; Employment Services</td>\n      <td>Industrials</td>\n      <td>7100.0</td>\n      <td>19.170000</td>\n      <td>19.610001</td>\n      <td>19.010000</td>\n      <td>19.580000</td>\n      <td>19.580000</td>\n      <td>5200.0</td>\n      <td>19.76</td>\n      <td>19.760000</td>\n      <td>19.15</td>\n      <td>19.709999</td>\n      <td>19.709999</td>\n      <td>1100.0</td>\n    </tr>\n    <tr>\n      <th>4</th>\n      <td>LVIN</td>\n      <td>Hartford Multifactor Low Volatility Internatio...</td>\n      <td>NaN</td>\n      <td>NaN</td>\n      <td>NaN</td>\n      <td>NaN</td>\n      <td>NaN</td>\n      <td>NaN</td>\n      <td>NaN</td>\n      <td>NaN</td>\n      <td>NaN</td>\n      <td>NaN</td>\n      <td>NaN</td>\n      <td>NaN</td>\n      <td>NaN</td>\n      <td>NaN</td>\n      <td>NaN</td>\n      <td>NaN</td>\n      <td>NaN</td>\n    </tr>\n  </tbody>\n</table>\n</div>",
      "text/plain": "  symbol                                           longName state  \\\n0   PLYM                     Plymouth Industrial REIT, Inc.    MA   \n1   MEDP                             Medpace Holdings, Inc.    OH   \n2   VALX                         Validea Market Legends ETF   NaN   \n3  KELYB                               Kelly Services, Inc.    MI   \n4   LVIN  Hartford Multifactor Low Volatility Internatio...   NaN   \n\n         country                        industry       sector  \\\n0  United States                 REIT—Industrial  Real Estate   \n1  United States          Diagnostics & Research   Healthcare   \n2            NaN                             NaN          NaN   \n3  United States  Staffing & Employment Services  Industrials   \n4            NaN                             NaN          NaN   \n\n   fullTimeEmployees       Open0       High0        Low0      Close0  \\\n0               34.0   14.650000   14.960000   14.340000   14.920000   \n1             3600.0  134.210007  138.240005  132.309998  137.580002   \n2                NaN         NaN         NaN         NaN         NaN   \n3             7100.0   19.170000   19.610001   19.010000   19.580000   \n4                NaN         NaN         NaN         NaN         NaN   \n\n   Adj Close0   Volume0   Open1       High1    Low1      Close1  Adj Close1  \\\n0   14.744883  215100.0   15.32   15.340000   14.88   14.990000   14.814060   \n1  137.580002  140200.0  139.00  143.660004  139.00  143.300003  143.300003   \n2         NaN       NaN     NaN         NaN     NaN         NaN         NaN   \n3   19.580000    5200.0   19.76   19.760000   19.15   19.709999   19.709999   \n4         NaN       NaN     NaN         NaN     NaN         NaN         NaN   \n\n    Volume1  \n0  466500.0  \n1  196400.0  \n2       NaN  \n3    1100.0  \n4       NaN  "
     },
     "execution_count": 2,
     "metadata": {},
     "output_type": "execute_result"
    }
   ],
   "source": [
    "dataset = pd.read_csv(\"dataset.csv\", sep=\";\")\n",
    "dataset.head(5)"
   ]
  },
  {
   "cell_type": "code",
   "execution_count": 3,
   "metadata": {},
   "outputs": [
    {
     "data": {
      "text/plain": "(Index(['symbol', 'longName', 'state', 'country', 'industry', 'sector',\n        'fullTimeEmployees', 'Open0', 'High0', 'Low0', 'Close0', 'Adj Close0',\n        'Volume0', 'Open1', 'High1', 'Low1', 'Close1', 'Adj Close1', 'Volume1'],\n       dtype='object'),\n (5747, 19))"
     },
     "execution_count": 3,
     "metadata": {},
     "output_type": "execute_result"
    }
   ],
   "source": [
    "dataset.columns, dataset.shape"
   ]
  },
  {
   "cell_type": "code",
   "execution_count": 4,
   "metadata": {},
   "outputs": [
    {
     "name": "stdout",
     "output_type": "stream",
     "text": [
      "<class 'pandas.core.frame.DataFrame'>\n",
      "RangeIndex: 5747 entries, 0 to 5746\n",
      "Data columns (total 19 columns):\n",
      " #   Column             Non-Null Count  Dtype  \n",
      "---  ------             --------------  -----  \n",
      " 0   symbol             5747 non-null   object \n",
      " 1   longName           5428 non-null   object \n",
      " 2   state              3792 non-null   object \n",
      " 3   country            4299 non-null   object \n",
      " 4   industry           4281 non-null   object \n",
      " 5   sector             4281 non-null   object \n",
      " 6   fullTimeEmployees  3520 non-null   float64\n",
      " 7   Open0              4938 non-null   float64\n",
      " 8   High0              4938 non-null   float64\n",
      " 9   Low0               4938 non-null   float64\n",
      " 10  Close0             4938 non-null   float64\n",
      " 11  Adj Close0         4938 non-null   float64\n",
      " 12  Volume0            4938 non-null   float64\n",
      " 13  Open1              4938 non-null   float64\n",
      " 14  High1              4938 non-null   float64\n",
      " 15  Low1               4938 non-null   float64\n",
      " 16  Close1             4938 non-null   float64\n",
      " 17  Adj Close1         4938 non-null   float64\n",
      " 18  Volume1            4938 non-null   float64\n",
      "dtypes: float64(13), object(6)\n",
      "memory usage: 853.2+ KB\n"
     ]
    }
   ],
   "source": [
    "dataset.info()"
   ]
  },
  {
   "cell_type": "code",
   "execution_count": 5,
   "metadata": {},
   "outputs": [
    {
     "data": {
      "text/plain": "symbol                  0\nlongName              319\nstate                1955\ncountry              1448\nindustry             1466\nsector               1466\nfullTimeEmployees    2227\nOpen0                 809\nHigh0                 809\nLow0                  809\nClose0                809\nAdj Close0            809\nVolume0               809\nOpen1                 809\nHigh1                 809\nLow1                  809\nClose1                809\nAdj Close1            809\nVolume1               809\ndtype: int64"
     },
     "execution_count": 5,
     "metadata": {},
     "output_type": "execute_result"
    }
   ],
   "source": [
    "dataset.isnull().sum() "
   ]
  },
  {
   "cell_type": "code",
   "execution_count": 6,
   "metadata": {},
   "outputs": [
    {
     "data": {
      "text/html": "<div>\n<style scoped>\n    .dataframe tbody tr th:only-of-type {\n        vertical-align: middle;\n    }\n\n    .dataframe tbody tr th {\n        vertical-align: top;\n    }\n\n    .dataframe thead th {\n        text-align: right;\n    }\n</style>\n<table border=\"1\" class=\"dataframe\">\n  <thead>\n    <tr style=\"text-align: right;\">\n      <th></th>\n      <th>symbol</th>\n      <th>longName</th>\n      <th>state</th>\n      <th>country</th>\n      <th>industry</th>\n      <th>sector</th>\n      <th>fullTimeEmployees</th>\n      <th>Open0</th>\n      <th>High0</th>\n      <th>Low0</th>\n      <th>Close0</th>\n      <th>Adj Close0</th>\n      <th>Volume0</th>\n      <th>Open1</th>\n      <th>High1</th>\n      <th>Low1</th>\n      <th>Close1</th>\n      <th>Adj Close1</th>\n      <th>Volume1</th>\n    </tr>\n  </thead>\n  <tbody>\n    <tr>\n      <th>count</th>\n      <td>5747</td>\n      <td>5428</td>\n      <td>3792</td>\n      <td>4299</td>\n      <td>4281</td>\n      <td>4281</td>\n      <td>3.520000e+03</td>\n      <td>4938.000000</td>\n      <td>4938.000000</td>\n      <td>4938.000000</td>\n      <td>4938.000000</td>\n      <td>4938.000000</td>\n      <td>4.938000e+03</td>\n      <td>4938.000000</td>\n      <td>4938.000000</td>\n      <td>4938.000000</td>\n      <td>4938.000000</td>\n      <td>4938.000000</td>\n      <td>4.938000e+03</td>\n    </tr>\n    <tr>\n      <th>unique</th>\n      <td>5747</td>\n      <td>5300</td>\n      <td>70</td>\n      <td>48</td>\n      <td>145</td>\n      <td>12</td>\n      <td>NaN</td>\n      <td>NaN</td>\n      <td>NaN</td>\n      <td>NaN</td>\n      <td>NaN</td>\n      <td>NaN</td>\n      <td>NaN</td>\n      <td>NaN</td>\n      <td>NaN</td>\n      <td>NaN</td>\n      <td>NaN</td>\n      <td>NaN</td>\n      <td>NaN</td>\n    </tr>\n    <tr>\n      <th>top</th>\n      <td>BTO</td>\n      <td>CHS Inc.</td>\n      <td>CA</td>\n      <td>United States</td>\n      <td>Asset Management</td>\n      <td>Financial Services</td>\n      <td>NaN</td>\n      <td>NaN</td>\n      <td>NaN</td>\n      <td>NaN</td>\n      <td>NaN</td>\n      <td>NaN</td>\n      <td>NaN</td>\n      <td>NaN</td>\n      <td>NaN</td>\n      <td>NaN</td>\n      <td>NaN</td>\n      <td>NaN</td>\n      <td>NaN</td>\n    </tr>\n    <tr>\n      <th>freq</th>\n      <td>1</td>\n      <td>5</td>\n      <td>539</td>\n      <td>3613</td>\n      <td>497</td>\n      <td>1092</td>\n      <td>NaN</td>\n      <td>NaN</td>\n      <td>NaN</td>\n      <td>NaN</td>\n      <td>NaN</td>\n      <td>NaN</td>\n      <td>NaN</td>\n      <td>NaN</td>\n      <td>NaN</td>\n      <td>NaN</td>\n      <td>NaN</td>\n      <td>NaN</td>\n      <td>NaN</td>\n    </tr>\n    <tr>\n      <th>mean</th>\n      <td>NaN</td>\n      <td>NaN</td>\n      <td>NaN</td>\n      <td>NaN</td>\n      <td>NaN</td>\n      <td>NaN</td>\n      <td>1.374761e+04</td>\n      <td>213.776441</td>\n      <td>215.615373</td>\n      <td>210.267543</td>\n      <td>213.230684</td>\n      <td>213.105344</td>\n      <td>1.906070e+06</td>\n      <td>227.299259</td>\n      <td>230.812118</td>\n      <td>226.020147</td>\n      <td>229.010424</td>\n      <td>228.884120</td>\n      <td>1.752789e+06</td>\n    </tr>\n    <tr>\n      <th>std</th>\n      <td>NaN</td>\n      <td>NaN</td>\n      <td>NaN</td>\n      <td>NaN</td>\n      <td>NaN</td>\n      <td>NaN</td>\n      <td>5.848558e+04</td>\n      <td>5807.821383</td>\n      <td>5834.202676</td>\n      <td>5765.131289</td>\n      <td>5808.159591</td>\n      <td>5808.161677</td>\n      <td>1.128360e+07</td>\n      <td>5924.656340</td>\n      <td>5994.088743</td>\n      <td>5916.677884</td>\n      <td>5960.082557</td>\n      <td>5960.084884</td>\n      <td>1.026653e+07</td>\n    </tr>\n    <tr>\n      <th>min</th>\n      <td>NaN</td>\n      <td>NaN</td>\n      <td>NaN</td>\n      <td>NaN</td>\n      <td>NaN</td>\n      <td>NaN</td>\n      <td>1.000000e+00</td>\n      <td>0.000300</td>\n      <td>0.000300</td>\n      <td>0.000300</td>\n      <td>0.000300</td>\n      <td>0.000300</td>\n      <td>0.000000e+00</td>\n      <td>0.000300</td>\n      <td>0.000300</td>\n      <td>0.000300</td>\n      <td>0.000300</td>\n      <td>0.000300</td>\n      <td>0.000000e+00</td>\n    </tr>\n    <tr>\n      <th>25%</th>\n      <td>NaN</td>\n      <td>NaN</td>\n      <td>NaN</td>\n      <td>NaN</td>\n      <td>NaN</td>\n      <td>NaN</td>\n      <td>2.340000e+02</td>\n      <td>9.967500</td>\n      <td>10.160000</td>\n      <td>9.717500</td>\n      <td>10.022500</td>\n      <td>9.992500</td>\n      <td>4.980000e+04</td>\n      <td>10.090000</td>\n      <td>10.282500</td>\n      <td>9.850000</td>\n      <td>10.150000</td>\n      <td>10.066895</td>\n      <td>4.675000e+04</td>\n    </tr>\n    <tr>\n      <th>50%</th>\n      <td>NaN</td>\n      <td>NaN</td>\n      <td>NaN</td>\n      <td>NaN</td>\n      <td>NaN</td>\n      <td>NaN</td>\n      <td>1.549000e+03</td>\n      <td>23.320000</td>\n      <td>23.785001</td>\n      <td>22.974999</td>\n      <td>23.525001</td>\n      <td>23.342290</td>\n      <td>2.696500e+05</td>\n      <td>23.709999</td>\n      <td>24.059999</td>\n      <td>23.175000</td>\n      <td>23.605000</td>\n      <td>23.490000</td>\n      <td>2.585500e+05</td>\n    </tr>\n    <tr>\n      <th>75%</th>\n      <td>NaN</td>\n      <td>NaN</td>\n      <td>NaN</td>\n      <td>NaN</td>\n      <td>NaN</td>\n      <td>NaN</td>\n      <td>7.736250e+03</td>\n      <td>50.195001</td>\n      <td>51.120001</td>\n      <td>49.372501</td>\n      <td>50.565001</td>\n      <td>50.345094</td>\n      <td>9.922000e+05</td>\n      <td>51.075000</td>\n      <td>51.707500</td>\n      <td>50.342499</td>\n      <td>51.020000</td>\n      <td>50.721001</td>\n      <td>9.812000e+05</td>\n    </tr>\n    <tr>\n      <th>max</th>\n      <td>NaN</td>\n      <td>NaN</td>\n      <td>NaN</td>\n      <td>NaN</td>\n      <td>NaN</td>\n      <td>NaN</td>\n      <td>2.300000e+06</td>\n      <td>345000.000000</td>\n      <td>346945.000000</td>\n      <td>344250.000000</td>\n      <td>346175.000000</td>\n      <td>346175.000000</td>\n      <td>4.346080e+08</td>\n      <td>348300.000000</td>\n      <td>352000.000000</td>\n      <td>348300.000000</td>\n      <td>350201.000000</td>\n      <td>350201.000000</td>\n      <td>4.627759e+08</td>\n    </tr>\n  </tbody>\n</table>\n</div>",
      "text/plain": "       symbol  longName state        country          industry  \\\ncount    5747      5428  3792           4299              4281   \nunique   5747      5300    70             48               145   \ntop       BTO  CHS Inc.    CA  United States  Asset Management   \nfreq        1         5   539           3613               497   \nmean      NaN       NaN   NaN            NaN               NaN   \nstd       NaN       NaN   NaN            NaN               NaN   \nmin       NaN       NaN   NaN            NaN               NaN   \n25%       NaN       NaN   NaN            NaN               NaN   \n50%       NaN       NaN   NaN            NaN               NaN   \n75%       NaN       NaN   NaN            NaN               NaN   \nmax       NaN       NaN   NaN            NaN               NaN   \n\n                    sector  fullTimeEmployees          Open0          High0  \\\ncount                 4281       3.520000e+03    4938.000000    4938.000000   \nunique                  12                NaN            NaN            NaN   \ntop     Financial Services                NaN            NaN            NaN   \nfreq                  1092                NaN            NaN            NaN   \nmean                   NaN       1.374761e+04     213.776441     215.615373   \nstd                    NaN       5.848558e+04    5807.821383    5834.202676   \nmin                    NaN       1.000000e+00       0.000300       0.000300   \n25%                    NaN       2.340000e+02       9.967500      10.160000   \n50%                    NaN       1.549000e+03      23.320000      23.785001   \n75%                    NaN       7.736250e+03      50.195001      51.120001   \nmax                    NaN       2.300000e+06  345000.000000  346945.000000   \n\n                 Low0         Close0     Adj Close0       Volume0  \\\ncount     4938.000000    4938.000000    4938.000000  4.938000e+03   \nunique            NaN            NaN            NaN           NaN   \ntop               NaN            NaN            NaN           NaN   \nfreq              NaN            NaN            NaN           NaN   \nmean       210.267543     213.230684     213.105344  1.906070e+06   \nstd       5765.131289    5808.159591    5808.161677  1.128360e+07   \nmin          0.000300       0.000300       0.000300  0.000000e+00   \n25%          9.717500      10.022500       9.992500  4.980000e+04   \n50%         22.974999      23.525001      23.342290  2.696500e+05   \n75%         49.372501      50.565001      50.345094  9.922000e+05   \nmax     344250.000000  346175.000000  346175.000000  4.346080e+08   \n\n                Open1          High1           Low1         Close1  \\\ncount     4938.000000    4938.000000    4938.000000    4938.000000   \nunique            NaN            NaN            NaN            NaN   \ntop               NaN            NaN            NaN            NaN   \nfreq              NaN            NaN            NaN            NaN   \nmean       227.299259     230.812118     226.020147     229.010424   \nstd       5924.656340    5994.088743    5916.677884    5960.082557   \nmin          0.000300       0.000300       0.000300       0.000300   \n25%         10.090000      10.282500       9.850000      10.150000   \n50%         23.709999      24.059999      23.175000      23.605000   \n75%         51.075000      51.707500      50.342499      51.020000   \nmax     348300.000000  352000.000000  348300.000000  350201.000000   \n\n           Adj Close1       Volume1  \ncount     4938.000000  4.938000e+03  \nunique            NaN           NaN  \ntop               NaN           NaN  \nfreq              NaN           NaN  \nmean       228.884120  1.752789e+06  \nstd       5960.084884  1.026653e+07  \nmin          0.000300  0.000000e+00  \n25%         10.066895  4.675000e+04  \n50%         23.490000  2.585500e+05  \n75%         50.721001  9.812000e+05  \nmax     350201.000000  4.627759e+08  "
     },
     "execution_count": 6,
     "metadata": {},
     "output_type": "execute_result"
    }
   ],
   "source": [
    "dataset.describe(include=\"all\")"
   ]
  },
  {
   "cell_type": "code",
   "execution_count": 7,
   "metadata": {},
   "outputs": [
    {
     "data": {
      "text/html": "<div>\n<style scoped>\n    .dataframe tbody tr th:only-of-type {\n        vertical-align: middle;\n    }\n\n    .dataframe tbody tr th {\n        vertical-align: top;\n    }\n\n    .dataframe thead th {\n        text-align: right;\n    }\n</style>\n<table border=\"1\" class=\"dataframe\">\n  <thead>\n    <tr style=\"text-align: right;\">\n      <th></th>\n      <th>symbol</th>\n      <th>longName</th>\n      <th>state</th>\n      <th>country</th>\n      <th>industry</th>\n      <th>sector</th>\n      <th>fullTimeEmployees</th>\n      <th>Open0</th>\n      <th>High0</th>\n      <th>Low0</th>\n      <th>Close0</th>\n      <th>Adj Close0</th>\n      <th>Volume0</th>\n      <th>Open1</th>\n      <th>High1</th>\n      <th>Low1</th>\n      <th>Close1</th>\n      <th>Adj Close1</th>\n      <th>Volume1</th>\n    </tr>\n  </thead>\n  <tbody>\n    <tr>\n      <th>0</th>\n      <td>PLYM</td>\n      <td>Plymouth Industrial REIT, Inc.</td>\n      <td>MA</td>\n      <td>United States</td>\n      <td>REIT—Industrial</td>\n      <td>Real Estate</td>\n      <td>34.0</td>\n      <td>14.650000</td>\n      <td>14.960000</td>\n      <td>14.340000</td>\n      <td>14.920000</td>\n      <td>14.744883</td>\n      <td>215100.0</td>\n      <td>15.320000</td>\n      <td>15.340000</td>\n      <td>14.880000</td>\n      <td>14.990000</td>\n      <td>14.814060</td>\n      <td>466500.0</td>\n    </tr>\n    <tr>\n      <th>1</th>\n      <td>MEDP</td>\n      <td>Medpace Holdings, Inc.</td>\n      <td>OH</td>\n      <td>United States</td>\n      <td>Diagnostics &amp; Research</td>\n      <td>Healthcare</td>\n      <td>3600.0</td>\n      <td>134.210007</td>\n      <td>138.240005</td>\n      <td>132.309998</td>\n      <td>137.580002</td>\n      <td>137.580002</td>\n      <td>140200.0</td>\n      <td>139.000000</td>\n      <td>143.660004</td>\n      <td>139.000000</td>\n      <td>143.300003</td>\n      <td>143.300003</td>\n      <td>196400.0</td>\n    </tr>\n    <tr>\n      <th>3</th>\n      <td>KELYB</td>\n      <td>Kelly Services, Inc.</td>\n      <td>MI</td>\n      <td>United States</td>\n      <td>Staffing &amp; Employment Services</td>\n      <td>Industrials</td>\n      <td>7100.0</td>\n      <td>19.170000</td>\n      <td>19.610001</td>\n      <td>19.010000</td>\n      <td>19.580000</td>\n      <td>19.580000</td>\n      <td>5200.0</td>\n      <td>19.760000</td>\n      <td>19.760000</td>\n      <td>19.150000</td>\n      <td>19.709999</td>\n      <td>19.709999</td>\n      <td>1100.0</td>\n    </tr>\n    <tr>\n      <th>5</th>\n      <td>CEY</td>\n      <td>VictoryShares Emerging Market High Div Volatil...</td>\n      <td>NaN</td>\n      <td>NaN</td>\n      <td>NaN</td>\n      <td>NaN</td>\n      <td>NaN</td>\n      <td>22.350000</td>\n      <td>22.440001</td>\n      <td>22.350000</td>\n      <td>22.434000</td>\n      <td>22.381737</td>\n      <td>1200.0</td>\n      <td>22.646999</td>\n      <td>22.693001</td>\n      <td>22.629999</td>\n      <td>22.653000</td>\n      <td>22.600225</td>\n      <td>5600.0</td>\n    </tr>\n    <tr>\n      <th>7</th>\n      <td>CXP</td>\n      <td>Columbia Property Trust, Inc.</td>\n      <td>NY</td>\n      <td>United States</td>\n      <td>REIT—Office</td>\n      <td>Real Estate</td>\n      <td>160.0</td>\n      <td>13.630000</td>\n      <td>13.740000</td>\n      <td>13.300000</td>\n      <td>13.550000</td>\n      <td>13.356955</td>\n      <td>422500.0</td>\n      <td>13.610000</td>\n      <td>13.720000</td>\n      <td>13.220000</td>\n      <td>13.710000</td>\n      <td>13.514674</td>\n      <td>662700.0</td>\n    </tr>\n  </tbody>\n</table>\n</div>",
      "text/plain": "  symbol                                           longName state  \\\n0   PLYM                     Plymouth Industrial REIT, Inc.    MA   \n1   MEDP                             Medpace Holdings, Inc.    OH   \n3  KELYB                               Kelly Services, Inc.    MI   \n5    CEY  VictoryShares Emerging Market High Div Volatil...   NaN   \n7    CXP                      Columbia Property Trust, Inc.    NY   \n\n         country                        industry       sector  \\\n0  United States                 REIT—Industrial  Real Estate   \n1  United States          Diagnostics & Research   Healthcare   \n3  United States  Staffing & Employment Services  Industrials   \n5            NaN                             NaN          NaN   \n7  United States                     REIT—Office  Real Estate   \n\n   fullTimeEmployees       Open0       High0        Low0      Close0  \\\n0               34.0   14.650000   14.960000   14.340000   14.920000   \n1             3600.0  134.210007  138.240005  132.309998  137.580002   \n3             7100.0   19.170000   19.610001   19.010000   19.580000   \n5                NaN   22.350000   22.440001   22.350000   22.434000   \n7              160.0   13.630000   13.740000   13.300000   13.550000   \n\n   Adj Close0   Volume0       Open1       High1        Low1      Close1  \\\n0   14.744883  215100.0   15.320000   15.340000   14.880000   14.990000   \n1  137.580002  140200.0  139.000000  143.660004  139.000000  143.300003   \n3   19.580000    5200.0   19.760000   19.760000   19.150000   19.709999   \n5   22.381737    1200.0   22.646999   22.693001   22.629999   22.653000   \n7   13.356955  422500.0   13.610000   13.720000   13.220000   13.710000   \n\n   Adj Close1   Volume1  \n0   14.814060  466500.0  \n1  143.300003  196400.0  \n3   19.709999    1100.0  \n5   22.600225    5600.0  \n7   13.514674  662700.0  "
     },
     "execution_count": 7,
     "metadata": {},
     "output_type": "execute_result"
    }
   ],
   "source": [
    "dataset = dataset.dropna(subset=['Open0', 'High0', 'Low0', 'Close0', 'Adj Close0',\n",
    "                                 'Volume0', 'Open1', 'High1', 'Low1', 'Close1', 'Adj Close1', 'Volume1'])\n",
    "dataset.head(5)\n"
   ]
  },
  {
   "cell_type": "code",
   "execution_count": 8,
   "metadata": {},
   "outputs": [
    {
     "data": {
      "text/plain": "symbol                  0\nlongName               16\nstate                1163\ncountry               661\nindustry              673\nsector                673\nfullTimeEmployees    1427\nOpen0                   0\nHigh0                   0\nLow0                    0\nClose0                  0\nAdj Close0              0\nVolume0                 0\nOpen1                   0\nHigh1                   0\nLow1                    0\nClose1                  0\nAdj Close1              0\nVolume1                 0\ndtype: int64"
     },
     "execution_count": 8,
     "metadata": {},
     "output_type": "execute_result"
    }
   ],
   "source": [
    "dataset.isnull().sum() "
   ]
  },
  {
   "cell_type": "code",
   "execution_count": 9,
   "metadata": {},
   "outputs": [
    {
     "data": {
      "text/html": "<div>\n<style scoped>\n    .dataframe tbody tr th:only-of-type {\n        vertical-align: middle;\n    }\n\n    .dataframe tbody tr th {\n        vertical-align: top;\n    }\n\n    .dataframe thead th {\n        text-align: right;\n    }\n</style>\n<table border=\"1\" class=\"dataframe\">\n  <thead>\n    <tr style=\"text-align: right;\">\n      <th></th>\n      <th>symbol</th>\n      <th>longName</th>\n      <th>state</th>\n      <th>country</th>\n      <th>industry</th>\n      <th>sector</th>\n      <th>fullTimeEmployees</th>\n      <th>Open0</th>\n      <th>High0</th>\n      <th>Low0</th>\n      <th>Close0</th>\n      <th>Adj Close0</th>\n      <th>Volume0</th>\n      <th>Open1</th>\n      <th>High1</th>\n      <th>Low1</th>\n      <th>Close1</th>\n      <th>Adj Close1</th>\n      <th>Volume1</th>\n    </tr>\n  </thead>\n  <tbody>\n    <tr>\n      <th>count</th>\n      <td>4936</td>\n      <td>4920</td>\n      <td>3773</td>\n      <td>4275</td>\n      <td>4263</td>\n      <td>4263</td>\n      <td>3.509000e+03</td>\n      <td>4936.000000</td>\n      <td>4936.000000</td>\n      <td>4936.000000</td>\n      <td>4936.000000</td>\n      <td>4936.000000</td>\n      <td>4.936000e+03</td>\n      <td>4936.000000</td>\n      <td>4936.000000</td>\n      <td>4936.000000</td>\n      <td>4936.000000</td>\n      <td>4936.000000</td>\n      <td>4.936000e+03</td>\n    </tr>\n    <tr>\n      <th>unique</th>\n      <td>4936</td>\n      <td>4813</td>\n      <td>70</td>\n      <td>48</td>\n      <td>145</td>\n      <td>12</td>\n      <td>NaN</td>\n      <td>NaN</td>\n      <td>NaN</td>\n      <td>NaN</td>\n      <td>NaN</td>\n      <td>NaN</td>\n      <td>NaN</td>\n      <td>NaN</td>\n      <td>NaN</td>\n      <td>NaN</td>\n      <td>NaN</td>\n      <td>NaN</td>\n      <td>NaN</td>\n    </tr>\n    <tr>\n      <th>top</th>\n      <td>BTO</td>\n      <td>CHS Inc.</td>\n      <td>CA</td>\n      <td>United States</td>\n      <td>Asset Management</td>\n      <td>Financial Services</td>\n      <td>NaN</td>\n      <td>NaN</td>\n      <td>NaN</td>\n      <td>NaN</td>\n      <td>NaN</td>\n      <td>NaN</td>\n      <td>NaN</td>\n      <td>NaN</td>\n      <td>NaN</td>\n      <td>NaN</td>\n      <td>NaN</td>\n      <td>NaN</td>\n      <td>NaN</td>\n    </tr>\n    <tr>\n      <th>freq</th>\n      <td>1</td>\n      <td>5</td>\n      <td>535</td>\n      <td>3594</td>\n      <td>497</td>\n      <td>1080</td>\n      <td>NaN</td>\n      <td>NaN</td>\n      <td>NaN</td>\n      <td>NaN</td>\n      <td>NaN</td>\n      <td>NaN</td>\n      <td>NaN</td>\n      <td>NaN</td>\n      <td>NaN</td>\n      <td>NaN</td>\n      <td>NaN</td>\n      <td>NaN</td>\n      <td>NaN</td>\n    </tr>\n    <tr>\n      <th>mean</th>\n      <td>NaN</td>\n      <td>NaN</td>\n      <td>NaN</td>\n      <td>NaN</td>\n      <td>NaN</td>\n      <td>NaN</td>\n      <td>1.378832e+04</td>\n      <td>213.850604</td>\n      <td>215.690281</td>\n      <td>210.340284</td>\n      <td>213.304625</td>\n      <td>213.179235</td>\n      <td>1.906842e+06</td>\n      <td>214.620653</td>\n      <td>218.134895</td>\n      <td>213.341025</td>\n      <td>216.332511</td>\n      <td>216.206156</td>\n      <td>1.753475e+06</td>\n    </tr>\n    <tr>\n      <th>std</th>\n      <td>NaN</td>\n      <td>NaN</td>\n      <td>NaN</td>\n      <td>NaN</td>\n      <td>NaN</td>\n      <td>NaN</td>\n      <td>5.857265e+04</td>\n      <td>5808.996958</td>\n      <td>5835.383578</td>\n      <td>5766.298250</td>\n      <td>5809.335242</td>\n      <td>5809.337330</td>\n      <td>1.128582e+07</td>\n      <td>5858.027534</td>\n      <td>5928.276160</td>\n      <td>5849.952161</td>\n      <td>5893.872409</td>\n      <td>5893.874491</td>\n      <td>1.026856e+07</td>\n    </tr>\n    <tr>\n      <th>min</th>\n      <td>NaN</td>\n      <td>NaN</td>\n      <td>NaN</td>\n      <td>NaN</td>\n      <td>NaN</td>\n      <td>NaN</td>\n      <td>1.000000e+00</td>\n      <td>0.000300</td>\n      <td>0.000300</td>\n      <td>0.000300</td>\n      <td>0.000300</td>\n      <td>0.000300</td>\n      <td>0.000000e+00</td>\n      <td>0.000300</td>\n      <td>0.000300</td>\n      <td>0.000300</td>\n      <td>0.000300</td>\n      <td>0.000300</td>\n      <td>0.000000e+00</td>\n    </tr>\n    <tr>\n      <th>25%</th>\n      <td>NaN</td>\n      <td>NaN</td>\n      <td>NaN</td>\n      <td>NaN</td>\n      <td>NaN</td>\n      <td>NaN</td>\n      <td>2.350000e+02</td>\n      <td>9.960000</td>\n      <td>10.160000</td>\n      <td>9.710000</td>\n      <td>10.020000</td>\n      <td>9.990000</td>\n      <td>4.980000e+04</td>\n      <td>10.085000</td>\n      <td>10.280000</td>\n      <td>9.850000</td>\n      <td>10.147500</td>\n      <td>10.064395</td>\n      <td>4.685000e+04</td>\n    </tr>\n    <tr>\n      <th>50%</th>\n      <td>NaN</td>\n      <td>NaN</td>\n      <td>NaN</td>\n      <td>NaN</td>\n      <td>NaN</td>\n      <td>NaN</td>\n      <td>1.555000e+03</td>\n      <td>23.309999</td>\n      <td>23.770000</td>\n      <td>22.969999</td>\n      <td>23.490000</td>\n      <td>23.307290</td>\n      <td>2.698500e+05</td>\n      <td>23.709999</td>\n      <td>24.059999</td>\n      <td>23.175000</td>\n      <td>23.605000</td>\n      <td>23.490000</td>\n      <td>2.589500e+05</td>\n    </tr>\n    <tr>\n      <th>75%</th>\n      <td>NaN</td>\n      <td>NaN</td>\n      <td>NaN</td>\n      <td>NaN</td>\n      <td>NaN</td>\n      <td>NaN</td>\n      <td>7.800000e+03</td>\n      <td>50.205001</td>\n      <td>51.140000</td>\n      <td>49.414001</td>\n      <td>50.585001</td>\n      <td>50.354224</td>\n      <td>9.925250e+05</td>\n      <td>51.044999</td>\n      <td>51.682499</td>\n      <td>50.327499</td>\n      <td>51.000001</td>\n      <td>50.707001</td>\n      <td>9.814250e+05</td>\n    </tr>\n    <tr>\n      <th>max</th>\n      <td>NaN</td>\n      <td>NaN</td>\n      <td>NaN</td>\n      <td>NaN</td>\n      <td>NaN</td>\n      <td>NaN</td>\n      <td>2.300000e+06</td>\n      <td>345000.000000</td>\n      <td>346945.000000</td>\n      <td>344250.000000</td>\n      <td>346175.000000</td>\n      <td>346175.000000</td>\n      <td>4.346080e+08</td>\n      <td>348300.000000</td>\n      <td>352000.000000</td>\n      <td>348300.000000</td>\n      <td>350201.000000</td>\n      <td>350201.000000</td>\n      <td>4.627759e+08</td>\n    </tr>\n  </tbody>\n</table>\n</div>",
      "text/plain": "       symbol  longName state        country          industry  \\\ncount    4936      4920  3773           4275              4263   \nunique   4936      4813    70             48               145   \ntop       BTO  CHS Inc.    CA  United States  Asset Management   \nfreq        1         5   535           3594               497   \nmean      NaN       NaN   NaN            NaN               NaN   \nstd       NaN       NaN   NaN            NaN               NaN   \nmin       NaN       NaN   NaN            NaN               NaN   \n25%       NaN       NaN   NaN            NaN               NaN   \n50%       NaN       NaN   NaN            NaN               NaN   \n75%       NaN       NaN   NaN            NaN               NaN   \nmax       NaN       NaN   NaN            NaN               NaN   \n\n                    sector  fullTimeEmployees          Open0          High0  \\\ncount                 4263       3.509000e+03    4936.000000    4936.000000   \nunique                  12                NaN            NaN            NaN   \ntop     Financial Services                NaN            NaN            NaN   \nfreq                  1080                NaN            NaN            NaN   \nmean                   NaN       1.378832e+04     213.850604     215.690281   \nstd                    NaN       5.857265e+04    5808.996958    5835.383578   \nmin                    NaN       1.000000e+00       0.000300       0.000300   \n25%                    NaN       2.350000e+02       9.960000      10.160000   \n50%                    NaN       1.555000e+03      23.309999      23.770000   \n75%                    NaN       7.800000e+03      50.205001      51.140000   \nmax                    NaN       2.300000e+06  345000.000000  346945.000000   \n\n                 Low0         Close0     Adj Close0       Volume0  \\\ncount     4936.000000    4936.000000    4936.000000  4.936000e+03   \nunique            NaN            NaN            NaN           NaN   \ntop               NaN            NaN            NaN           NaN   \nfreq              NaN            NaN            NaN           NaN   \nmean       210.340284     213.304625     213.179235  1.906842e+06   \nstd       5766.298250    5809.335242    5809.337330  1.128582e+07   \nmin          0.000300       0.000300       0.000300  0.000000e+00   \n25%          9.710000      10.020000       9.990000  4.980000e+04   \n50%         22.969999      23.490000      23.307290  2.698500e+05   \n75%         49.414001      50.585001      50.354224  9.925250e+05   \nmax     344250.000000  346175.000000  346175.000000  4.346080e+08   \n\n                Open1          High1           Low1         Close1  \\\ncount     4936.000000    4936.000000    4936.000000    4936.000000   \nunique            NaN            NaN            NaN            NaN   \ntop               NaN            NaN            NaN            NaN   \nfreq              NaN            NaN            NaN            NaN   \nmean       214.620653     218.134895     213.341025     216.332511   \nstd       5858.027534    5928.276160    5849.952161    5893.872409   \nmin          0.000300       0.000300       0.000300       0.000300   \n25%         10.085000      10.280000       9.850000      10.147500   \n50%         23.709999      24.059999      23.175000      23.605000   \n75%         51.044999      51.682499      50.327499      51.000001   \nmax     348300.000000  352000.000000  348300.000000  350201.000000   \n\n           Adj Close1       Volume1  \ncount     4936.000000  4.936000e+03  \nunique            NaN           NaN  \ntop               NaN           NaN  \nfreq              NaN           NaN  \nmean       216.206156  1.753475e+06  \nstd       5893.874491  1.026856e+07  \nmin          0.000300  0.000000e+00  \n25%         10.064395  4.685000e+04  \n50%         23.490000  2.589500e+05  \n75%         50.707001  9.814250e+05  \nmax     350201.000000  4.627759e+08  "
     },
     "execution_count": 9,
     "metadata": {},
     "output_type": "execute_result"
    }
   ],
   "source": [
    "dataset.describe(include=\"all\")"
   ]
  },
  {
   "cell_type": "code",
   "execution_count": 10,
   "metadata": {},
   "outputs": [
    {
     "data": {
      "text/html": "<div>\n<style scoped>\n    .dataframe tbody tr th:only-of-type {\n        vertical-align: middle;\n    }\n\n    .dataframe tbody tr th {\n        vertical-align: top;\n    }\n\n    .dataframe thead th {\n        text-align: right;\n    }\n</style>\n<table border=\"1\" class=\"dataframe\">\n  <thead>\n    <tr style=\"text-align: right;\">\n      <th></th>\n      <th>symbol</th>\n      <th>longName</th>\n      <th>state</th>\n      <th>country</th>\n      <th>industry</th>\n      <th>sector</th>\n      <th>fullTimeEmployees</th>\n      <th>Open0</th>\n      <th>High0</th>\n      <th>Low0</th>\n      <th>Close0</th>\n      <th>Adj Close0</th>\n      <th>Volume0</th>\n      <th>Open1</th>\n      <th>High1</th>\n      <th>Low1</th>\n      <th>Close1</th>\n      <th>Adj Close1</th>\n      <th>Volume1</th>\n    </tr>\n  </thead>\n  <tbody>\n    <tr>\n      <th>0</th>\n      <td>PLYM</td>\n      <td>Plymouth Industrial REIT, Inc.</td>\n      <td>MA</td>\n      <td>United States</td>\n      <td>REIT—Industrial</td>\n      <td>Real Estate</td>\n      <td>34.0</td>\n      <td>14.650000</td>\n      <td>14.960000</td>\n      <td>14.340000</td>\n      <td>14.920000</td>\n      <td>14.744883</td>\n      <td>215100.0</td>\n      <td>15.32</td>\n      <td>15.340000</td>\n      <td>14.88</td>\n      <td>14.990000</td>\n      <td>14.814060</td>\n      <td>466500.0</td>\n    </tr>\n    <tr>\n      <th>1</th>\n      <td>MEDP</td>\n      <td>Medpace Holdings, Inc.</td>\n      <td>OH</td>\n      <td>United States</td>\n      <td>Diagnostics &amp; Research</td>\n      <td>Healthcare</td>\n      <td>3600.0</td>\n      <td>134.210007</td>\n      <td>138.240005</td>\n      <td>132.309998</td>\n      <td>137.580002</td>\n      <td>137.580002</td>\n      <td>140200.0</td>\n      <td>139.00</td>\n      <td>143.660004</td>\n      <td>139.00</td>\n      <td>143.300003</td>\n      <td>143.300003</td>\n      <td>196400.0</td>\n    </tr>\n    <tr>\n      <th>3</th>\n      <td>KELYB</td>\n      <td>Kelly Services, Inc.</td>\n      <td>MI</td>\n      <td>United States</td>\n      <td>Staffing &amp; Employment Services</td>\n      <td>Industrials</td>\n      <td>7100.0</td>\n      <td>19.170000</td>\n      <td>19.610001</td>\n      <td>19.010000</td>\n      <td>19.580000</td>\n      <td>19.580000</td>\n      <td>5200.0</td>\n      <td>19.76</td>\n      <td>19.760000</td>\n      <td>19.15</td>\n      <td>19.709999</td>\n      <td>19.709999</td>\n      <td>1100.0</td>\n    </tr>\n    <tr>\n      <th>7</th>\n      <td>CXP</td>\n      <td>Columbia Property Trust, Inc.</td>\n      <td>NY</td>\n      <td>United States</td>\n      <td>REIT—Office</td>\n      <td>Real Estate</td>\n      <td>160.0</td>\n      <td>13.630000</td>\n      <td>13.740000</td>\n      <td>13.300000</td>\n      <td>13.550000</td>\n      <td>13.356955</td>\n      <td>422500.0</td>\n      <td>13.61</td>\n      <td>13.720000</td>\n      <td>13.22</td>\n      <td>13.710000</td>\n      <td>13.514674</td>\n      <td>662700.0</td>\n    </tr>\n    <tr>\n      <th>9</th>\n      <td>ESQ</td>\n      <td>Esquire Financial Holdings, Inc.</td>\n      <td>NY</td>\n      <td>United States</td>\n      <td>Banks—Regional</td>\n      <td>Financial Services</td>\n      <td>99.0</td>\n      <td>22.100000</td>\n      <td>22.610001</td>\n      <td>21.510000</td>\n      <td>21.760000</td>\n      <td>21.760000</td>\n      <td>8800.0</td>\n      <td>22.10</td>\n      <td>23.160000</td>\n      <td>22.01</td>\n      <td>22.070000</td>\n      <td>22.070000</td>\n      <td>20200.0</td>\n    </tr>\n  </tbody>\n</table>\n</div>",
      "text/plain": "  symbol                          longName state        country  \\\n0   PLYM    Plymouth Industrial REIT, Inc.    MA  United States   \n1   MEDP            Medpace Holdings, Inc.    OH  United States   \n3  KELYB              Kelly Services, Inc.    MI  United States   \n7    CXP     Columbia Property Trust, Inc.    NY  United States   \n9    ESQ  Esquire Financial Holdings, Inc.    NY  United States   \n\n                         industry              sector  fullTimeEmployees  \\\n0                 REIT—Industrial         Real Estate               34.0   \n1          Diagnostics & Research          Healthcare             3600.0   \n3  Staffing & Employment Services         Industrials             7100.0   \n7                     REIT—Office         Real Estate              160.0   \n9                  Banks—Regional  Financial Services               99.0   \n\n        Open0       High0        Low0      Close0  Adj Close0   Volume0  \\\n0   14.650000   14.960000   14.340000   14.920000   14.744883  215100.0   \n1  134.210007  138.240005  132.309998  137.580002  137.580002  140200.0   \n3   19.170000   19.610001   19.010000   19.580000   19.580000    5200.0   \n7   13.630000   13.740000   13.300000   13.550000   13.356955  422500.0   \n9   22.100000   22.610001   21.510000   21.760000   21.760000    8800.0   \n\n    Open1       High1    Low1      Close1  Adj Close1   Volume1  \n0   15.32   15.340000   14.88   14.990000   14.814060  466500.0  \n1  139.00  143.660004  139.00  143.300003  143.300003  196400.0  \n3   19.76   19.760000   19.15   19.709999   19.709999    1100.0  \n7   13.61   13.720000   13.22   13.710000   13.514674  662700.0  \n9   22.10   23.160000   22.01   22.070000   22.070000   20200.0  "
     },
     "execution_count": 10,
     "metadata": {},
     "output_type": "execute_result"
    }
   ],
   "source": [
    "dataset = dataset.dropna()\n",
    "dataset.head(5)"
   ]
  },
  {
   "cell_type": "code",
   "execution_count": 11,
   "metadata": {},
   "outputs": [
    {
     "data": {
      "text/plain": "(3128, 19)"
     },
     "execution_count": 11,
     "metadata": {},
     "output_type": "execute_result"
    }
   ],
   "source": [
    "dataset.shape"
   ]
  },
  {
   "cell_type": "code",
   "execution_count": 12,
   "metadata": {},
   "outputs": [
    {
     "data": {
      "text/html": "<div>\n<style scoped>\n    .dataframe tbody tr th:only-of-type {\n        vertical-align: middle;\n    }\n\n    .dataframe tbody tr th {\n        vertical-align: top;\n    }\n\n    .dataframe thead th {\n        text-align: right;\n    }\n</style>\n<table border=\"1\" class=\"dataframe\">\n  <thead>\n    <tr style=\"text-align: right;\">\n      <th></th>\n      <th>symbol</th>\n      <th>longName</th>\n      <th>state</th>\n      <th>country</th>\n      <th>industry</th>\n      <th>sector</th>\n      <th>fullTimeEmployees</th>\n      <th>Open0</th>\n      <th>High0</th>\n      <th>Low0</th>\n      <th>Close0</th>\n      <th>Adj Close0</th>\n      <th>Volume0</th>\n      <th>Open1</th>\n      <th>High1</th>\n      <th>Low1</th>\n      <th>Close1</th>\n      <th>Adj Close1</th>\n      <th>Volume1</th>\n    </tr>\n  </thead>\n  <tbody>\n    <tr>\n      <th>count</th>\n      <td>3128</td>\n      <td>3128</td>\n      <td>3128</td>\n      <td>3128</td>\n      <td>3128</td>\n      <td>3128</td>\n      <td>3.128000e+03</td>\n      <td>3128.000000</td>\n      <td>3128.000000</td>\n      <td>3128.000000</td>\n      <td>3128.000000</td>\n      <td>3128.000000</td>\n      <td>3.128000e+03</td>\n      <td>3128.000000</td>\n      <td>3128.000000</td>\n      <td>3128.000000</td>\n      <td>3128.000000</td>\n      <td>3128.000000</td>\n      <td>3.128000e+03</td>\n    </tr>\n    <tr>\n      <th>unique</th>\n      <td>3128</td>\n      <td>3059</td>\n      <td>68</td>\n      <td>6</td>\n      <td>143</td>\n      <td>11</td>\n      <td>NaN</td>\n      <td>NaN</td>\n      <td>NaN</td>\n      <td>NaN</td>\n      <td>NaN</td>\n      <td>NaN</td>\n      <td>NaN</td>\n      <td>NaN</td>\n      <td>NaN</td>\n      <td>NaN</td>\n      <td>NaN</td>\n      <td>NaN</td>\n      <td>NaN</td>\n    </tr>\n    <tr>\n      <th>top</th>\n      <td>EPZM</td>\n      <td>CHS Inc.</td>\n      <td>CA</td>\n      <td>United States</td>\n      <td>Banks—Regional</td>\n      <td>Healthcare</td>\n      <td>NaN</td>\n      <td>NaN</td>\n      <td>NaN</td>\n      <td>NaN</td>\n      <td>NaN</td>\n      <td>NaN</td>\n      <td>NaN</td>\n      <td>NaN</td>\n      <td>NaN</td>\n      <td>NaN</td>\n      <td>NaN</td>\n      <td>NaN</td>\n      <td>NaN</td>\n    </tr>\n    <tr>\n      <th>freq</th>\n      <td>1</td>\n      <td>5</td>\n      <td>474</td>\n      <td>2998</td>\n      <td>311</td>\n      <td>528</td>\n      <td>NaN</td>\n      <td>NaN</td>\n      <td>NaN</td>\n      <td>NaN</td>\n      <td>NaN</td>\n      <td>NaN</td>\n      <td>NaN</td>\n      <td>NaN</td>\n      <td>NaN</td>\n      <td>NaN</td>\n      <td>NaN</td>\n      <td>NaN</td>\n      <td>NaN</td>\n    </tr>\n    <tr>\n      <th>mean</th>\n      <td>NaN</td>\n      <td>NaN</td>\n      <td>NaN</td>\n      <td>NaN</td>\n      <td>NaN</td>\n      <td>NaN</td>\n      <td>1.207903e+04</td>\n      <td>173.344641</td>\n      <td>175.344880</td>\n      <td>172.091687</td>\n      <td>174.351314</td>\n      <td>174.217986</td>\n      <td>2.232770e+06</td>\n      <td>175.641922</td>\n      <td>178.166215</td>\n      <td>174.696440</td>\n      <td>176.597035</td>\n      <td>176.462652</td>\n      <td>2.143579e+06</td>\n    </tr>\n    <tr>\n      <th>std</th>\n      <td>NaN</td>\n      <td>NaN</td>\n      <td>NaN</td>\n      <td>NaN</td>\n      <td>NaN</td>\n      <td>NaN</td>\n      <td>5.796459e+04</td>\n      <td>6169.536219</td>\n      <td>6204.357139</td>\n      <td>6156.104438</td>\n      <td>6190.575401</td>\n      <td>6190.575877</td>\n      <td>1.171650e+07</td>\n      <td>6228.572635</td>\n      <td>6294.768046</td>\n      <td>6228.556532</td>\n      <td>6262.582244</td>\n      <td>6262.582688</td>\n      <td>1.053241e+07</td>\n    </tr>\n    <tr>\n      <th>min</th>\n      <td>NaN</td>\n      <td>NaN</td>\n      <td>NaN</td>\n      <td>NaN</td>\n      <td>NaN</td>\n      <td>NaN</td>\n      <td>1.000000e+00</td>\n      <td>0.000300</td>\n      <td>0.000300</td>\n      <td>0.000300</td>\n      <td>0.000300</td>\n      <td>0.000300</td>\n      <td>0.000000e+00</td>\n      <td>0.000300</td>\n      <td>0.000300</td>\n      <td>0.000300</td>\n      <td>0.000300</td>\n      <td>0.000300</td>\n      <td>0.000000e+00</td>\n    </tr>\n    <tr>\n      <th>25%</th>\n      <td>NaN</td>\n      <td>NaN</td>\n      <td>NaN</td>\n      <td>NaN</td>\n      <td>NaN</td>\n      <td>NaN</td>\n      <td>2.407500e+02</td>\n      <td>10.115000</td>\n      <td>10.382500</td>\n      <td>9.797500</td>\n      <td>10.212500</td>\n      <td>10.147714</td>\n      <td>1.235750e+05</td>\n      <td>10.255000</td>\n      <td>10.537500</td>\n      <td>9.920000</td>\n      <td>10.235000</td>\n      <td>10.235000</td>\n      <td>1.173750e+05</td>\n    </tr>\n    <tr>\n      <th>50%</th>\n      <td>NaN</td>\n      <td>NaN</td>\n      <td>NaN</td>\n      <td>NaN</td>\n      <td>NaN</td>\n      <td>NaN</td>\n      <td>1.517000e+03</td>\n      <td>26.355000</td>\n      <td>27.080000</td>\n      <td>25.735001</td>\n      <td>26.580000</td>\n      <td>26.468189</td>\n      <td>4.341500e+05</td>\n      <td>26.735000</td>\n      <td>27.415000</td>\n      <td>26.155000</td>\n      <td>26.870000</td>\n      <td>26.749303</td>\n      <td>4.489500e+05</td>\n    </tr>\n    <tr>\n      <th>75%</th>\n      <td>NaN</td>\n      <td>NaN</td>\n      <td>NaN</td>\n      <td>NaN</td>\n      <td>NaN</td>\n      <td>NaN</td>\n      <td>7.100000e+03</td>\n      <td>65.257498</td>\n      <td>66.422499</td>\n      <td>64.244999</td>\n      <td>65.820002</td>\n      <td>65.482550</td>\n      <td>1.350950e+06</td>\n      <td>66.360998</td>\n      <td>67.412502</td>\n      <td>65.242250</td>\n      <td>66.555002</td>\n      <td>66.139126</td>\n      <td>1.333250e+06</td>\n    </tr>\n    <tr>\n      <th>max</th>\n      <td>NaN</td>\n      <td>NaN</td>\n      <td>NaN</td>\n      <td>NaN</td>\n      <td>NaN</td>\n      <td>NaN</td>\n      <td>2.300000e+06</td>\n      <td>345000.000000</td>\n      <td>346945.000000</td>\n      <td>344250.000000</td>\n      <td>346175.000000</td>\n      <td>346175.000000</td>\n      <td>4.346080e+08</td>\n      <td>348300.000000</td>\n      <td>352000.000000</td>\n      <td>348300.000000</td>\n      <td>350201.000000</td>\n      <td>350201.000000</td>\n      <td>4.627759e+08</td>\n    </tr>\n  </tbody>\n</table>\n</div>",
      "text/plain": "       symbol  longName state        country        industry      sector  \\\ncount    3128      3128  3128           3128            3128        3128   \nunique   3128      3059    68              6             143          11   \ntop      EPZM  CHS Inc.    CA  United States  Banks—Regional  Healthcare   \nfreq        1         5   474           2998             311         528   \nmean      NaN       NaN   NaN            NaN             NaN         NaN   \nstd       NaN       NaN   NaN            NaN             NaN         NaN   \nmin       NaN       NaN   NaN            NaN             NaN         NaN   \n25%       NaN       NaN   NaN            NaN             NaN         NaN   \n50%       NaN       NaN   NaN            NaN             NaN         NaN   \n75%       NaN       NaN   NaN            NaN             NaN         NaN   \nmax       NaN       NaN   NaN            NaN             NaN         NaN   \n\n        fullTimeEmployees          Open0          High0           Low0  \\\ncount        3.128000e+03    3128.000000    3128.000000    3128.000000   \nunique                NaN            NaN            NaN            NaN   \ntop                   NaN            NaN            NaN            NaN   \nfreq                  NaN            NaN            NaN            NaN   \nmean         1.207903e+04     173.344641     175.344880     172.091687   \nstd          5.796459e+04    6169.536219    6204.357139    6156.104438   \nmin          1.000000e+00       0.000300       0.000300       0.000300   \n25%          2.407500e+02      10.115000      10.382500       9.797500   \n50%          1.517000e+03      26.355000      27.080000      25.735001   \n75%          7.100000e+03      65.257498      66.422499      64.244999   \nmax          2.300000e+06  345000.000000  346945.000000  344250.000000   \n\n               Close0     Adj Close0       Volume0          Open1  \\\ncount     3128.000000    3128.000000  3.128000e+03    3128.000000   \nunique            NaN            NaN           NaN            NaN   \ntop               NaN            NaN           NaN            NaN   \nfreq              NaN            NaN           NaN            NaN   \nmean       174.351314     174.217986  2.232770e+06     175.641922   \nstd       6190.575401    6190.575877  1.171650e+07    6228.572635   \nmin          0.000300       0.000300  0.000000e+00       0.000300   \n25%         10.212500      10.147714  1.235750e+05      10.255000   \n50%         26.580000      26.468189  4.341500e+05      26.735000   \n75%         65.820002      65.482550  1.350950e+06      66.360998   \nmax     346175.000000  346175.000000  4.346080e+08  348300.000000   \n\n                High1           Low1         Close1     Adj Close1  \\\ncount     3128.000000    3128.000000    3128.000000    3128.000000   \nunique            NaN            NaN            NaN            NaN   \ntop               NaN            NaN            NaN            NaN   \nfreq              NaN            NaN            NaN            NaN   \nmean       178.166215     174.696440     176.597035     176.462652   \nstd       6294.768046    6228.556532    6262.582244    6262.582688   \nmin          0.000300       0.000300       0.000300       0.000300   \n25%         10.537500       9.920000      10.235000      10.235000   \n50%         27.415000      26.155000      26.870000      26.749303   \n75%         67.412502      65.242250      66.555002      66.139126   \nmax     352000.000000  348300.000000  350201.000000  350201.000000   \n\n             Volume1  \ncount   3.128000e+03  \nunique           NaN  \ntop              NaN  \nfreq             NaN  \nmean    2.143579e+06  \nstd     1.053241e+07  \nmin     0.000000e+00  \n25%     1.173750e+05  \n50%     4.489500e+05  \n75%     1.333250e+06  \nmax     4.627759e+08  "
     },
     "execution_count": 12,
     "metadata": {},
     "output_type": "execute_result"
    }
   ],
   "source": [
    "dataset.describe(include=\"all\")"
   ]
  },
  {
   "cell_type": "code",
   "execution_count": 13,
   "metadata": {},
   "outputs": [],
   "source": [
    "from sklearn.preprocessing import OneHotEncoder"
   ]
  },
  {
   "cell_type": "code",
   "execution_count": 14,
   "metadata": {},
   "outputs": [
    {
     "data": {
      "text/html": "<div>\n<style scoped>\n    .dataframe tbody tr th:only-of-type {\n        vertical-align: middle;\n    }\n\n    .dataframe tbody tr th {\n        vertical-align: top;\n    }\n\n    .dataframe thead th {\n        text-align: right;\n    }\n</style>\n<table border=\"1\" class=\"dataframe\">\n  <thead>\n    <tr style=\"text-align: right;\">\n      <th></th>\n      <th>state</th>\n      <th>country</th>\n      <th>industry</th>\n      <th>sector</th>\n      <th>fullTimeEmployees</th>\n      <th>Open0</th>\n      <th>High0</th>\n      <th>Low0</th>\n      <th>Close0</th>\n      <th>Adj Close0</th>\n      <th>Volume0</th>\n      <th>Open1</th>\n      <th>High1</th>\n      <th>Low1</th>\n      <th>Close1</th>\n      <th>Adj Close1</th>\n      <th>Volume1</th>\n    </tr>\n  </thead>\n  <tbody>\n    <tr>\n      <th>0</th>\n      <td>MA</td>\n      <td>United States</td>\n      <td>REIT—Industrial</td>\n      <td>Real Estate</td>\n      <td>34.0</td>\n      <td>14.650000</td>\n      <td>14.960000</td>\n      <td>14.340000</td>\n      <td>14.920000</td>\n      <td>14.744883</td>\n      <td>215100.0</td>\n      <td>15.32</td>\n      <td>15.340000</td>\n      <td>14.88</td>\n      <td>14.990000</td>\n      <td>14.814060</td>\n      <td>466500.0</td>\n    </tr>\n    <tr>\n      <th>1</th>\n      <td>OH</td>\n      <td>United States</td>\n      <td>Diagnostics &amp; Research</td>\n      <td>Healthcare</td>\n      <td>3600.0</td>\n      <td>134.210007</td>\n      <td>138.240005</td>\n      <td>132.309998</td>\n      <td>137.580002</td>\n      <td>137.580002</td>\n      <td>140200.0</td>\n      <td>139.00</td>\n      <td>143.660004</td>\n      <td>139.00</td>\n      <td>143.300003</td>\n      <td>143.300003</td>\n      <td>196400.0</td>\n    </tr>\n    <tr>\n      <th>3</th>\n      <td>MI</td>\n      <td>United States</td>\n      <td>Staffing &amp; Employment Services</td>\n      <td>Industrials</td>\n      <td>7100.0</td>\n      <td>19.170000</td>\n      <td>19.610001</td>\n      <td>19.010000</td>\n      <td>19.580000</td>\n      <td>19.580000</td>\n      <td>5200.0</td>\n      <td>19.76</td>\n      <td>19.760000</td>\n      <td>19.15</td>\n      <td>19.709999</td>\n      <td>19.709999</td>\n      <td>1100.0</td>\n    </tr>\n    <tr>\n      <th>7</th>\n      <td>NY</td>\n      <td>United States</td>\n      <td>REIT—Office</td>\n      <td>Real Estate</td>\n      <td>160.0</td>\n      <td>13.630000</td>\n      <td>13.740000</td>\n      <td>13.300000</td>\n      <td>13.550000</td>\n      <td>13.356955</td>\n      <td>422500.0</td>\n      <td>13.61</td>\n      <td>13.720000</td>\n      <td>13.22</td>\n      <td>13.710000</td>\n      <td>13.514674</td>\n      <td>662700.0</td>\n    </tr>\n    <tr>\n      <th>9</th>\n      <td>NY</td>\n      <td>United States</td>\n      <td>Banks—Regional</td>\n      <td>Financial Services</td>\n      <td>99.0</td>\n      <td>22.100000</td>\n      <td>22.610001</td>\n      <td>21.510000</td>\n      <td>21.760000</td>\n      <td>21.760000</td>\n      <td>8800.0</td>\n      <td>22.10</td>\n      <td>23.160000</td>\n      <td>22.01</td>\n      <td>22.070000</td>\n      <td>22.070000</td>\n      <td>20200.0</td>\n    </tr>\n  </tbody>\n</table>\n</div>",
      "text/plain": "  state        country                        industry              sector  \\\n0    MA  United States                 REIT—Industrial         Real Estate   \n1    OH  United States          Diagnostics & Research          Healthcare   \n3    MI  United States  Staffing & Employment Services         Industrials   \n7    NY  United States                     REIT—Office         Real Estate   \n9    NY  United States                  Banks—Regional  Financial Services   \n\n   fullTimeEmployees       Open0       High0        Low0      Close0  \\\n0               34.0   14.650000   14.960000   14.340000   14.920000   \n1             3600.0  134.210007  138.240005  132.309998  137.580002   \n3             7100.0   19.170000   19.610001   19.010000   19.580000   \n7              160.0   13.630000   13.740000   13.300000   13.550000   \n9               99.0   22.100000   22.610001   21.510000   21.760000   \n\n   Adj Close0   Volume0   Open1       High1    Low1      Close1  Adj Close1  \\\n0   14.744883  215100.0   15.32   15.340000   14.88   14.990000   14.814060   \n1  137.580002  140200.0  139.00  143.660004  139.00  143.300003  143.300003   \n3   19.580000    5200.0   19.76   19.760000   19.15   19.709999   19.709999   \n7   13.356955  422500.0   13.61   13.720000   13.22   13.710000   13.514674   \n9   21.760000    8800.0   22.10   23.160000   22.01   22.070000   22.070000   \n\n    Volume1  \n0  466500.0  \n1  196400.0  \n3    1100.0  \n7  662700.0  \n9   20200.0  "
     },
     "execution_count": 14,
     "metadata": {},
     "output_type": "execute_result"
    }
   ],
   "source": [
    "dataset = dataset.drop(columns=[\"symbol\", \"longName\"])\n",
    "dataset.head()"
   ]
  },
  {
   "cell_type": "code",
   "execution_count": 15,
   "metadata": {},
   "outputs": [],
   "source": [
    "non_number = dataset[[\"state\", \"country\", \"industry\", \"sector\"]]\n",
    "dataset = dataset.drop(columns=[\"state\", \"country\", \"industry\", \"sector\"])"
   ]
  },
  {
   "cell_type": "code",
   "execution_count": 16,
   "metadata": {},
   "outputs": [
    {
     "data": {
      "text/html": "<div>\n<style scoped>\n    .dataframe tbody tr th:only-of-type {\n        vertical-align: middle;\n    }\n\n    .dataframe tbody tr th {\n        vertical-align: top;\n    }\n\n    .dataframe thead th {\n        text-align: right;\n    }\n</style>\n<table border=\"1\" class=\"dataframe\">\n  <thead>\n    <tr style=\"text-align: right;\">\n      <th></th>\n      <th>0</th>\n      <th>1</th>\n      <th>2</th>\n      <th>3</th>\n      <th>4</th>\n      <th>5</th>\n      <th>6</th>\n      <th>7</th>\n      <th>8</th>\n      <th>9</th>\n      <th>...</th>\n      <th>218</th>\n      <th>219</th>\n      <th>220</th>\n      <th>221</th>\n      <th>222</th>\n      <th>223</th>\n      <th>224</th>\n      <th>225</th>\n      <th>226</th>\n      <th>227</th>\n    </tr>\n  </thead>\n  <tbody>\n    <tr>\n      <th>0</th>\n      <td>0.0</td>\n      <td>0.0</td>\n      <td>0.0</td>\n      <td>0.0</td>\n      <td>0.0</td>\n      <td>0.0</td>\n      <td>0.0</td>\n      <td>0.0</td>\n      <td>0.0</td>\n      <td>0.0</td>\n      <td>...</td>\n      <td>0.0</td>\n      <td>0.0</td>\n      <td>0.0</td>\n      <td>0.0</td>\n      <td>0.0</td>\n      <td>0.0</td>\n      <td>0.0</td>\n      <td>1.0</td>\n      <td>0.0</td>\n      <td>0.0</td>\n    </tr>\n    <tr>\n      <th>1</th>\n      <td>0.0</td>\n      <td>0.0</td>\n      <td>0.0</td>\n      <td>0.0</td>\n      <td>0.0</td>\n      <td>0.0</td>\n      <td>0.0</td>\n      <td>0.0</td>\n      <td>0.0</td>\n      <td>0.0</td>\n      <td>...</td>\n      <td>0.0</td>\n      <td>0.0</td>\n      <td>0.0</td>\n      <td>0.0</td>\n      <td>0.0</td>\n      <td>1.0</td>\n      <td>0.0</td>\n      <td>0.0</td>\n      <td>0.0</td>\n      <td>0.0</td>\n    </tr>\n    <tr>\n      <th>2</th>\n      <td>0.0</td>\n      <td>0.0</td>\n      <td>0.0</td>\n      <td>0.0</td>\n      <td>0.0</td>\n      <td>0.0</td>\n      <td>0.0</td>\n      <td>0.0</td>\n      <td>0.0</td>\n      <td>0.0</td>\n      <td>...</td>\n      <td>0.0</td>\n      <td>0.0</td>\n      <td>0.0</td>\n      <td>0.0</td>\n      <td>0.0</td>\n      <td>0.0</td>\n      <td>1.0</td>\n      <td>0.0</td>\n      <td>0.0</td>\n      <td>0.0</td>\n    </tr>\n    <tr>\n      <th>3</th>\n      <td>0.0</td>\n      <td>0.0</td>\n      <td>0.0</td>\n      <td>0.0</td>\n      <td>0.0</td>\n      <td>0.0</td>\n      <td>0.0</td>\n      <td>0.0</td>\n      <td>0.0</td>\n      <td>0.0</td>\n      <td>...</td>\n      <td>0.0</td>\n      <td>0.0</td>\n      <td>0.0</td>\n      <td>0.0</td>\n      <td>0.0</td>\n      <td>0.0</td>\n      <td>0.0</td>\n      <td>1.0</td>\n      <td>0.0</td>\n      <td>0.0</td>\n    </tr>\n    <tr>\n      <th>4</th>\n      <td>0.0</td>\n      <td>0.0</td>\n      <td>0.0</td>\n      <td>0.0</td>\n      <td>0.0</td>\n      <td>0.0</td>\n      <td>0.0</td>\n      <td>0.0</td>\n      <td>0.0</td>\n      <td>0.0</td>\n      <td>...</td>\n      <td>0.0</td>\n      <td>0.0</td>\n      <td>0.0</td>\n      <td>0.0</td>\n      <td>1.0</td>\n      <td>0.0</td>\n      <td>0.0</td>\n      <td>0.0</td>\n      <td>0.0</td>\n      <td>0.0</td>\n    </tr>\n  </tbody>\n</table>\n<p>5 rows × 228 columns</p>\n</div>",
      "text/plain": "   0    1    2    3    4    5    6    7    8    9    ...  218  219  220  221  \\\n0  0.0  0.0  0.0  0.0  0.0  0.0  0.0  0.0  0.0  0.0  ...  0.0  0.0  0.0  0.0   \n1  0.0  0.0  0.0  0.0  0.0  0.0  0.0  0.0  0.0  0.0  ...  0.0  0.0  0.0  0.0   \n2  0.0  0.0  0.0  0.0  0.0  0.0  0.0  0.0  0.0  0.0  ...  0.0  0.0  0.0  0.0   \n3  0.0  0.0  0.0  0.0  0.0  0.0  0.0  0.0  0.0  0.0  ...  0.0  0.0  0.0  0.0   \n4  0.0  0.0  0.0  0.0  0.0  0.0  0.0  0.0  0.0  0.0  ...  0.0  0.0  0.0  0.0   \n\n   222  223  224  225  226  227  \n0  0.0  0.0  0.0  1.0  0.0  0.0  \n1  0.0  1.0  0.0  0.0  0.0  0.0  \n2  0.0  0.0  1.0  0.0  0.0  0.0  \n3  0.0  0.0  0.0  1.0  0.0  0.0  \n4  1.0  0.0  0.0  0.0  0.0  0.0  \n\n[5 rows x 228 columns]"
     },
     "execution_count": 16,
     "metadata": {},
     "output_type": "execute_result"
    }
   ],
   "source": [
    "non_number = pd.DataFrame(OneHotEncoder().fit_transform(non_number).A)\n",
    "non_number.head(5)"
   ]
  },
  {
   "cell_type": "code",
   "execution_count": 17,
   "metadata": {},
   "outputs": [
    {
     "data": {
      "text/plain": "(3128, 228)"
     },
     "execution_count": 17,
     "metadata": {},
     "output_type": "execute_result"
    }
   ],
   "source": [
    "non_number.shape"
   ]
  },
  {
   "cell_type": "code",
   "execution_count": 18,
   "metadata": {},
   "outputs": [
    {
     "data": {
      "text/html": "<div>\n<style scoped>\n    .dataframe tbody tr th:only-of-type {\n        vertical-align: middle;\n    }\n\n    .dataframe tbody tr th {\n        vertical-align: top;\n    }\n\n    .dataframe thead th {\n        text-align: right;\n    }\n</style>\n<table border=\"1\" class=\"dataframe\">\n  <thead>\n    <tr style=\"text-align: right;\">\n      <th></th>\n      <th>0</th>\n      <th>1</th>\n      <th>2</th>\n      <th>3</th>\n      <th>4</th>\n      <th>5</th>\n      <th>6</th>\n      <th>7</th>\n      <th>8</th>\n      <th>9</th>\n      <th>...</th>\n      <th>Low0</th>\n      <th>Close0</th>\n      <th>Adj Close0</th>\n      <th>Volume0</th>\n      <th>Open1</th>\n      <th>High1</th>\n      <th>Low1</th>\n      <th>Close1</th>\n      <th>Adj Close1</th>\n      <th>Volume1</th>\n    </tr>\n  </thead>\n  <tbody>\n    <tr>\n      <th>0</th>\n      <td>0.0</td>\n      <td>0.0</td>\n      <td>0.0</td>\n      <td>0.0</td>\n      <td>0.0</td>\n      <td>0.0</td>\n      <td>0.0</td>\n      <td>0.0</td>\n      <td>0.0</td>\n      <td>0.0</td>\n      <td>...</td>\n      <td>14.340000</td>\n      <td>14.920000</td>\n      <td>14.744883</td>\n      <td>215100.0</td>\n      <td>15.32</td>\n      <td>15.340000</td>\n      <td>14.88</td>\n      <td>14.990000</td>\n      <td>14.814060</td>\n      <td>466500.0</td>\n    </tr>\n    <tr>\n      <th>1</th>\n      <td>0.0</td>\n      <td>0.0</td>\n      <td>0.0</td>\n      <td>0.0</td>\n      <td>0.0</td>\n      <td>0.0</td>\n      <td>0.0</td>\n      <td>0.0</td>\n      <td>0.0</td>\n      <td>0.0</td>\n      <td>...</td>\n      <td>132.309998</td>\n      <td>137.580002</td>\n      <td>137.580002</td>\n      <td>140200.0</td>\n      <td>139.00</td>\n      <td>143.660004</td>\n      <td>139.00</td>\n      <td>143.300003</td>\n      <td>143.300003</td>\n      <td>196400.0</td>\n    </tr>\n    <tr>\n      <th>2</th>\n      <td>0.0</td>\n      <td>0.0</td>\n      <td>0.0</td>\n      <td>0.0</td>\n      <td>0.0</td>\n      <td>0.0</td>\n      <td>0.0</td>\n      <td>0.0</td>\n      <td>0.0</td>\n      <td>0.0</td>\n      <td>...</td>\n      <td>NaN</td>\n      <td>NaN</td>\n      <td>NaN</td>\n      <td>NaN</td>\n      <td>NaN</td>\n      <td>NaN</td>\n      <td>NaN</td>\n      <td>NaN</td>\n      <td>NaN</td>\n      <td>NaN</td>\n    </tr>\n    <tr>\n      <th>3</th>\n      <td>0.0</td>\n      <td>0.0</td>\n      <td>0.0</td>\n      <td>0.0</td>\n      <td>0.0</td>\n      <td>0.0</td>\n      <td>0.0</td>\n      <td>0.0</td>\n      <td>0.0</td>\n      <td>0.0</td>\n      <td>...</td>\n      <td>19.010000</td>\n      <td>19.580000</td>\n      <td>19.580000</td>\n      <td>5200.0</td>\n      <td>19.76</td>\n      <td>19.760000</td>\n      <td>19.15</td>\n      <td>19.709999</td>\n      <td>19.709999</td>\n      <td>1100.0</td>\n    </tr>\n    <tr>\n      <th>4</th>\n      <td>0.0</td>\n      <td>0.0</td>\n      <td>0.0</td>\n      <td>0.0</td>\n      <td>0.0</td>\n      <td>0.0</td>\n      <td>0.0</td>\n      <td>0.0</td>\n      <td>0.0</td>\n      <td>0.0</td>\n      <td>...</td>\n      <td>NaN</td>\n      <td>NaN</td>\n      <td>NaN</td>\n      <td>NaN</td>\n      <td>NaN</td>\n      <td>NaN</td>\n      <td>NaN</td>\n      <td>NaN</td>\n      <td>NaN</td>\n      <td>NaN</td>\n    </tr>\n  </tbody>\n</table>\n<p>5 rows × 241 columns</p>\n</div>",
      "text/plain": "     0    1    2    3    4    5    6    7    8    9  ...        Low0  \\\n0  0.0  0.0  0.0  0.0  0.0  0.0  0.0  0.0  0.0  0.0  ...   14.340000   \n1  0.0  0.0  0.0  0.0  0.0  0.0  0.0  0.0  0.0  0.0  ...  132.309998   \n2  0.0  0.0  0.0  0.0  0.0  0.0  0.0  0.0  0.0  0.0  ...         NaN   \n3  0.0  0.0  0.0  0.0  0.0  0.0  0.0  0.0  0.0  0.0  ...   19.010000   \n4  0.0  0.0  0.0  0.0  0.0  0.0  0.0  0.0  0.0  0.0  ...         NaN   \n\n       Close0  Adj Close0   Volume0   Open1       High1    Low1      Close1  \\\n0   14.920000   14.744883  215100.0   15.32   15.340000   14.88   14.990000   \n1  137.580002  137.580002  140200.0  139.00  143.660004  139.00  143.300003   \n2         NaN         NaN       NaN     NaN         NaN     NaN         NaN   \n3   19.580000   19.580000    5200.0   19.76   19.760000   19.15   19.709999   \n4         NaN         NaN       NaN     NaN         NaN     NaN         NaN   \n\n   Adj Close1   Volume1  \n0   14.814060  466500.0  \n1  143.300003  196400.0  \n2         NaN       NaN  \n3   19.709999    1100.0  \n4         NaN       NaN  \n\n[5 rows x 241 columns]"
     },
     "execution_count": 18,
     "metadata": {},
     "output_type": "execute_result"
    }
   ],
   "source": [
    "dataset = non_number.join(dataset)\n",
    "dataset.head(5)"
   ]
  },
  {
   "cell_type": "markdown",
   "metadata": {},
   "source": [
    "La jointure ne se fait pas correctement, je ne sais pas pourquoi."
   ]
  },
  {
   "cell_type": "code",
   "execution_count": 19,
   "metadata": {},
   "outputs": [
    {
     "data": {
      "text/plain": "(3128, 241)"
     },
     "execution_count": 19,
     "metadata": {},
     "output_type": "execute_result"
    }
   ],
   "source": [
    "dataset.shape"
   ]
  },
  {
   "cell_type": "code",
   "execution_count": 20,
   "metadata": {},
   "outputs": [],
   "source": [
    "from sklearn.decomposition import PCA"
   ]
  },
  {
   "cell_type": "code",
   "execution_count": 21,
   "metadata": {},
   "outputs": [],
   "source": [
    "pca = PCA(n_components=2)"
   ]
  },
  {
   "cell_type": "code",
   "execution_count": 22,
   "metadata": {},
   "outputs": [
    {
     "ename": "ValueError",
     "evalue": "Input contains NaN, infinity or a value too large for dtype('float64').",
     "output_type": "error",
     "traceback": [
      "\u001b[0;31m---------------------------------------------------------------------------\u001b[0m",
      "\u001b[0;31mValueError\u001b[0m                                Traceback (most recent call last)",
      "\u001b[0;32m<ipython-input-22-7e9dc7b3af66>\u001b[0m in \u001b[0;36m<module>\u001b[0;34m\u001b[0m\n\u001b[0;32m----> 1\u001b[0;31m \u001b[0mpca\u001b[0m\u001b[0;34m.\u001b[0m\u001b[0mfit_transform\u001b[0m\u001b[0;34m(\u001b[0m\u001b[0mdataset\u001b[0m\u001b[0;34m)\u001b[0m\u001b[0;34m\u001b[0m\u001b[0;34m\u001b[0m\u001b[0m\n\u001b[0m",
      "\u001b[0;32m~/.local/lib/python3.9/site-packages/sklearn/decomposition/_pca.py\u001b[0m in \u001b[0;36mfit_transform\u001b[0;34m(self, X, y)\u001b[0m\n\u001b[1;32m    374\u001b[0m         \u001b[0mC\u001b[0m\u001b[0;34m-\u001b[0m\u001b[0mordered\u001b[0m \u001b[0marray\u001b[0m\u001b[0;34m,\u001b[0m \u001b[0muse\u001b[0m \u001b[0;34m'np.ascontiguousarray'\u001b[0m\u001b[0;34m.\u001b[0m\u001b[0;34m\u001b[0m\u001b[0;34m\u001b[0m\u001b[0m\n\u001b[1;32m    375\u001b[0m         \"\"\"\n\u001b[0;32m--> 376\u001b[0;31m         \u001b[0mU\u001b[0m\u001b[0;34m,\u001b[0m \u001b[0mS\u001b[0m\u001b[0;34m,\u001b[0m \u001b[0mVt\u001b[0m \u001b[0;34m=\u001b[0m \u001b[0mself\u001b[0m\u001b[0;34m.\u001b[0m\u001b[0m_fit\u001b[0m\u001b[0;34m(\u001b[0m\u001b[0mX\u001b[0m\u001b[0;34m)\u001b[0m\u001b[0;34m\u001b[0m\u001b[0;34m\u001b[0m\u001b[0m\n\u001b[0m\u001b[1;32m    377\u001b[0m         \u001b[0mU\u001b[0m \u001b[0;34m=\u001b[0m \u001b[0mU\u001b[0m\u001b[0;34m[\u001b[0m\u001b[0;34m:\u001b[0m\u001b[0;34m,\u001b[0m \u001b[0;34m:\u001b[0m\u001b[0mself\u001b[0m\u001b[0;34m.\u001b[0m\u001b[0mn_components_\u001b[0m\u001b[0;34m]\u001b[0m\u001b[0;34m\u001b[0m\u001b[0;34m\u001b[0m\u001b[0m\n\u001b[1;32m    378\u001b[0m \u001b[0;34m\u001b[0m\u001b[0m\n",
      "\u001b[0;32m~/.local/lib/python3.9/site-packages/sklearn/decomposition/_pca.py\u001b[0m in \u001b[0;36m_fit\u001b[0;34m(self, X)\u001b[0m\n\u001b[1;32m    395\u001b[0m                             'TruncatedSVD for a possible alternative.')\n\u001b[1;32m    396\u001b[0m \u001b[0;34m\u001b[0m\u001b[0m\n\u001b[0;32m--> 397\u001b[0;31m         X = self._validate_data(X, dtype=[np.float64, np.float32],\n\u001b[0m\u001b[1;32m    398\u001b[0m                                 ensure_2d=True, copy=self.copy)\n\u001b[1;32m    399\u001b[0m \u001b[0;34m\u001b[0m\u001b[0m\n",
      "\u001b[0;32m~/.local/lib/python3.9/site-packages/sklearn/base.py\u001b[0m in \u001b[0;36m_validate_data\u001b[0;34m(self, X, y, reset, validate_separately, **check_params)\u001b[0m\n\u001b[1;32m    419\u001b[0m             \u001b[0mout\u001b[0m \u001b[0;34m=\u001b[0m \u001b[0mX\u001b[0m\u001b[0;34m\u001b[0m\u001b[0;34m\u001b[0m\u001b[0m\n\u001b[1;32m    420\u001b[0m         \u001b[0;32melif\u001b[0m \u001b[0misinstance\u001b[0m\u001b[0;34m(\u001b[0m\u001b[0my\u001b[0m\u001b[0;34m,\u001b[0m \u001b[0mstr\u001b[0m\u001b[0;34m)\u001b[0m \u001b[0;32mand\u001b[0m \u001b[0my\u001b[0m \u001b[0;34m==\u001b[0m \u001b[0;34m'no_validation'\u001b[0m\u001b[0;34m:\u001b[0m\u001b[0;34m\u001b[0m\u001b[0;34m\u001b[0m\u001b[0m\n\u001b[0;32m--> 421\u001b[0;31m             \u001b[0mX\u001b[0m \u001b[0;34m=\u001b[0m \u001b[0mcheck_array\u001b[0m\u001b[0;34m(\u001b[0m\u001b[0mX\u001b[0m\u001b[0;34m,\u001b[0m \u001b[0;34m**\u001b[0m\u001b[0mcheck_params\u001b[0m\u001b[0;34m)\u001b[0m\u001b[0;34m\u001b[0m\u001b[0;34m\u001b[0m\u001b[0m\n\u001b[0m\u001b[1;32m    422\u001b[0m             \u001b[0mout\u001b[0m \u001b[0;34m=\u001b[0m \u001b[0mX\u001b[0m\u001b[0;34m\u001b[0m\u001b[0;34m\u001b[0m\u001b[0m\n\u001b[1;32m    423\u001b[0m         \u001b[0;32melse\u001b[0m\u001b[0;34m:\u001b[0m\u001b[0;34m\u001b[0m\u001b[0;34m\u001b[0m\u001b[0m\n",
      "\u001b[0;32m~/.local/lib/python3.9/site-packages/sklearn/utils/validation.py\u001b[0m in \u001b[0;36minner_f\u001b[0;34m(*args, **kwargs)\u001b[0m\n\u001b[1;32m     61\u001b[0m             \u001b[0mextra_args\u001b[0m \u001b[0;34m=\u001b[0m \u001b[0mlen\u001b[0m\u001b[0;34m(\u001b[0m\u001b[0margs\u001b[0m\u001b[0;34m)\u001b[0m \u001b[0;34m-\u001b[0m \u001b[0mlen\u001b[0m\u001b[0;34m(\u001b[0m\u001b[0mall_args\u001b[0m\u001b[0;34m)\u001b[0m\u001b[0;34m\u001b[0m\u001b[0;34m\u001b[0m\u001b[0m\n\u001b[1;32m     62\u001b[0m             \u001b[0;32mif\u001b[0m \u001b[0mextra_args\u001b[0m \u001b[0;34m<=\u001b[0m \u001b[0;36m0\u001b[0m\u001b[0;34m:\u001b[0m\u001b[0;34m\u001b[0m\u001b[0;34m\u001b[0m\u001b[0m\n\u001b[0;32m---> 63\u001b[0;31m                 \u001b[0;32mreturn\u001b[0m \u001b[0mf\u001b[0m\u001b[0;34m(\u001b[0m\u001b[0;34m*\u001b[0m\u001b[0margs\u001b[0m\u001b[0;34m,\u001b[0m \u001b[0;34m**\u001b[0m\u001b[0mkwargs\u001b[0m\u001b[0;34m)\u001b[0m\u001b[0;34m\u001b[0m\u001b[0;34m\u001b[0m\u001b[0m\n\u001b[0m\u001b[1;32m     64\u001b[0m \u001b[0;34m\u001b[0m\u001b[0m\n\u001b[1;32m     65\u001b[0m             \u001b[0;31m# extra_args > 0\u001b[0m\u001b[0;34m\u001b[0m\u001b[0;34m\u001b[0m\u001b[0;34m\u001b[0m\u001b[0m\n",
      "\u001b[0;32m~/.local/lib/python3.9/site-packages/sklearn/utils/validation.py\u001b[0m in \u001b[0;36mcheck_array\u001b[0;34m(array, accept_sparse, accept_large_sparse, dtype, order, copy, force_all_finite, ensure_2d, allow_nd, ensure_min_samples, ensure_min_features, estimator)\u001b[0m\n\u001b[1;32m    661\u001b[0m \u001b[0;34m\u001b[0m\u001b[0m\n\u001b[1;32m    662\u001b[0m         \u001b[0;32mif\u001b[0m \u001b[0mforce_all_finite\u001b[0m\u001b[0;34m:\u001b[0m\u001b[0;34m\u001b[0m\u001b[0;34m\u001b[0m\u001b[0m\n\u001b[0;32m--> 663\u001b[0;31m             _assert_all_finite(array,\n\u001b[0m\u001b[1;32m    664\u001b[0m                                allow_nan=force_all_finite == 'allow-nan')\n\u001b[1;32m    665\u001b[0m \u001b[0;34m\u001b[0m\u001b[0m\n",
      "\u001b[0;32m~/.local/lib/python3.9/site-packages/sklearn/utils/validation.py\u001b[0m in \u001b[0;36m_assert_all_finite\u001b[0;34m(X, allow_nan, msg_dtype)\u001b[0m\n\u001b[1;32m    101\u001b[0m                 not allow_nan and not np.isfinite(X).all()):\n\u001b[1;32m    102\u001b[0m             \u001b[0mtype_err\u001b[0m \u001b[0;34m=\u001b[0m \u001b[0;34m'infinity'\u001b[0m \u001b[0;32mif\u001b[0m \u001b[0mallow_nan\u001b[0m \u001b[0;32melse\u001b[0m \u001b[0;34m'NaN, infinity'\u001b[0m\u001b[0;34m\u001b[0m\u001b[0;34m\u001b[0m\u001b[0m\n\u001b[0;32m--> 103\u001b[0;31m             raise ValueError(\n\u001b[0m\u001b[1;32m    104\u001b[0m                     \u001b[0mmsg_err\u001b[0m\u001b[0;34m.\u001b[0m\u001b[0mformat\u001b[0m\u001b[0;34m\u001b[0m\u001b[0;34m\u001b[0m\u001b[0m\n\u001b[1;32m    105\u001b[0m                     (type_err,\n",
      "\u001b[0;31mValueError\u001b[0m: Input contains NaN, infinity or a value too large for dtype('float64')."
     ]
    }
   ],
   "source": [
    "pca_data = pca.fit_transform(dataset)"
   ]
  },
  {
   "cell_type": "code",
   "execution_count": 24,
   "metadata": {},
   "outputs": [],
   "source": [
    "import matplotlib.pyplot as plt"
   ]
  },
  {
   "cell_type": "code",
   "execution_count": 25,
   "metadata": {},
   "outputs": [
    {
     "ename": "NameError",
     "evalue": "name 'pca_data' is not defined",
     "output_type": "error",
     "traceback": [
      "\u001b[0;31m---------------------------------------------------------------------------\u001b[0m",
      "\u001b[0;31mNameError\u001b[0m                                 Traceback (most recent call last)",
      "\u001b[0;32m<ipython-input-25-afb175e957a2>\u001b[0m in \u001b[0;36m<module>\u001b[0;34m\u001b[0m\n\u001b[0;32m----> 1\u001b[0;31m \u001b[0mplt\u001b[0m\u001b[0;34m.\u001b[0m\u001b[0mplot\u001b[0m\u001b[0;34m(\u001b[0m\u001b[0mpca_data\u001b[0m\u001b[0;34m)\u001b[0m\u001b[0;34m\u001b[0m\u001b[0;34m\u001b[0m\u001b[0m\n\u001b[0m",
      "\u001b[0;31mNameError\u001b[0m: name 'pca_data' is not defined"
     ]
    }
   ],
   "source": [
    "plt.plot(pca_data)"
   ]
  },
  {
   "cell_type": "code",
   "execution_count": null,
   "metadata": {},
   "outputs": [],
   "source": []
  }
 ],
 "metadata": {
  "kernelspec": {
   "display_name": "Python 3.9.2 64-bit",
   "name": "python392jvsc74a57bd0767d51c1340bd893661ea55ea3124f6de3c7a262a8b4abca0554b478b1e2ff90"
  },
  "language_info": {
   "codemirror_mode": {
    "name": "ipython",
    "version": 3
   },
   "file_extension": ".py",
   "mimetype": "text/x-python",
   "name": "python",
   "nbconvert_exporter": "python",
   "pygments_lexer": "ipython3",
   "version": "3.9.2"
  },
  "orig_nbformat": 2
 },
 "nbformat": 4,
 "nbformat_minor": 2
}